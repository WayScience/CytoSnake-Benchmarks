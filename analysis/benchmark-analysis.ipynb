{
 "cells": [
  {
   "cell_type": "markdown",
   "metadata": {},
   "source": [
    "# CytoSnake Benchmark Comparison Analysis"
   ]
  },
  {
   "cell_type": "code",
   "execution_count": 56,
   "metadata": {},
   "outputs": [],
   "source": [
    "import json\n",
    "import pathlib\n",
    "\n",
    "import pandas as pd\n",
    "import plotly.graph_objects as go"
   ]
  },
  {
   "cell_type": "code",
   "execution_count": 57,
   "metadata": {},
   "outputs": [],
   "source": [
    "# Helper functions\n",
    "def generate_colors(num_colors: int) -> list[str]:\n",
    "    \"\"\"Generates an array of colors based on the length of keys\n",
    "\n",
    "    Parameters\n",
    "    ----------\n",
    "    num_colors : int\n",
    "        number of colors to select\n",
    "\n",
    "    Returns\n",
    "    -------\n",
    "    list[str]\n",
    "        list of colors in RGB format\n",
    "    \"\"\"\n",
    "    colors = []\n",
    "    for i in range(num_colors):\n",
    "        hue = (i * 360 / num_colors) % 360\n",
    "        color = f\"hsl({hue}, 50%, 50%)\"\n",
    "        colors.append(color)\n",
    "    return colors\n",
    "\n",
    "\n",
    "def plot_file_sizes(data: pd.DataFrame, title: str) -> None:\n",
    "    \"\"\"Creates a bar graph based on file sizes\n",
    "\n",
    "    Parameters\n",
    "    ----------\n",
    "    data : pd.DataFrame\n",
    "\n",
    "    title : str\n",
    "        _description_\n",
    "    \"\"\"\n",
    "    plates = list(data.keys())\n",
    "    values = list(data.values())\n",
    "\n",
    "    # Define colors for each bar\n",
    "    # colors = [\"red\", \"green\", \"blue\", \"orange\", \"purple\"]\n",
    "    colors = generate_colors(len(plates))\n",
    "\n",
    "    # Create a bar plot using Plotly\n",
    "    fig = go.Figure(data=[go.Bar(x=plates, y=values, marker_color=colors)])\n",
    "\n",
    "    # Add values on top of each bar\n",
    "    for i, v in enumerate(values):\n",
    "        fig.add_annotation(x=plates[i], y=v + 10, text=str(v), showarrow=False)\n",
    "\n",
    "    # Adding labels and title\n",
    "    fig.update_layout(\n",
    "        title_text=title, xaxis_title=\"Plate Names\", yaxis_title=\"File Size (MB)\"\n",
    "    )\n",
    "\n",
    "    # Show the plot``\n",
    "    return fig.show()"
   ]
  },
  {
   "cell_type": "code",
   "execution_count": 90,
   "metadata": {},
   "outputs": [],
   "source": [
    "# paths\n",
    "all_benchmarks_path = pathlib.Path(\"../all-benchmarks/\")\n",
    "control_path = (all_benchmarks_path / \"control\").resolve(strict=True)\n",
    "\n",
    "# control benchmark profiles\n",
    "nf1_bench_profile_path = (\n",
    "    control_path / \"nf1_benchmarks/nf1_complete_benchmark.csv\"\n",
    ").resolve(strict=True)\n",
    "cfret_bench_profile_path = (\n",
    "    control_path / \"CFReT_benchmarks/CFReT_complete_benchmark.csv\"\n",
    ").resolve(strict=True)\n",
    "\n",
    "# CytoSnake workflow benchmark profiles\n",
    "cfret_cs_benchmark_profiles = (\n",
    "    all_benchmarks_path\n",
    "    / \"CFReT_cp-process-singlecells_benchmarks/CFReT_cp_processing_singlecells_benchmark_profile.csv\"\n",
    ").resolve(strict=True)\n",
    "nf1_cs_benchmarks_profiles = (\n",
    "    all_benchmarks_path\n",
    "    / \"nf1_sc_cp-process-singlecells_benchmarks/nf1_cp_processing_singlecells_benchmark_profile.csv\"\n",
    ").resolve(strict=True)\n",
    "\n",
    "# file size profiles\n",
    "nf1_file_size_path = (control_path / \"nf1_benchmarks/file_size.json\").resolve(\n",
    "    strict=True\n",
    ")\n",
    "cfret_file_size_path = (control_path / \"CFReT_benchmarks/file_size.json\").resolve(\n",
    "    strict=True\n",
    ")\n",
    "\n",
    "# outputs folders\n",
    "fig_folder_path = pathlib.Path(\"./figures\").resolve()\n",
    "fig_folder_path.mkdir(exist_ok=True)"
   ]
  },
  {
   "cell_type": "code",
   "execution_count": 92,
   "metadata": {},
   "outputs": [],
   "source": [
    "# loading in file sizes\n",
    "with open(nf1_file_size_path, mode=\"r\") as stream:\n",
    "    nf1_file_sizes = json.load(stream)\n",
    "\n",
    "with open(cfret_file_size_path, mode=\"r\") as stream:\n",
    "    cfret_file_sizes = json.load(stream)\n",
    "\n",
    "# loading benchmark profiles\n",
    "control_nf1 = pd.read_csv(nf1_bench_profile_path)\n",
    "control_cfret = pd.read_csv(cfret_bench_profile_path)\n",
    "\n",
    "cytosnake_nf1 = pd.read_csv(nf1_cs_benchmarks_profiles).drop(\"Unnamed: 0\", axis=1)\n",
    "cytosnake_cfret = pd.read_csv(cfret_cs_benchmark_profiles).drop(\"Unnamed: 0\", axis=1)"
   ]
  },
  {
   "cell_type": "markdown",
   "metadata": {},
   "source": [
    "## Plotting file size "
   ]
  },
  {
   "cell_type": "code",
   "execution_count": 93,
   "metadata": {},
   "outputs": [
    {
     "data": {
      "application/vnd.plotly.v1+json": {
       "config": {
        "plotlyServerURL": "https://plot.ly"
       },
       "data": [
        {
         "marker": {
          "color": [
           "hsl(0.0, 50%, 50%)",
           "hsl(72.0, 50%, 50%)",
           "hsl(144.0, 50%, 50%)",
           "hsl(216.0, 50%, 50%)",
           "hsl(288.0, 50%, 50%)"
          ]
         },
         "type": "bar",
         "x": [
          "Plate_1",
          "Plate_3",
          "Plate_3_prime",
          "Plate_4",
          "Plate_2"
         ],
         "y": [
          4.727,
          551.629,
          444.938,
          222.945,
          30.598
         ]
        }
       ],
       "layout": {
        "annotations": [
         {
          "showarrow": false,
          "text": "4.727",
          "x": "Plate_1",
          "y": 14.727
         },
         {
          "showarrow": false,
          "text": "551.629",
          "x": "Plate_3",
          "y": 561.629
         },
         {
          "showarrow": false,
          "text": "444.938",
          "x": "Plate_3_prime",
          "y": 454.938
         },
         {
          "showarrow": false,
          "text": "222.945",
          "x": "Plate_4",
          "y": 232.945
         },
         {
          "showarrow": false,
          "text": "30.598",
          "x": "Plate_2",
          "y": 40.598
         }
        ],
        "template": {
         "data": {
          "bar": [
           {
            "error_x": {
             "color": "#2a3f5f"
            },
            "error_y": {
             "color": "#2a3f5f"
            },
            "marker": {
             "line": {
              "color": "#E5ECF6",
              "width": 0.5
             },
             "pattern": {
              "fillmode": "overlay",
              "size": 10,
              "solidity": 0.2
             }
            },
            "type": "bar"
           }
          ],
          "barpolar": [
           {
            "marker": {
             "line": {
              "color": "#E5ECF6",
              "width": 0.5
             },
             "pattern": {
              "fillmode": "overlay",
              "size": 10,
              "solidity": 0.2
             }
            },
            "type": "barpolar"
           }
          ],
          "carpet": [
           {
            "aaxis": {
             "endlinecolor": "#2a3f5f",
             "gridcolor": "white",
             "linecolor": "white",
             "minorgridcolor": "white",
             "startlinecolor": "#2a3f5f"
            },
            "baxis": {
             "endlinecolor": "#2a3f5f",
             "gridcolor": "white",
             "linecolor": "white",
             "minorgridcolor": "white",
             "startlinecolor": "#2a3f5f"
            },
            "type": "carpet"
           }
          ],
          "choropleth": [
           {
            "colorbar": {
             "outlinewidth": 0,
             "ticks": ""
            },
            "type": "choropleth"
           }
          ],
          "contour": [
           {
            "colorbar": {
             "outlinewidth": 0,
             "ticks": ""
            },
            "colorscale": [
             [
              0,
              "#0d0887"
             ],
             [
              0.1111111111111111,
              "#46039f"
             ],
             [
              0.2222222222222222,
              "#7201a8"
             ],
             [
              0.3333333333333333,
              "#9c179e"
             ],
             [
              0.4444444444444444,
              "#bd3786"
             ],
             [
              0.5555555555555556,
              "#d8576b"
             ],
             [
              0.6666666666666666,
              "#ed7953"
             ],
             [
              0.7777777777777778,
              "#fb9f3a"
             ],
             [
              0.8888888888888888,
              "#fdca26"
             ],
             [
              1,
              "#f0f921"
             ]
            ],
            "type": "contour"
           }
          ],
          "contourcarpet": [
           {
            "colorbar": {
             "outlinewidth": 0,
             "ticks": ""
            },
            "type": "contourcarpet"
           }
          ],
          "heatmap": [
           {
            "colorbar": {
             "outlinewidth": 0,
             "ticks": ""
            },
            "colorscale": [
             [
              0,
              "#0d0887"
             ],
             [
              0.1111111111111111,
              "#46039f"
             ],
             [
              0.2222222222222222,
              "#7201a8"
             ],
             [
              0.3333333333333333,
              "#9c179e"
             ],
             [
              0.4444444444444444,
              "#bd3786"
             ],
             [
              0.5555555555555556,
              "#d8576b"
             ],
             [
              0.6666666666666666,
              "#ed7953"
             ],
             [
              0.7777777777777778,
              "#fb9f3a"
             ],
             [
              0.8888888888888888,
              "#fdca26"
             ],
             [
              1,
              "#f0f921"
             ]
            ],
            "type": "heatmap"
           }
          ],
          "heatmapgl": [
           {
            "colorbar": {
             "outlinewidth": 0,
             "ticks": ""
            },
            "colorscale": [
             [
              0,
              "#0d0887"
             ],
             [
              0.1111111111111111,
              "#46039f"
             ],
             [
              0.2222222222222222,
              "#7201a8"
             ],
             [
              0.3333333333333333,
              "#9c179e"
             ],
             [
              0.4444444444444444,
              "#bd3786"
             ],
             [
              0.5555555555555556,
              "#d8576b"
             ],
             [
              0.6666666666666666,
              "#ed7953"
             ],
             [
              0.7777777777777778,
              "#fb9f3a"
             ],
             [
              0.8888888888888888,
              "#fdca26"
             ],
             [
              1,
              "#f0f921"
             ]
            ],
            "type": "heatmapgl"
           }
          ],
          "histogram": [
           {
            "marker": {
             "pattern": {
              "fillmode": "overlay",
              "size": 10,
              "solidity": 0.2
             }
            },
            "type": "histogram"
           }
          ],
          "histogram2d": [
           {
            "colorbar": {
             "outlinewidth": 0,
             "ticks": ""
            },
            "colorscale": [
             [
              0,
              "#0d0887"
             ],
             [
              0.1111111111111111,
              "#46039f"
             ],
             [
              0.2222222222222222,
              "#7201a8"
             ],
             [
              0.3333333333333333,
              "#9c179e"
             ],
             [
              0.4444444444444444,
              "#bd3786"
             ],
             [
              0.5555555555555556,
              "#d8576b"
             ],
             [
              0.6666666666666666,
              "#ed7953"
             ],
             [
              0.7777777777777778,
              "#fb9f3a"
             ],
             [
              0.8888888888888888,
              "#fdca26"
             ],
             [
              1,
              "#f0f921"
             ]
            ],
            "type": "histogram2d"
           }
          ],
          "histogram2dcontour": [
           {
            "colorbar": {
             "outlinewidth": 0,
             "ticks": ""
            },
            "colorscale": [
             [
              0,
              "#0d0887"
             ],
             [
              0.1111111111111111,
              "#46039f"
             ],
             [
              0.2222222222222222,
              "#7201a8"
             ],
             [
              0.3333333333333333,
              "#9c179e"
             ],
             [
              0.4444444444444444,
              "#bd3786"
             ],
             [
              0.5555555555555556,
              "#d8576b"
             ],
             [
              0.6666666666666666,
              "#ed7953"
             ],
             [
              0.7777777777777778,
              "#fb9f3a"
             ],
             [
              0.8888888888888888,
              "#fdca26"
             ],
             [
              1,
              "#f0f921"
             ]
            ],
            "type": "histogram2dcontour"
           }
          ],
          "mesh3d": [
           {
            "colorbar": {
             "outlinewidth": 0,
             "ticks": ""
            },
            "type": "mesh3d"
           }
          ],
          "parcoords": [
           {
            "line": {
             "colorbar": {
              "outlinewidth": 0,
              "ticks": ""
             }
            },
            "type": "parcoords"
           }
          ],
          "pie": [
           {
            "automargin": true,
            "type": "pie"
           }
          ],
          "scatter": [
           {
            "fillpattern": {
             "fillmode": "overlay",
             "size": 10,
             "solidity": 0.2
            },
            "type": "scatter"
           }
          ],
          "scatter3d": [
           {
            "line": {
             "colorbar": {
              "outlinewidth": 0,
              "ticks": ""
             }
            },
            "marker": {
             "colorbar": {
              "outlinewidth": 0,
              "ticks": ""
             }
            },
            "type": "scatter3d"
           }
          ],
          "scattercarpet": [
           {
            "marker": {
             "colorbar": {
              "outlinewidth": 0,
              "ticks": ""
             }
            },
            "type": "scattercarpet"
           }
          ],
          "scattergeo": [
           {
            "marker": {
             "colorbar": {
              "outlinewidth": 0,
              "ticks": ""
             }
            },
            "type": "scattergeo"
           }
          ],
          "scattergl": [
           {
            "marker": {
             "colorbar": {
              "outlinewidth": 0,
              "ticks": ""
             }
            },
            "type": "scattergl"
           }
          ],
          "scattermapbox": [
           {
            "marker": {
             "colorbar": {
              "outlinewidth": 0,
              "ticks": ""
             }
            },
            "type": "scattermapbox"
           }
          ],
          "scatterpolar": [
           {
            "marker": {
             "colorbar": {
              "outlinewidth": 0,
              "ticks": ""
             }
            },
            "type": "scatterpolar"
           }
          ],
          "scatterpolargl": [
           {
            "marker": {
             "colorbar": {
              "outlinewidth": 0,
              "ticks": ""
             }
            },
            "type": "scatterpolargl"
           }
          ],
          "scatterternary": [
           {
            "marker": {
             "colorbar": {
              "outlinewidth": 0,
              "ticks": ""
             }
            },
            "type": "scatterternary"
           }
          ],
          "surface": [
           {
            "colorbar": {
             "outlinewidth": 0,
             "ticks": ""
            },
            "colorscale": [
             [
              0,
              "#0d0887"
             ],
             [
              0.1111111111111111,
              "#46039f"
             ],
             [
              0.2222222222222222,
              "#7201a8"
             ],
             [
              0.3333333333333333,
              "#9c179e"
             ],
             [
              0.4444444444444444,
              "#bd3786"
             ],
             [
              0.5555555555555556,
              "#d8576b"
             ],
             [
              0.6666666666666666,
              "#ed7953"
             ],
             [
              0.7777777777777778,
              "#fb9f3a"
             ],
             [
              0.8888888888888888,
              "#fdca26"
             ],
             [
              1,
              "#f0f921"
             ]
            ],
            "type": "surface"
           }
          ],
          "table": [
           {
            "cells": {
             "fill": {
              "color": "#EBF0F8"
             },
             "line": {
              "color": "white"
             }
            },
            "header": {
             "fill": {
              "color": "#C8D4E3"
             },
             "line": {
              "color": "white"
             }
            },
            "type": "table"
           }
          ]
         },
         "layout": {
          "annotationdefaults": {
           "arrowcolor": "#2a3f5f",
           "arrowhead": 0,
           "arrowwidth": 1
          },
          "autotypenumbers": "strict",
          "coloraxis": {
           "colorbar": {
            "outlinewidth": 0,
            "ticks": ""
           }
          },
          "colorscale": {
           "diverging": [
            [
             0,
             "#8e0152"
            ],
            [
             0.1,
             "#c51b7d"
            ],
            [
             0.2,
             "#de77ae"
            ],
            [
             0.3,
             "#f1b6da"
            ],
            [
             0.4,
             "#fde0ef"
            ],
            [
             0.5,
             "#f7f7f7"
            ],
            [
             0.6,
             "#e6f5d0"
            ],
            [
             0.7,
             "#b8e186"
            ],
            [
             0.8,
             "#7fbc41"
            ],
            [
             0.9,
             "#4d9221"
            ],
            [
             1,
             "#276419"
            ]
           ],
           "sequential": [
            [
             0,
             "#0d0887"
            ],
            [
             0.1111111111111111,
             "#46039f"
            ],
            [
             0.2222222222222222,
             "#7201a8"
            ],
            [
             0.3333333333333333,
             "#9c179e"
            ],
            [
             0.4444444444444444,
             "#bd3786"
            ],
            [
             0.5555555555555556,
             "#d8576b"
            ],
            [
             0.6666666666666666,
             "#ed7953"
            ],
            [
             0.7777777777777778,
             "#fb9f3a"
            ],
            [
             0.8888888888888888,
             "#fdca26"
            ],
            [
             1,
             "#f0f921"
            ]
           ],
           "sequentialminus": [
            [
             0,
             "#0d0887"
            ],
            [
             0.1111111111111111,
             "#46039f"
            ],
            [
             0.2222222222222222,
             "#7201a8"
            ],
            [
             0.3333333333333333,
             "#9c179e"
            ],
            [
             0.4444444444444444,
             "#bd3786"
            ],
            [
             0.5555555555555556,
             "#d8576b"
            ],
            [
             0.6666666666666666,
             "#ed7953"
            ],
            [
             0.7777777777777778,
             "#fb9f3a"
            ],
            [
             0.8888888888888888,
             "#fdca26"
            ],
            [
             1,
             "#f0f921"
            ]
           ]
          },
          "colorway": [
           "#636efa",
           "#EF553B",
           "#00cc96",
           "#ab63fa",
           "#FFA15A",
           "#19d3f3",
           "#FF6692",
           "#B6E880",
           "#FF97FF",
           "#FECB52"
          ],
          "font": {
           "color": "#2a3f5f"
          },
          "geo": {
           "bgcolor": "white",
           "lakecolor": "white",
           "landcolor": "#E5ECF6",
           "showlakes": true,
           "showland": true,
           "subunitcolor": "white"
          },
          "hoverlabel": {
           "align": "left"
          },
          "hovermode": "closest",
          "mapbox": {
           "style": "light"
          },
          "paper_bgcolor": "white",
          "plot_bgcolor": "#E5ECF6",
          "polar": {
           "angularaxis": {
            "gridcolor": "white",
            "linecolor": "white",
            "ticks": ""
           },
           "bgcolor": "#E5ECF6",
           "radialaxis": {
            "gridcolor": "white",
            "linecolor": "white",
            "ticks": ""
           }
          },
          "scene": {
           "xaxis": {
            "backgroundcolor": "#E5ECF6",
            "gridcolor": "white",
            "gridwidth": 2,
            "linecolor": "white",
            "showbackground": true,
            "ticks": "",
            "zerolinecolor": "white"
           },
           "yaxis": {
            "backgroundcolor": "#E5ECF6",
            "gridcolor": "white",
            "gridwidth": 2,
            "linecolor": "white",
            "showbackground": true,
            "ticks": "",
            "zerolinecolor": "white"
           },
           "zaxis": {
            "backgroundcolor": "#E5ECF6",
            "gridcolor": "white",
            "gridwidth": 2,
            "linecolor": "white",
            "showbackground": true,
            "ticks": "",
            "zerolinecolor": "white"
           }
          },
          "shapedefaults": {
           "line": {
            "color": "#2a3f5f"
           }
          },
          "ternary": {
           "aaxis": {
            "gridcolor": "white",
            "linecolor": "white",
            "ticks": ""
           },
           "baxis": {
            "gridcolor": "white",
            "linecolor": "white",
            "ticks": ""
           },
           "bgcolor": "#E5ECF6",
           "caxis": {
            "gridcolor": "white",
            "linecolor": "white",
            "ticks": ""
           }
          },
          "title": {
           "x": 0.05
          },
          "xaxis": {
           "automargin": true,
           "gridcolor": "white",
           "linecolor": "white",
           "ticks": "",
           "title": {
            "standoff": 15
           },
           "zerolinecolor": "white",
           "zerolinewidth": 2
          },
          "yaxis": {
           "automargin": true,
           "gridcolor": "white",
           "linecolor": "white",
           "ticks": "",
           "title": {
            "standoff": 15
           },
           "zerolinecolor": "white",
           "zerolinewidth": 2
          }
         }
        },
        "title": {
         "text": "NF1 File Sizes (MB)"
        },
        "xaxis": {
         "title": {
          "text": "Plate Names"
         }
        },
        "yaxis": {
         "title": {
          "text": "File Size (MB)"
         }
        }
       }
      },
      "text/html": [
       "<div>                            <div id=\"8e453ffc-3b16-44a9-8b75-16a9da1d63d1\" class=\"plotly-graph-div\" style=\"height:525px; width:100%;\"></div>            <script type=\"text/javascript\">                require([\"plotly\"], function(Plotly) {                    window.PLOTLYENV=window.PLOTLYENV || {};                                    if (document.getElementById(\"8e453ffc-3b16-44a9-8b75-16a9da1d63d1\")) {                    Plotly.newPlot(                        \"8e453ffc-3b16-44a9-8b75-16a9da1d63d1\",                        [{\"marker\":{\"color\":[\"hsl(0.0, 50%, 50%)\",\"hsl(72.0, 50%, 50%)\",\"hsl(144.0, 50%, 50%)\",\"hsl(216.0, 50%, 50%)\",\"hsl(288.0, 50%, 50%)\"]},\"x\":[\"Plate_1\",\"Plate_3\",\"Plate_3_prime\",\"Plate_4\",\"Plate_2\"],\"y\":[4.727,551.629,444.938,222.945,30.598],\"type\":\"bar\"}],                        {\"template\":{\"data\":{\"histogram2dcontour\":[{\"type\":\"histogram2dcontour\",\"colorbar\":{\"outlinewidth\":0,\"ticks\":\"\"},\"colorscale\":[[0.0,\"#0d0887\"],[0.1111111111111111,\"#46039f\"],[0.2222222222222222,\"#7201a8\"],[0.3333333333333333,\"#9c179e\"],[0.4444444444444444,\"#bd3786\"],[0.5555555555555556,\"#d8576b\"],[0.6666666666666666,\"#ed7953\"],[0.7777777777777778,\"#fb9f3a\"],[0.8888888888888888,\"#fdca26\"],[1.0,\"#f0f921\"]]}],\"choropleth\":[{\"type\":\"choropleth\",\"colorbar\":{\"outlinewidth\":0,\"ticks\":\"\"}}],\"histogram2d\":[{\"type\":\"histogram2d\",\"colorbar\":{\"outlinewidth\":0,\"ticks\":\"\"},\"colorscale\":[[0.0,\"#0d0887\"],[0.1111111111111111,\"#46039f\"],[0.2222222222222222,\"#7201a8\"],[0.3333333333333333,\"#9c179e\"],[0.4444444444444444,\"#bd3786\"],[0.5555555555555556,\"#d8576b\"],[0.6666666666666666,\"#ed7953\"],[0.7777777777777778,\"#fb9f3a\"],[0.8888888888888888,\"#fdca26\"],[1.0,\"#f0f921\"]]}],\"heatmap\":[{\"type\":\"heatmap\",\"colorbar\":{\"outlinewidth\":0,\"ticks\":\"\"},\"colorscale\":[[0.0,\"#0d0887\"],[0.1111111111111111,\"#46039f\"],[0.2222222222222222,\"#7201a8\"],[0.3333333333333333,\"#9c179e\"],[0.4444444444444444,\"#bd3786\"],[0.5555555555555556,\"#d8576b\"],[0.6666666666666666,\"#ed7953\"],[0.7777777777777778,\"#fb9f3a\"],[0.8888888888888888,\"#fdca26\"],[1.0,\"#f0f921\"]]}],\"heatmapgl\":[{\"type\":\"heatmapgl\",\"colorbar\":{\"outlinewidth\":0,\"ticks\":\"\"},\"colorscale\":[[0.0,\"#0d0887\"],[0.1111111111111111,\"#46039f\"],[0.2222222222222222,\"#7201a8\"],[0.3333333333333333,\"#9c179e\"],[0.4444444444444444,\"#bd3786\"],[0.5555555555555556,\"#d8576b\"],[0.6666666666666666,\"#ed7953\"],[0.7777777777777778,\"#fb9f3a\"],[0.8888888888888888,\"#fdca26\"],[1.0,\"#f0f921\"]]}],\"contourcarpet\":[{\"type\":\"contourcarpet\",\"colorbar\":{\"outlinewidth\":0,\"ticks\":\"\"}}],\"contour\":[{\"type\":\"contour\",\"colorbar\":{\"outlinewidth\":0,\"ticks\":\"\"},\"colorscale\":[[0.0,\"#0d0887\"],[0.1111111111111111,\"#46039f\"],[0.2222222222222222,\"#7201a8\"],[0.3333333333333333,\"#9c179e\"],[0.4444444444444444,\"#bd3786\"],[0.5555555555555556,\"#d8576b\"],[0.6666666666666666,\"#ed7953\"],[0.7777777777777778,\"#fb9f3a\"],[0.8888888888888888,\"#fdca26\"],[1.0,\"#f0f921\"]]}],\"surface\":[{\"type\":\"surface\",\"colorbar\":{\"outlinewidth\":0,\"ticks\":\"\"},\"colorscale\":[[0.0,\"#0d0887\"],[0.1111111111111111,\"#46039f\"],[0.2222222222222222,\"#7201a8\"],[0.3333333333333333,\"#9c179e\"],[0.4444444444444444,\"#bd3786\"],[0.5555555555555556,\"#d8576b\"],[0.6666666666666666,\"#ed7953\"],[0.7777777777777778,\"#fb9f3a\"],[0.8888888888888888,\"#fdca26\"],[1.0,\"#f0f921\"]]}],\"mesh3d\":[{\"type\":\"mesh3d\",\"colorbar\":{\"outlinewidth\":0,\"ticks\":\"\"}}],\"scatter\":[{\"fillpattern\":{\"fillmode\":\"overlay\",\"size\":10,\"solidity\":0.2},\"type\":\"scatter\"}],\"parcoords\":[{\"type\":\"parcoords\",\"line\":{\"colorbar\":{\"outlinewidth\":0,\"ticks\":\"\"}}}],\"scatterpolargl\":[{\"type\":\"scatterpolargl\",\"marker\":{\"colorbar\":{\"outlinewidth\":0,\"ticks\":\"\"}}}],\"bar\":[{\"error_x\":{\"color\":\"#2a3f5f\"},\"error_y\":{\"color\":\"#2a3f5f\"},\"marker\":{\"line\":{\"color\":\"#E5ECF6\",\"width\":0.5},\"pattern\":{\"fillmode\":\"overlay\",\"size\":10,\"solidity\":0.2}},\"type\":\"bar\"}],\"scattergeo\":[{\"type\":\"scattergeo\",\"marker\":{\"colorbar\":{\"outlinewidth\":0,\"ticks\":\"\"}}}],\"scatterpolar\":[{\"type\":\"scatterpolar\",\"marker\":{\"colorbar\":{\"outlinewidth\":0,\"ticks\":\"\"}}}],\"histogram\":[{\"marker\":{\"pattern\":{\"fillmode\":\"overlay\",\"size\":10,\"solidity\":0.2}},\"type\":\"histogram\"}],\"scattergl\":[{\"type\":\"scattergl\",\"marker\":{\"colorbar\":{\"outlinewidth\":0,\"ticks\":\"\"}}}],\"scatter3d\":[{\"type\":\"scatter3d\",\"line\":{\"colorbar\":{\"outlinewidth\":0,\"ticks\":\"\"}},\"marker\":{\"colorbar\":{\"outlinewidth\":0,\"ticks\":\"\"}}}],\"scattermapbox\":[{\"type\":\"scattermapbox\",\"marker\":{\"colorbar\":{\"outlinewidth\":0,\"ticks\":\"\"}}}],\"scatterternary\":[{\"type\":\"scatterternary\",\"marker\":{\"colorbar\":{\"outlinewidth\":0,\"ticks\":\"\"}}}],\"scattercarpet\":[{\"type\":\"scattercarpet\",\"marker\":{\"colorbar\":{\"outlinewidth\":0,\"ticks\":\"\"}}}],\"carpet\":[{\"aaxis\":{\"endlinecolor\":\"#2a3f5f\",\"gridcolor\":\"white\",\"linecolor\":\"white\",\"minorgridcolor\":\"white\",\"startlinecolor\":\"#2a3f5f\"},\"baxis\":{\"endlinecolor\":\"#2a3f5f\",\"gridcolor\":\"white\",\"linecolor\":\"white\",\"minorgridcolor\":\"white\",\"startlinecolor\":\"#2a3f5f\"},\"type\":\"carpet\"}],\"table\":[{\"cells\":{\"fill\":{\"color\":\"#EBF0F8\"},\"line\":{\"color\":\"white\"}},\"header\":{\"fill\":{\"color\":\"#C8D4E3\"},\"line\":{\"color\":\"white\"}},\"type\":\"table\"}],\"barpolar\":[{\"marker\":{\"line\":{\"color\":\"#E5ECF6\",\"width\":0.5},\"pattern\":{\"fillmode\":\"overlay\",\"size\":10,\"solidity\":0.2}},\"type\":\"barpolar\"}],\"pie\":[{\"automargin\":true,\"type\":\"pie\"}]},\"layout\":{\"autotypenumbers\":\"strict\",\"colorway\":[\"#636efa\",\"#EF553B\",\"#00cc96\",\"#ab63fa\",\"#FFA15A\",\"#19d3f3\",\"#FF6692\",\"#B6E880\",\"#FF97FF\",\"#FECB52\"],\"font\":{\"color\":\"#2a3f5f\"},\"hovermode\":\"closest\",\"hoverlabel\":{\"align\":\"left\"},\"paper_bgcolor\":\"white\",\"plot_bgcolor\":\"#E5ECF6\",\"polar\":{\"bgcolor\":\"#E5ECF6\",\"angularaxis\":{\"gridcolor\":\"white\",\"linecolor\":\"white\",\"ticks\":\"\"},\"radialaxis\":{\"gridcolor\":\"white\",\"linecolor\":\"white\",\"ticks\":\"\"}},\"ternary\":{\"bgcolor\":\"#E5ECF6\",\"aaxis\":{\"gridcolor\":\"white\",\"linecolor\":\"white\",\"ticks\":\"\"},\"baxis\":{\"gridcolor\":\"white\",\"linecolor\":\"white\",\"ticks\":\"\"},\"caxis\":{\"gridcolor\":\"white\",\"linecolor\":\"white\",\"ticks\":\"\"}},\"coloraxis\":{\"colorbar\":{\"outlinewidth\":0,\"ticks\":\"\"}},\"colorscale\":{\"sequential\":[[0.0,\"#0d0887\"],[0.1111111111111111,\"#46039f\"],[0.2222222222222222,\"#7201a8\"],[0.3333333333333333,\"#9c179e\"],[0.4444444444444444,\"#bd3786\"],[0.5555555555555556,\"#d8576b\"],[0.6666666666666666,\"#ed7953\"],[0.7777777777777778,\"#fb9f3a\"],[0.8888888888888888,\"#fdca26\"],[1.0,\"#f0f921\"]],\"sequentialminus\":[[0.0,\"#0d0887\"],[0.1111111111111111,\"#46039f\"],[0.2222222222222222,\"#7201a8\"],[0.3333333333333333,\"#9c179e\"],[0.4444444444444444,\"#bd3786\"],[0.5555555555555556,\"#d8576b\"],[0.6666666666666666,\"#ed7953\"],[0.7777777777777778,\"#fb9f3a\"],[0.8888888888888888,\"#fdca26\"],[1.0,\"#f0f921\"]],\"diverging\":[[0,\"#8e0152\"],[0.1,\"#c51b7d\"],[0.2,\"#de77ae\"],[0.3,\"#f1b6da\"],[0.4,\"#fde0ef\"],[0.5,\"#f7f7f7\"],[0.6,\"#e6f5d0\"],[0.7,\"#b8e186\"],[0.8,\"#7fbc41\"],[0.9,\"#4d9221\"],[1,\"#276419\"]]},\"xaxis\":{\"gridcolor\":\"white\",\"linecolor\":\"white\",\"ticks\":\"\",\"title\":{\"standoff\":15},\"zerolinecolor\":\"white\",\"automargin\":true,\"zerolinewidth\":2},\"yaxis\":{\"gridcolor\":\"white\",\"linecolor\":\"white\",\"ticks\":\"\",\"title\":{\"standoff\":15},\"zerolinecolor\":\"white\",\"automargin\":true,\"zerolinewidth\":2},\"scene\":{\"xaxis\":{\"backgroundcolor\":\"#E5ECF6\",\"gridcolor\":\"white\",\"linecolor\":\"white\",\"showbackground\":true,\"ticks\":\"\",\"zerolinecolor\":\"white\",\"gridwidth\":2},\"yaxis\":{\"backgroundcolor\":\"#E5ECF6\",\"gridcolor\":\"white\",\"linecolor\":\"white\",\"showbackground\":true,\"ticks\":\"\",\"zerolinecolor\":\"white\",\"gridwidth\":2},\"zaxis\":{\"backgroundcolor\":\"#E5ECF6\",\"gridcolor\":\"white\",\"linecolor\":\"white\",\"showbackground\":true,\"ticks\":\"\",\"zerolinecolor\":\"white\",\"gridwidth\":2}},\"shapedefaults\":{\"line\":{\"color\":\"#2a3f5f\"}},\"annotationdefaults\":{\"arrowcolor\":\"#2a3f5f\",\"arrowhead\":0,\"arrowwidth\":1},\"geo\":{\"bgcolor\":\"white\",\"landcolor\":\"#E5ECF6\",\"subunitcolor\":\"white\",\"showland\":true,\"showlakes\":true,\"lakecolor\":\"white\"},\"title\":{\"x\":0.05},\"mapbox\":{\"style\":\"light\"}}},\"annotations\":[{\"showarrow\":false,\"text\":\"4.727\",\"x\":\"Plate_1\",\"y\":14.727},{\"showarrow\":false,\"text\":\"551.629\",\"x\":\"Plate_3\",\"y\":561.629},{\"showarrow\":false,\"text\":\"444.938\",\"x\":\"Plate_3_prime\",\"y\":454.938},{\"showarrow\":false,\"text\":\"222.945\",\"x\":\"Plate_4\",\"y\":232.945},{\"showarrow\":false,\"text\":\"30.598\",\"x\":\"Plate_2\",\"y\":40.598}],\"title\":{\"text\":\"NF1 File Sizes (MB)\"},\"xaxis\":{\"title\":{\"text\":\"Plate Names\"}},\"yaxis\":{\"title\":{\"text\":\"File Size (MB)\"}}},                        {\"responsive\": true}                    ).then(function(){\n",
       "                            \n",
       "var gd = document.getElementById('8e453ffc-3b16-44a9-8b75-16a9da1d63d1');\n",
       "var x = new MutationObserver(function (mutations, observer) {{\n",
       "        var display = window.getComputedStyle(gd).display;\n",
       "        if (!display || display === 'none') {{\n",
       "            console.log([gd, 'removed!']);\n",
       "            Plotly.purge(gd);\n",
       "            observer.disconnect();\n",
       "        }}\n",
       "}});\n",
       "\n",
       "// Listen for the removal of the full notebook cells\n",
       "var notebookContainer = gd.closest('#notebook-container');\n",
       "if (notebookContainer) {{\n",
       "    x.observe(notebookContainer, {childList: true});\n",
       "}}\n",
       "\n",
       "// Listen for the clearing of the current output cell\n",
       "var outputEl = gd.closest('.output');\n",
       "if (outputEl) {{\n",
       "    x.observe(outputEl, {childList: true});\n",
       "}}\n",
       "\n",
       "                        })                };                });            </script>        </div>"
      ]
     },
     "metadata": {},
     "output_type": "display_data"
    }
   ],
   "source": [
    "plot_file_sizes(nf1_file_sizes, title=\"NF1 File Sizes (MB)\")"
   ]
  },
  {
   "cell_type": "code",
   "execution_count": 109,
   "metadata": {},
   "outputs": [
    {
     "data": {
      "application/vnd.plotly.v1+json": {
       "config": {
        "plotlyServerURL": "https://plot.ly"
       },
       "data": [
        {
         "marker": {
          "color": [
           "hsl(0.0, 50%, 50%)",
           "hsl(90.0, 50%, 50%)",
           "hsl(180.0, 50%, 50%)",
           "hsl(270.0, 50%, 50%)"
          ]
         },
         "type": "bar",
         "x": [
          "localhost231120090001",
          "localhost220513100001_KK22-05-198_FactinAdjusted",
          "localhost220512140003_KK22-05-198",
          "localhost230405150001"
         ],
         "y": [
          338.357,
          279.372,
          676.675,
          416.983
         ]
        }
       ],
       "layout": {
        "annotations": [
         {
          "showarrow": false,
          "text": "338.357",
          "x": "localhost231120090001",
          "y": 348.357
         },
         {
          "showarrow": false,
          "text": "279.372",
          "x": "localhost220513100001_KK22-05-198_FactinAdjusted",
          "y": 289.372
         },
         {
          "showarrow": false,
          "text": "676.675",
          "x": "localhost220512140003_KK22-05-198",
          "y": 686.675
         },
         {
          "showarrow": false,
          "text": "416.983",
          "x": "localhost230405150001",
          "y": 426.983
         }
        ],
        "template": {
         "data": {
          "bar": [
           {
            "error_x": {
             "color": "#2a3f5f"
            },
            "error_y": {
             "color": "#2a3f5f"
            },
            "marker": {
             "line": {
              "color": "#E5ECF6",
              "width": 0.5
             },
             "pattern": {
              "fillmode": "overlay",
              "size": 10,
              "solidity": 0.2
             }
            },
            "type": "bar"
           }
          ],
          "barpolar": [
           {
            "marker": {
             "line": {
              "color": "#E5ECF6",
              "width": 0.5
             },
             "pattern": {
              "fillmode": "overlay",
              "size": 10,
              "solidity": 0.2
             }
            },
            "type": "barpolar"
           }
          ],
          "carpet": [
           {
            "aaxis": {
             "endlinecolor": "#2a3f5f",
             "gridcolor": "white",
             "linecolor": "white",
             "minorgridcolor": "white",
             "startlinecolor": "#2a3f5f"
            },
            "baxis": {
             "endlinecolor": "#2a3f5f",
             "gridcolor": "white",
             "linecolor": "white",
             "minorgridcolor": "white",
             "startlinecolor": "#2a3f5f"
            },
            "type": "carpet"
           }
          ],
          "choropleth": [
           {
            "colorbar": {
             "outlinewidth": 0,
             "ticks": ""
            },
            "type": "choropleth"
           }
          ],
          "contour": [
           {
            "colorbar": {
             "outlinewidth": 0,
             "ticks": ""
            },
            "colorscale": [
             [
              0,
              "#0d0887"
             ],
             [
              0.1111111111111111,
              "#46039f"
             ],
             [
              0.2222222222222222,
              "#7201a8"
             ],
             [
              0.3333333333333333,
              "#9c179e"
             ],
             [
              0.4444444444444444,
              "#bd3786"
             ],
             [
              0.5555555555555556,
              "#d8576b"
             ],
             [
              0.6666666666666666,
              "#ed7953"
             ],
             [
              0.7777777777777778,
              "#fb9f3a"
             ],
             [
              0.8888888888888888,
              "#fdca26"
             ],
             [
              1,
              "#f0f921"
             ]
            ],
            "type": "contour"
           }
          ],
          "contourcarpet": [
           {
            "colorbar": {
             "outlinewidth": 0,
             "ticks": ""
            },
            "type": "contourcarpet"
           }
          ],
          "heatmap": [
           {
            "colorbar": {
             "outlinewidth": 0,
             "ticks": ""
            },
            "colorscale": [
             [
              0,
              "#0d0887"
             ],
             [
              0.1111111111111111,
              "#46039f"
             ],
             [
              0.2222222222222222,
              "#7201a8"
             ],
             [
              0.3333333333333333,
              "#9c179e"
             ],
             [
              0.4444444444444444,
              "#bd3786"
             ],
             [
              0.5555555555555556,
              "#d8576b"
             ],
             [
              0.6666666666666666,
              "#ed7953"
             ],
             [
              0.7777777777777778,
              "#fb9f3a"
             ],
             [
              0.8888888888888888,
              "#fdca26"
             ],
             [
              1,
              "#f0f921"
             ]
            ],
            "type": "heatmap"
           }
          ],
          "heatmapgl": [
           {
            "colorbar": {
             "outlinewidth": 0,
             "ticks": ""
            },
            "colorscale": [
             [
              0,
              "#0d0887"
             ],
             [
              0.1111111111111111,
              "#46039f"
             ],
             [
              0.2222222222222222,
              "#7201a8"
             ],
             [
              0.3333333333333333,
              "#9c179e"
             ],
             [
              0.4444444444444444,
              "#bd3786"
             ],
             [
              0.5555555555555556,
              "#d8576b"
             ],
             [
              0.6666666666666666,
              "#ed7953"
             ],
             [
              0.7777777777777778,
              "#fb9f3a"
             ],
             [
              0.8888888888888888,
              "#fdca26"
             ],
             [
              1,
              "#f0f921"
             ]
            ],
            "type": "heatmapgl"
           }
          ],
          "histogram": [
           {
            "marker": {
             "pattern": {
              "fillmode": "overlay",
              "size": 10,
              "solidity": 0.2
             }
            },
            "type": "histogram"
           }
          ],
          "histogram2d": [
           {
            "colorbar": {
             "outlinewidth": 0,
             "ticks": ""
            },
            "colorscale": [
             [
              0,
              "#0d0887"
             ],
             [
              0.1111111111111111,
              "#46039f"
             ],
             [
              0.2222222222222222,
              "#7201a8"
             ],
             [
              0.3333333333333333,
              "#9c179e"
             ],
             [
              0.4444444444444444,
              "#bd3786"
             ],
             [
              0.5555555555555556,
              "#d8576b"
             ],
             [
              0.6666666666666666,
              "#ed7953"
             ],
             [
              0.7777777777777778,
              "#fb9f3a"
             ],
             [
              0.8888888888888888,
              "#fdca26"
             ],
             [
              1,
              "#f0f921"
             ]
            ],
            "type": "histogram2d"
           }
          ],
          "histogram2dcontour": [
           {
            "colorbar": {
             "outlinewidth": 0,
             "ticks": ""
            },
            "colorscale": [
             [
              0,
              "#0d0887"
             ],
             [
              0.1111111111111111,
              "#46039f"
             ],
             [
              0.2222222222222222,
              "#7201a8"
             ],
             [
              0.3333333333333333,
              "#9c179e"
             ],
             [
              0.4444444444444444,
              "#bd3786"
             ],
             [
              0.5555555555555556,
              "#d8576b"
             ],
             [
              0.6666666666666666,
              "#ed7953"
             ],
             [
              0.7777777777777778,
              "#fb9f3a"
             ],
             [
              0.8888888888888888,
              "#fdca26"
             ],
             [
              1,
              "#f0f921"
             ]
            ],
            "type": "histogram2dcontour"
           }
          ],
          "mesh3d": [
           {
            "colorbar": {
             "outlinewidth": 0,
             "ticks": ""
            },
            "type": "mesh3d"
           }
          ],
          "parcoords": [
           {
            "line": {
             "colorbar": {
              "outlinewidth": 0,
              "ticks": ""
             }
            },
            "type": "parcoords"
           }
          ],
          "pie": [
           {
            "automargin": true,
            "type": "pie"
           }
          ],
          "scatter": [
           {
            "fillpattern": {
             "fillmode": "overlay",
             "size": 10,
             "solidity": 0.2
            },
            "type": "scatter"
           }
          ],
          "scatter3d": [
           {
            "line": {
             "colorbar": {
              "outlinewidth": 0,
              "ticks": ""
             }
            },
            "marker": {
             "colorbar": {
              "outlinewidth": 0,
              "ticks": ""
             }
            },
            "type": "scatter3d"
           }
          ],
          "scattercarpet": [
           {
            "marker": {
             "colorbar": {
              "outlinewidth": 0,
              "ticks": ""
             }
            },
            "type": "scattercarpet"
           }
          ],
          "scattergeo": [
           {
            "marker": {
             "colorbar": {
              "outlinewidth": 0,
              "ticks": ""
             }
            },
            "type": "scattergeo"
           }
          ],
          "scattergl": [
           {
            "marker": {
             "colorbar": {
              "outlinewidth": 0,
              "ticks": ""
             }
            },
            "type": "scattergl"
           }
          ],
          "scattermapbox": [
           {
            "marker": {
             "colorbar": {
              "outlinewidth": 0,
              "ticks": ""
             }
            },
            "type": "scattermapbox"
           }
          ],
          "scatterpolar": [
           {
            "marker": {
             "colorbar": {
              "outlinewidth": 0,
              "ticks": ""
             }
            },
            "type": "scatterpolar"
           }
          ],
          "scatterpolargl": [
           {
            "marker": {
             "colorbar": {
              "outlinewidth": 0,
              "ticks": ""
             }
            },
            "type": "scatterpolargl"
           }
          ],
          "scatterternary": [
           {
            "marker": {
             "colorbar": {
              "outlinewidth": 0,
              "ticks": ""
             }
            },
            "type": "scatterternary"
           }
          ],
          "surface": [
           {
            "colorbar": {
             "outlinewidth": 0,
             "ticks": ""
            },
            "colorscale": [
             [
              0,
              "#0d0887"
             ],
             [
              0.1111111111111111,
              "#46039f"
             ],
             [
              0.2222222222222222,
              "#7201a8"
             ],
             [
              0.3333333333333333,
              "#9c179e"
             ],
             [
              0.4444444444444444,
              "#bd3786"
             ],
             [
              0.5555555555555556,
              "#d8576b"
             ],
             [
              0.6666666666666666,
              "#ed7953"
             ],
             [
              0.7777777777777778,
              "#fb9f3a"
             ],
             [
              0.8888888888888888,
              "#fdca26"
             ],
             [
              1,
              "#f0f921"
             ]
            ],
            "type": "surface"
           }
          ],
          "table": [
           {
            "cells": {
             "fill": {
              "color": "#EBF0F8"
             },
             "line": {
              "color": "white"
             }
            },
            "header": {
             "fill": {
              "color": "#C8D4E3"
             },
             "line": {
              "color": "white"
             }
            },
            "type": "table"
           }
          ]
         },
         "layout": {
          "annotationdefaults": {
           "arrowcolor": "#2a3f5f",
           "arrowhead": 0,
           "arrowwidth": 1
          },
          "autotypenumbers": "strict",
          "coloraxis": {
           "colorbar": {
            "outlinewidth": 0,
            "ticks": ""
           }
          },
          "colorscale": {
           "diverging": [
            [
             0,
             "#8e0152"
            ],
            [
             0.1,
             "#c51b7d"
            ],
            [
             0.2,
             "#de77ae"
            ],
            [
             0.3,
             "#f1b6da"
            ],
            [
             0.4,
             "#fde0ef"
            ],
            [
             0.5,
             "#f7f7f7"
            ],
            [
             0.6,
             "#e6f5d0"
            ],
            [
             0.7,
             "#b8e186"
            ],
            [
             0.8,
             "#7fbc41"
            ],
            [
             0.9,
             "#4d9221"
            ],
            [
             1,
             "#276419"
            ]
           ],
           "sequential": [
            [
             0,
             "#0d0887"
            ],
            [
             0.1111111111111111,
             "#46039f"
            ],
            [
             0.2222222222222222,
             "#7201a8"
            ],
            [
             0.3333333333333333,
             "#9c179e"
            ],
            [
             0.4444444444444444,
             "#bd3786"
            ],
            [
             0.5555555555555556,
             "#d8576b"
            ],
            [
             0.6666666666666666,
             "#ed7953"
            ],
            [
             0.7777777777777778,
             "#fb9f3a"
            ],
            [
             0.8888888888888888,
             "#fdca26"
            ],
            [
             1,
             "#f0f921"
            ]
           ],
           "sequentialminus": [
            [
             0,
             "#0d0887"
            ],
            [
             0.1111111111111111,
             "#46039f"
            ],
            [
             0.2222222222222222,
             "#7201a8"
            ],
            [
             0.3333333333333333,
             "#9c179e"
            ],
            [
             0.4444444444444444,
             "#bd3786"
            ],
            [
             0.5555555555555556,
             "#d8576b"
            ],
            [
             0.6666666666666666,
             "#ed7953"
            ],
            [
             0.7777777777777778,
             "#fb9f3a"
            ],
            [
             0.8888888888888888,
             "#fdca26"
            ],
            [
             1,
             "#f0f921"
            ]
           ]
          },
          "colorway": [
           "#636efa",
           "#EF553B",
           "#00cc96",
           "#ab63fa",
           "#FFA15A",
           "#19d3f3",
           "#FF6692",
           "#B6E880",
           "#FF97FF",
           "#FECB52"
          ],
          "font": {
           "color": "#2a3f5f"
          },
          "geo": {
           "bgcolor": "white",
           "lakecolor": "white",
           "landcolor": "#E5ECF6",
           "showlakes": true,
           "showland": true,
           "subunitcolor": "white"
          },
          "hoverlabel": {
           "align": "left"
          },
          "hovermode": "closest",
          "mapbox": {
           "style": "light"
          },
          "paper_bgcolor": "white",
          "plot_bgcolor": "#E5ECF6",
          "polar": {
           "angularaxis": {
            "gridcolor": "white",
            "linecolor": "white",
            "ticks": ""
           },
           "bgcolor": "#E5ECF6",
           "radialaxis": {
            "gridcolor": "white",
            "linecolor": "white",
            "ticks": ""
           }
          },
          "scene": {
           "xaxis": {
            "backgroundcolor": "#E5ECF6",
            "gridcolor": "white",
            "gridwidth": 2,
            "linecolor": "white",
            "showbackground": true,
            "ticks": "",
            "zerolinecolor": "white"
           },
           "yaxis": {
            "backgroundcolor": "#E5ECF6",
            "gridcolor": "white",
            "gridwidth": 2,
            "linecolor": "white",
            "showbackground": true,
            "ticks": "",
            "zerolinecolor": "white"
           },
           "zaxis": {
            "backgroundcolor": "#E5ECF6",
            "gridcolor": "white",
            "gridwidth": 2,
            "linecolor": "white",
            "showbackground": true,
            "ticks": "",
            "zerolinecolor": "white"
           }
          },
          "shapedefaults": {
           "line": {
            "color": "#2a3f5f"
           }
          },
          "ternary": {
           "aaxis": {
            "gridcolor": "white",
            "linecolor": "white",
            "ticks": ""
           },
           "baxis": {
            "gridcolor": "white",
            "linecolor": "white",
            "ticks": ""
           },
           "bgcolor": "#E5ECF6",
           "caxis": {
            "gridcolor": "white",
            "linecolor": "white",
            "ticks": ""
           }
          },
          "title": {
           "x": 0.05
          },
          "xaxis": {
           "automargin": true,
           "gridcolor": "white",
           "linecolor": "white",
           "ticks": "",
           "title": {
            "standoff": 15
           },
           "zerolinecolor": "white",
           "zerolinewidth": 2
          },
          "yaxis": {
           "automargin": true,
           "gridcolor": "white",
           "linecolor": "white",
           "ticks": "",
           "title": {
            "standoff": 15
           },
           "zerolinecolor": "white",
           "zerolinewidth": 2
          }
         }
        },
        "title": {
         "text": "CFReT File Sizes (MB)"
        },
        "xaxis": {
         "title": {
          "text": "Plate Names"
         }
        },
        "yaxis": {
         "title": {
          "text": "File Size (MB)"
         }
        }
       }
      },
      "text/html": [
       "<div>                            <div id=\"6665ad47-5ce8-4c10-891e-2994c2d0a899\" class=\"plotly-graph-div\" style=\"height:525px; width:100%;\"></div>            <script type=\"text/javascript\">                require([\"plotly\"], function(Plotly) {                    window.PLOTLYENV=window.PLOTLYENV || {};                                    if (document.getElementById(\"6665ad47-5ce8-4c10-891e-2994c2d0a899\")) {                    Plotly.newPlot(                        \"6665ad47-5ce8-4c10-891e-2994c2d0a899\",                        [{\"marker\":{\"color\":[\"hsl(0.0, 50%, 50%)\",\"hsl(90.0, 50%, 50%)\",\"hsl(180.0, 50%, 50%)\",\"hsl(270.0, 50%, 50%)\"]},\"x\":[\"localhost231120090001\",\"localhost220513100001_KK22-05-198_FactinAdjusted\",\"localhost220512140003_KK22-05-198\",\"localhost230405150001\"],\"y\":[338.357,279.372,676.675,416.983],\"type\":\"bar\"}],                        {\"template\":{\"data\":{\"histogram2dcontour\":[{\"type\":\"histogram2dcontour\",\"colorbar\":{\"outlinewidth\":0,\"ticks\":\"\"},\"colorscale\":[[0.0,\"#0d0887\"],[0.1111111111111111,\"#46039f\"],[0.2222222222222222,\"#7201a8\"],[0.3333333333333333,\"#9c179e\"],[0.4444444444444444,\"#bd3786\"],[0.5555555555555556,\"#d8576b\"],[0.6666666666666666,\"#ed7953\"],[0.7777777777777778,\"#fb9f3a\"],[0.8888888888888888,\"#fdca26\"],[1.0,\"#f0f921\"]]}],\"choropleth\":[{\"type\":\"choropleth\",\"colorbar\":{\"outlinewidth\":0,\"ticks\":\"\"}}],\"histogram2d\":[{\"type\":\"histogram2d\",\"colorbar\":{\"outlinewidth\":0,\"ticks\":\"\"},\"colorscale\":[[0.0,\"#0d0887\"],[0.1111111111111111,\"#46039f\"],[0.2222222222222222,\"#7201a8\"],[0.3333333333333333,\"#9c179e\"],[0.4444444444444444,\"#bd3786\"],[0.5555555555555556,\"#d8576b\"],[0.6666666666666666,\"#ed7953\"],[0.7777777777777778,\"#fb9f3a\"],[0.8888888888888888,\"#fdca26\"],[1.0,\"#f0f921\"]]}],\"heatmap\":[{\"type\":\"heatmap\",\"colorbar\":{\"outlinewidth\":0,\"ticks\":\"\"},\"colorscale\":[[0.0,\"#0d0887\"],[0.1111111111111111,\"#46039f\"],[0.2222222222222222,\"#7201a8\"],[0.3333333333333333,\"#9c179e\"],[0.4444444444444444,\"#bd3786\"],[0.5555555555555556,\"#d8576b\"],[0.6666666666666666,\"#ed7953\"],[0.7777777777777778,\"#fb9f3a\"],[0.8888888888888888,\"#fdca26\"],[1.0,\"#f0f921\"]]}],\"heatmapgl\":[{\"type\":\"heatmapgl\",\"colorbar\":{\"outlinewidth\":0,\"ticks\":\"\"},\"colorscale\":[[0.0,\"#0d0887\"],[0.1111111111111111,\"#46039f\"],[0.2222222222222222,\"#7201a8\"],[0.3333333333333333,\"#9c179e\"],[0.4444444444444444,\"#bd3786\"],[0.5555555555555556,\"#d8576b\"],[0.6666666666666666,\"#ed7953\"],[0.7777777777777778,\"#fb9f3a\"],[0.8888888888888888,\"#fdca26\"],[1.0,\"#f0f921\"]]}],\"contourcarpet\":[{\"type\":\"contourcarpet\",\"colorbar\":{\"outlinewidth\":0,\"ticks\":\"\"}}],\"contour\":[{\"type\":\"contour\",\"colorbar\":{\"outlinewidth\":0,\"ticks\":\"\"},\"colorscale\":[[0.0,\"#0d0887\"],[0.1111111111111111,\"#46039f\"],[0.2222222222222222,\"#7201a8\"],[0.3333333333333333,\"#9c179e\"],[0.4444444444444444,\"#bd3786\"],[0.5555555555555556,\"#d8576b\"],[0.6666666666666666,\"#ed7953\"],[0.7777777777777778,\"#fb9f3a\"],[0.8888888888888888,\"#fdca26\"],[1.0,\"#f0f921\"]]}],\"surface\":[{\"type\":\"surface\",\"colorbar\":{\"outlinewidth\":0,\"ticks\":\"\"},\"colorscale\":[[0.0,\"#0d0887\"],[0.1111111111111111,\"#46039f\"],[0.2222222222222222,\"#7201a8\"],[0.3333333333333333,\"#9c179e\"],[0.4444444444444444,\"#bd3786\"],[0.5555555555555556,\"#d8576b\"],[0.6666666666666666,\"#ed7953\"],[0.7777777777777778,\"#fb9f3a\"],[0.8888888888888888,\"#fdca26\"],[1.0,\"#f0f921\"]]}],\"mesh3d\":[{\"type\":\"mesh3d\",\"colorbar\":{\"outlinewidth\":0,\"ticks\":\"\"}}],\"scatter\":[{\"fillpattern\":{\"fillmode\":\"overlay\",\"size\":10,\"solidity\":0.2},\"type\":\"scatter\"}],\"parcoords\":[{\"type\":\"parcoords\",\"line\":{\"colorbar\":{\"outlinewidth\":0,\"ticks\":\"\"}}}],\"scatterpolargl\":[{\"type\":\"scatterpolargl\",\"marker\":{\"colorbar\":{\"outlinewidth\":0,\"ticks\":\"\"}}}],\"bar\":[{\"error_x\":{\"color\":\"#2a3f5f\"},\"error_y\":{\"color\":\"#2a3f5f\"},\"marker\":{\"line\":{\"color\":\"#E5ECF6\",\"width\":0.5},\"pattern\":{\"fillmode\":\"overlay\",\"size\":10,\"solidity\":0.2}},\"type\":\"bar\"}],\"scattergeo\":[{\"type\":\"scattergeo\",\"marker\":{\"colorbar\":{\"outlinewidth\":0,\"ticks\":\"\"}}}],\"scatterpolar\":[{\"type\":\"scatterpolar\",\"marker\":{\"colorbar\":{\"outlinewidth\":0,\"ticks\":\"\"}}}],\"histogram\":[{\"marker\":{\"pattern\":{\"fillmode\":\"overlay\",\"size\":10,\"solidity\":0.2}},\"type\":\"histogram\"}],\"scattergl\":[{\"type\":\"scattergl\",\"marker\":{\"colorbar\":{\"outlinewidth\":0,\"ticks\":\"\"}}}],\"scatter3d\":[{\"type\":\"scatter3d\",\"line\":{\"colorbar\":{\"outlinewidth\":0,\"ticks\":\"\"}},\"marker\":{\"colorbar\":{\"outlinewidth\":0,\"ticks\":\"\"}}}],\"scattermapbox\":[{\"type\":\"scattermapbox\",\"marker\":{\"colorbar\":{\"outlinewidth\":0,\"ticks\":\"\"}}}],\"scatterternary\":[{\"type\":\"scatterternary\",\"marker\":{\"colorbar\":{\"outlinewidth\":0,\"ticks\":\"\"}}}],\"scattercarpet\":[{\"type\":\"scattercarpet\",\"marker\":{\"colorbar\":{\"outlinewidth\":0,\"ticks\":\"\"}}}],\"carpet\":[{\"aaxis\":{\"endlinecolor\":\"#2a3f5f\",\"gridcolor\":\"white\",\"linecolor\":\"white\",\"minorgridcolor\":\"white\",\"startlinecolor\":\"#2a3f5f\"},\"baxis\":{\"endlinecolor\":\"#2a3f5f\",\"gridcolor\":\"white\",\"linecolor\":\"white\",\"minorgridcolor\":\"white\",\"startlinecolor\":\"#2a3f5f\"},\"type\":\"carpet\"}],\"table\":[{\"cells\":{\"fill\":{\"color\":\"#EBF0F8\"},\"line\":{\"color\":\"white\"}},\"header\":{\"fill\":{\"color\":\"#C8D4E3\"},\"line\":{\"color\":\"white\"}},\"type\":\"table\"}],\"barpolar\":[{\"marker\":{\"line\":{\"color\":\"#E5ECF6\",\"width\":0.5},\"pattern\":{\"fillmode\":\"overlay\",\"size\":10,\"solidity\":0.2}},\"type\":\"barpolar\"}],\"pie\":[{\"automargin\":true,\"type\":\"pie\"}]},\"layout\":{\"autotypenumbers\":\"strict\",\"colorway\":[\"#636efa\",\"#EF553B\",\"#00cc96\",\"#ab63fa\",\"#FFA15A\",\"#19d3f3\",\"#FF6692\",\"#B6E880\",\"#FF97FF\",\"#FECB52\"],\"font\":{\"color\":\"#2a3f5f\"},\"hovermode\":\"closest\",\"hoverlabel\":{\"align\":\"left\"},\"paper_bgcolor\":\"white\",\"plot_bgcolor\":\"#E5ECF6\",\"polar\":{\"bgcolor\":\"#E5ECF6\",\"angularaxis\":{\"gridcolor\":\"white\",\"linecolor\":\"white\",\"ticks\":\"\"},\"radialaxis\":{\"gridcolor\":\"white\",\"linecolor\":\"white\",\"ticks\":\"\"}},\"ternary\":{\"bgcolor\":\"#E5ECF6\",\"aaxis\":{\"gridcolor\":\"white\",\"linecolor\":\"white\",\"ticks\":\"\"},\"baxis\":{\"gridcolor\":\"white\",\"linecolor\":\"white\",\"ticks\":\"\"},\"caxis\":{\"gridcolor\":\"white\",\"linecolor\":\"white\",\"ticks\":\"\"}},\"coloraxis\":{\"colorbar\":{\"outlinewidth\":0,\"ticks\":\"\"}},\"colorscale\":{\"sequential\":[[0.0,\"#0d0887\"],[0.1111111111111111,\"#46039f\"],[0.2222222222222222,\"#7201a8\"],[0.3333333333333333,\"#9c179e\"],[0.4444444444444444,\"#bd3786\"],[0.5555555555555556,\"#d8576b\"],[0.6666666666666666,\"#ed7953\"],[0.7777777777777778,\"#fb9f3a\"],[0.8888888888888888,\"#fdca26\"],[1.0,\"#f0f921\"]],\"sequentialminus\":[[0.0,\"#0d0887\"],[0.1111111111111111,\"#46039f\"],[0.2222222222222222,\"#7201a8\"],[0.3333333333333333,\"#9c179e\"],[0.4444444444444444,\"#bd3786\"],[0.5555555555555556,\"#d8576b\"],[0.6666666666666666,\"#ed7953\"],[0.7777777777777778,\"#fb9f3a\"],[0.8888888888888888,\"#fdca26\"],[1.0,\"#f0f921\"]],\"diverging\":[[0,\"#8e0152\"],[0.1,\"#c51b7d\"],[0.2,\"#de77ae\"],[0.3,\"#f1b6da\"],[0.4,\"#fde0ef\"],[0.5,\"#f7f7f7\"],[0.6,\"#e6f5d0\"],[0.7,\"#b8e186\"],[0.8,\"#7fbc41\"],[0.9,\"#4d9221\"],[1,\"#276419\"]]},\"xaxis\":{\"gridcolor\":\"white\",\"linecolor\":\"white\",\"ticks\":\"\",\"title\":{\"standoff\":15},\"zerolinecolor\":\"white\",\"automargin\":true,\"zerolinewidth\":2},\"yaxis\":{\"gridcolor\":\"white\",\"linecolor\":\"white\",\"ticks\":\"\",\"title\":{\"standoff\":15},\"zerolinecolor\":\"white\",\"automargin\":true,\"zerolinewidth\":2},\"scene\":{\"xaxis\":{\"backgroundcolor\":\"#E5ECF6\",\"gridcolor\":\"white\",\"linecolor\":\"white\",\"showbackground\":true,\"ticks\":\"\",\"zerolinecolor\":\"white\",\"gridwidth\":2},\"yaxis\":{\"backgroundcolor\":\"#E5ECF6\",\"gridcolor\":\"white\",\"linecolor\":\"white\",\"showbackground\":true,\"ticks\":\"\",\"zerolinecolor\":\"white\",\"gridwidth\":2},\"zaxis\":{\"backgroundcolor\":\"#E5ECF6\",\"gridcolor\":\"white\",\"linecolor\":\"white\",\"showbackground\":true,\"ticks\":\"\",\"zerolinecolor\":\"white\",\"gridwidth\":2}},\"shapedefaults\":{\"line\":{\"color\":\"#2a3f5f\"}},\"annotationdefaults\":{\"arrowcolor\":\"#2a3f5f\",\"arrowhead\":0,\"arrowwidth\":1},\"geo\":{\"bgcolor\":\"white\",\"landcolor\":\"#E5ECF6\",\"subunitcolor\":\"white\",\"showland\":true,\"showlakes\":true,\"lakecolor\":\"white\"},\"title\":{\"x\":0.05},\"mapbox\":{\"style\":\"light\"}}},\"annotations\":[{\"showarrow\":false,\"text\":\"338.357\",\"x\":\"localhost231120090001\",\"y\":348.357},{\"showarrow\":false,\"text\":\"279.372\",\"x\":\"localhost220513100001_KK22-05-198_FactinAdjusted\",\"y\":289.372},{\"showarrow\":false,\"text\":\"676.675\",\"x\":\"localhost220512140003_KK22-05-198\",\"y\":686.675},{\"showarrow\":false,\"text\":\"416.983\",\"x\":\"localhost230405150001\",\"y\":426.983}],\"title\":{\"text\":\"CFReT File Sizes (MB)\"},\"xaxis\":{\"title\":{\"text\":\"Plate Names\"}},\"yaxis\":{\"title\":{\"text\":\"File Size (MB)\"}}},                        {\"responsive\": true}                    ).then(function(){\n",
       "                            \n",
       "var gd = document.getElementById('6665ad47-5ce8-4c10-891e-2994c2d0a899');\n",
       "var x = new MutationObserver(function (mutations, observer) {{\n",
       "        var display = window.getComputedStyle(gd).display;\n",
       "        if (!display || display === 'none') {{\n",
       "            console.log([gd, 'removed!']);\n",
       "            Plotly.purge(gd);\n",
       "            observer.disconnect();\n",
       "        }}\n",
       "}});\n",
       "\n",
       "// Listen for the removal of the full notebook cells\n",
       "var notebookContainer = gd.closest('#notebook-container');\n",
       "if (notebookContainer) {{\n",
       "    x.observe(notebookContainer, {childList: true});\n",
       "}}\n",
       "\n",
       "// Listen for the clearing of the current output cell\n",
       "var outputEl = gd.closest('.output');\n",
       "if (outputEl) {{\n",
       "    x.observe(outputEl, {childList: true});\n",
       "}}\n",
       "\n",
       "                        })                };                });            </script>        </div>"
      ]
     },
     "metadata": {},
     "output_type": "display_data"
    }
   ],
   "source": [
    "plot_file_sizes(cfret_file_sizes, title=\"CFReT File Sizes (MB)\")"
   ]
  },
  {
   "cell_type": "markdown",
   "metadata": {},
   "source": [
    "## Plotting run time performance"
   ]
  },
  {
   "cell_type": "code",
   "execution_count": 103,
   "metadata": {},
   "outputs": [
    {
     "data": {
      "text/plain": [
       "47.748000000000005"
      ]
     },
     "execution_count": 103,
     "metadata": {},
     "output_type": "execute_result"
    }
   ],
   "source": [
    "# summin all\n",
    "control_time_nf1 = round(control_nf1[\"time_duration\"].sum() / 60, 3)\n",
    "test_time_nf1 = round(cytosnake_nf1[\"time_duration\"].max() / 60, 3)"
   ]
  },
  {
   "cell_type": "code",
   "execution_count": 104,
   "metadata": {},
   "outputs": [],
   "source": [
    "# this is done with sqlite files\n",
    "control_time_cfret = control_cfret[\"time_duration\"].sum() / 60\n",
    "test_time_cfret = cytosnake_cfret[\"time_duration\"].max() / 60"
   ]
  },
  {
   "cell_type": "code",
   "execution_count": null,
   "metadata": {},
   "outputs": [],
   "source": [
    "legend_labels = [\"cytosnake\", \"data-repo\"]\n",
    "x_labels = [\"cfret\", \"nf1\"]"
   ]
  },
  {
   "cell_type": "code",
   "execution_count": 106,
   "metadata": {},
   "outputs": [
    {
     "data": {
      "image/png": "[encoded data removed]",
      "text/plain": [
       "<Figure size 640x480 with 1 Axes>"
      ]
     },
     "metadata": {},
     "output_type": "display_data"
    }
   ],
   "source": [
    "import matplotlib.pyplot as plt\n",
    "import numpy as np\n",
    "\n",
    "# Data\n",
    "control_time_nf1 = round(control_nf1[\"time_duration\"].sum() / 60, 3)\n",
    "test_time_nf1 = round(cytosnake_nf1[\"time_duration\"].max() / 60, 3)\n",
    "\n",
    "control_time_cfret = round(control_cfret[\"time_duration\"].sum() / 60, 3)\n",
    "test_time_cfret = round(cytosnake_cfret[\"time_duration\"].max() / 60, 3)\n",
    "\n",
    "legend_labels = [\"cytosnake\", \"data-repo\"]\n",
    "x_labels = [\"cfret\", \"nf1\"]\n",
    "\n",
    "control_times = [control_time_cfret, control_time_nf1]\n",
    "test_times = [test_time_cfret, test_time_nf1]\n",
    "\n",
    "bar_width = 0.35\n",
    "index = np.arange(len(x_labels))\n",
    "\n",
    "# Create a bar plot\n",
    "fig, ax = plt.subplots()\n",
    "bar1 = ax.bar(index, control_times, bar_width, label=legend_labels[1])\n",
    "bar2 = ax.bar(index + bar_width, test_times, bar_width, label=legend_labels[0])\n",
    "\n",
    "# Adding labels and title\n",
    "ax.set_xlabel(\"Dataset\")\n",
    "ax.set_ylabel(\"Time (minutes)\")\n",
    "ax.set_title(\"Comparison of Control and Test Times\")\n",
    "ax.set_xticks(index + bar_width / 2)\n",
    "ax.set_xticklabels(x_labels)\n",
    "ax.legend()\n",
    "\n",
    "# Show the plot\n",
    "plt.show()"
   ]
  },
  {
   "cell_type": "code",
   "execution_count": 107,
   "metadata": {},
   "outputs": [
    {
     "data": {
      "text/plain": [
       "0.796"
      ]
     },
     "execution_count": 107,
     "metadata": {},
     "output_type": "execute_result"
    }
   ],
   "source": [
    "## Peak memory usage"
   ]
  },
  {
   "cell_type": "code",
   "execution_count": 111,
   "metadata": {},
   "outputs": [
    {
     "data": {
      "text/html": [
       "<div>\n",
       "<style scoped>\n",
       "    .dataframe tbody tr th:only-of-type {\n",
       "        vertical-align: middle;\n",
       "    }\n",
       "\n",
       "    .dataframe tbody tr th {\n",
       "        vertical-align: top;\n",
       "    }\n",
       "\n",
       "    .dataframe thead th {\n",
       "        text-align: right;\n",
       "    }\n",
       "</style>\n",
       "<table border=\"1\" class=\"dataframe\">\n",
       "  <thead>\n",
       "    <tr style=\"text-align: right;\">\n",
       "      <th></th>\n",
       "      <th>pid</th>\n",
       "      <th>process_name</th>\n",
       "      <th>input_data_name</th>\n",
       "      <th>start_time</th>\n",
       "      <th>end_time</th>\n",
       "      <th>time_duration</th>\n",
       "      <th>total_allocations</th>\n",
       "      <th>peak_memory</th>\n",
       "      <th>file_size</th>\n",
       "    </tr>\n",
       "  </thead>\n",
       "  <tbody>\n",
       "    <tr>\n",
       "      <th>0</th>\n",
       "      <td>296901</td>\n",
       "      <td>normalize</td>\n",
       "      <td>Plate_4</td>\n",
       "      <td>2023-11-09 12:15:44.326</td>\n",
       "      <td>2023-11-09 12:15:47.675</td>\n",
       "      <td>3.349</td>\n",
       "      <td>2697600</td>\n",
       "      <td>622.491</td>\n",
       "      <td>222.945</td>\n",
       "    </tr>\n",
       "    <tr>\n",
       "      <th>1</th>\n",
       "      <td>296901</td>\n",
       "      <td>normalize</td>\n",
       "      <td>Plate_3_prime</td>\n",
       "      <td>2023-11-09 12:15:28.642</td>\n",
       "      <td>2023-11-09 12:15:33.599</td>\n",
       "      <td>4.957</td>\n",
       "      <td>2711400</td>\n",
       "      <td>1150.830</td>\n",
       "      <td>444.938</td>\n",
       "    </tr>\n",
       "    <tr>\n",
       "      <th>2</th>\n",
       "      <td>296901</td>\n",
       "      <td>normalize</td>\n",
       "      <td>Plate_3</td>\n",
       "      <td>2023-11-09 12:15:09.348</td>\n",
       "      <td>2023-11-09 12:15:15.394</td>\n",
       "      <td>6.046</td>\n",
       "      <td>2711861</td>\n",
       "      <td>1538.915</td>\n",
       "      <td>551.629</td>\n",
       "    </tr>\n",
       "    <tr>\n",
       "      <th>3</th>\n",
       "      <td>296901</td>\n",
       "      <td>aggregate</td>\n",
       "      <td>Plate_3_prime</td>\n",
       "      <td>2023-11-09 12:15:41.071</td>\n",
       "      <td>2023-11-09 12:15:42.108</td>\n",
       "      <td>1.037</td>\n",
       "      <td>668551</td>\n",
       "      <td>250.406</td>\n",
       "      <td>444.938</td>\n",
       "    </tr>\n",
       "    <tr>\n",
       "      <th>4</th>\n",
       "      <td>296901</td>\n",
       "      <td>feature_select</td>\n",
       "      <td>Plate_1</td>\n",
       "      <td>2023-11-09 12:14:56.535</td>\n",
       "      <td>2023-11-09 12:14:58.624</td>\n",
       "      <td>2.089</td>\n",
       "      <td>1638491</td>\n",
       "      <td>263.136</td>\n",
       "      <td>4.727</td>\n",
       "    </tr>\n",
       "    <tr>\n",
       "      <th>5</th>\n",
       "      <td>296901</td>\n",
       "      <td>annotate</td>\n",
       "      <td>Plate_3_prime</td>\n",
       "      <td>2023-11-09 12:15:25.512</td>\n",
       "      <td>2023-11-09 12:15:25.897</td>\n",
       "      <td>0.385</td>\n",
       "      <td>7667</td>\n",
       "      <td>517.028</td>\n",
       "      <td>444.938</td>\n",
       "    </tr>\n",
       "    <tr>\n",
       "      <th>6</th>\n",
       "      <td>296901</td>\n",
       "      <td>aggregate</td>\n",
       "      <td>Plate_4</td>\n",
       "      <td>2023-11-09 12:15:53.123</td>\n",
       "      <td>2023-11-09 12:15:54.005</td>\n",
       "      <td>0.882</td>\n",
       "      <td>688175</td>\n",
       "      <td>133.504</td>\n",
       "      <td>222.945</td>\n",
       "    </tr>\n",
       "    <tr>\n",
       "      <th>7</th>\n",
       "      <td>296901</td>\n",
       "      <td>aggregate</td>\n",
       "      <td>Plate_1</td>\n",
       "      <td>2023-11-09 12:14:58.787</td>\n",
       "      <td>2023-11-09 12:14:59.278</td>\n",
       "      <td>0.491</td>\n",
       "      <td>497903</td>\n",
       "      <td>4.767</td>\n",
       "      <td>4.727</td>\n",
       "    </tr>\n",
       "    <tr>\n",
       "      <th>8</th>\n",
       "      <td>296901</td>\n",
       "      <td>normalize</td>\n",
       "      <td>Plate_2</td>\n",
       "      <td>2023-11-09 12:15:00.073</td>\n",
       "      <td>2023-11-09 12:15:01.863</td>\n",
       "      <td>1.790</td>\n",
       "      <td>2015427</td>\n",
       "      <td>102.281</td>\n",
       "      <td>30.598</td>\n",
       "    </tr>\n",
       "    <tr>\n",
       "      <th>9</th>\n",
       "      <td>296901</td>\n",
       "      <td>annotate</td>\n",
       "      <td>Plate_1</td>\n",
       "      <td>2023-11-09 12:14:54.557</td>\n",
       "      <td>2023-11-09 12:14:54.627</td>\n",
       "      <td>0.070</td>\n",
       "      <td>4206</td>\n",
       "      <td>6.753</td>\n",
       "      <td>4.727</td>\n",
       "    </tr>\n",
       "    <tr>\n",
       "      <th>10</th>\n",
       "      <td>296901</td>\n",
       "      <td>feature_select</td>\n",
       "      <td>Plate_2</td>\n",
       "      <td>2023-11-09 12:15:01.938</td>\n",
       "      <td>2023-11-09 12:15:04.334</td>\n",
       "      <td>2.396</td>\n",
       "      <td>1670719</td>\n",
       "      <td>173.962</td>\n",
       "      <td>30.598</td>\n",
       "    </tr>\n",
       "    <tr>\n",
       "      <th>11</th>\n",
       "      <td>296901</td>\n",
       "      <td>annotate</td>\n",
       "      <td>Plate_3</td>\n",
       "      <td>2023-11-09 12:15:05.560</td>\n",
       "      <td>2023-11-09 12:15:06.012</td>\n",
       "      <td>0.452</td>\n",
       "      <td>7102</td>\n",
       "      <td>659.955</td>\n",
       "      <td>551.629</td>\n",
       "    </tr>\n",
       "    <tr>\n",
       "      <th>12</th>\n",
       "      <td>296901</td>\n",
       "      <td>feature_select</td>\n",
       "      <td>Plate_4</td>\n",
       "      <td>2023-11-09 12:15:47.782</td>\n",
       "      <td>2023-11-09 12:15:52.878</td>\n",
       "      <td>5.096</td>\n",
       "      <td>2257278</td>\n",
       "      <td>505.028</td>\n",
       "      <td>222.945</td>\n",
       "    </tr>\n",
       "    <tr>\n",
       "      <th>13</th>\n",
       "      <td>296901</td>\n",
       "      <td>annotate</td>\n",
       "      <td>Plate_4</td>\n",
       "      <td>2023-11-09 12:15:42.431</td>\n",
       "      <td>2023-11-09 12:15:42.722</td>\n",
       "      <td>0.291</td>\n",
       "      <td>7725</td>\n",
       "      <td>528.461</td>\n",
       "      <td>222.945</td>\n",
       "    </tr>\n",
       "    <tr>\n",
       "      <th>14</th>\n",
       "      <td>296901</td>\n",
       "      <td>feature_select</td>\n",
       "      <td>Plate_3</td>\n",
       "      <td>2023-11-09 12:15:15.507</td>\n",
       "      <td>2023-11-09 12:15:23.323</td>\n",
       "      <td>7.816</td>\n",
       "      <td>2260062</td>\n",
       "      <td>1037.742</td>\n",
       "      <td>551.629</td>\n",
       "    </tr>\n",
       "    <tr>\n",
       "      <th>15</th>\n",
       "      <td>296901</td>\n",
       "      <td>feature_select</td>\n",
       "      <td>Plate_3_prime</td>\n",
       "      <td>2023-11-09 12:15:33.704</td>\n",
       "      <td>2023-11-09 12:15:40.809</td>\n",
       "      <td>7.105</td>\n",
       "      <td>2254338</td>\n",
       "      <td>769.446</td>\n",
       "      <td>444.938</td>\n",
       "    </tr>\n",
       "    <tr>\n",
       "      <th>16</th>\n",
       "      <td>296901</td>\n",
       "      <td>aggregate</td>\n",
       "      <td>Plate_3</td>\n",
       "      <td>2023-11-09 12:15:23.648</td>\n",
       "      <td>2023-11-09 12:15:25.075</td>\n",
       "      <td>1.427</td>\n",
       "      <td>685273</td>\n",
       "      <td>327.767</td>\n",
       "      <td>551.629</td>\n",
       "    </tr>\n",
       "    <tr>\n",
       "      <th>17</th>\n",
       "      <td>296901</td>\n",
       "      <td>annotate</td>\n",
       "      <td>Plate_2</td>\n",
       "      <td>2023-11-09 12:14:59.519</td>\n",
       "      <td>2023-11-09 12:14:59.635</td>\n",
       "      <td>0.116</td>\n",
       "      <td>5940</td>\n",
       "      <td>46.203</td>\n",
       "      <td>30.598</td>\n",
       "    </tr>\n",
       "    <tr>\n",
       "      <th>18</th>\n",
       "      <td>296901</td>\n",
       "      <td>normalize</td>\n",
       "      <td>Plate_1</td>\n",
       "      <td>2023-11-09 12:14:54.900</td>\n",
       "      <td>2023-11-09 12:14:56.409</td>\n",
       "      <td>1.509</td>\n",
       "      <td>2002268</td>\n",
       "      <td>27.017</td>\n",
       "      <td>4.727</td>\n",
       "    </tr>\n",
       "    <tr>\n",
       "      <th>19</th>\n",
       "      <td>296901</td>\n",
       "      <td>aggregate</td>\n",
       "      <td>Plate_2</td>\n",
       "      <td>2023-11-09 12:15:04.495</td>\n",
       "      <td>2023-11-09 12:15:04.939</td>\n",
       "      <td>0.444</td>\n",
       "      <td>502871</td>\n",
       "      <td>22.485</td>\n",
       "      <td>30.598</td>\n",
       "    </tr>\n",
       "  </tbody>\n",
       "</table>\n",
       "</div>"
      ],
      "text/plain": [
       "       pid    process_name input_data_name               start_time  \\\n",
       "0   296901       normalize         Plate_4  2023-11-09 12:15:44.326   \n",
       "1   296901       normalize   Plate_3_prime  2023-11-09 12:15:28.642   \n",
       "2   296901       normalize         Plate_3  2023-11-09 12:15:09.348   \n",
       "3   296901       aggregate   Plate_3_prime  2023-11-09 12:15:41.071   \n",
       "4   296901  feature_select         Plate_1  2023-11-09 12:14:56.535   \n",
       "5   296901        annotate   Plate_3_prime  2023-11-09 12:15:25.512   \n",
       "6   296901       aggregate         Plate_4  2023-11-09 12:15:53.123   \n",
       "7   296901       aggregate         Plate_1  2023-11-09 12:14:58.787   \n",
       "8   296901       normalize         Plate_2  2023-11-09 12:15:00.073   \n",
       "9   296901        annotate         Plate_1  2023-11-09 12:14:54.557   \n",
       "10  296901  feature_select         Plate_2  2023-11-09 12:15:01.938   \n",
       "11  296901        annotate         Plate_3  2023-11-09 12:15:05.560   \n",
       "12  296901  feature_select         Plate_4  2023-11-09 12:15:47.782   \n",
       "13  296901        annotate         Plate_4  2023-11-09 12:15:42.431   \n",
       "14  296901  feature_select         Plate_3  2023-11-09 12:15:15.507   \n",
       "15  296901  feature_select   Plate_3_prime  2023-11-09 12:15:33.704   \n",
       "16  296901       aggregate         Plate_3  2023-11-09 12:15:23.648   \n",
       "17  296901        annotate         Plate_2  2023-11-09 12:14:59.519   \n",
       "18  296901       normalize         Plate_1  2023-11-09 12:14:54.900   \n",
       "19  296901       aggregate         Plate_2  2023-11-09 12:15:04.495   \n",
       "\n",
       "                   end_time  time_duration  total_allocations  peak_memory  \\\n",
       "0   2023-11-09 12:15:47.675          3.349            2697600      622.491   \n",
       "1   2023-11-09 12:15:33.599          4.957            2711400     1150.830   \n",
       "2   2023-11-09 12:15:15.394          6.046            2711861     1538.915   \n",
       "3   2023-11-09 12:15:42.108          1.037             668551      250.406   \n",
       "4   2023-11-09 12:14:58.624          2.089            1638491      263.136   \n",
       "5   2023-11-09 12:15:25.897          0.385               7667      517.028   \n",
       "6   2023-11-09 12:15:54.005          0.882             688175      133.504   \n",
       "7   2023-11-09 12:14:59.278          0.491             497903        4.767   \n",
       "8   2023-11-09 12:15:01.863          1.790            2015427      102.281   \n",
       "9   2023-11-09 12:14:54.627          0.070               4206        6.753   \n",
       "10  2023-11-09 12:15:04.334          2.396            1670719      173.962   \n",
       "11  2023-11-09 12:15:06.012          0.452               7102      659.955   \n",
       "12  2023-11-09 12:15:52.878          5.096            2257278      505.028   \n",
       "13  2023-11-09 12:15:42.722          0.291               7725      528.461   \n",
       "14  2023-11-09 12:15:23.323          7.816            2260062     1037.742   \n",
       "15  2023-11-09 12:15:40.809          7.105            2254338      769.446   \n",
       "16  2023-11-09 12:15:25.075          1.427             685273      327.767   \n",
       "17  2023-11-09 12:14:59.635          0.116               5940       46.203   \n",
       "18  2023-11-09 12:14:56.409          1.509            2002268       27.017   \n",
       "19  2023-11-09 12:15:04.939          0.444             502871       22.485   \n",
       "\n",
       "    file_size  \n",
       "0     222.945  \n",
       "1     444.938  \n",
       "2     551.629  \n",
       "3     444.938  \n",
       "4       4.727  \n",
       "5     444.938  \n",
       "6     222.945  \n",
       "7       4.727  \n",
       "8      30.598  \n",
       "9       4.727  \n",
       "10     30.598  \n",
       "11    551.629  \n",
       "12    222.945  \n",
       "13    222.945  \n",
       "14    551.629  \n",
       "15    444.938  \n",
       "16    551.629  \n",
       "17     30.598  \n",
       "18      4.727  \n",
       "19     30.598  "
      ]
     },
     "execution_count": 111,
     "metadata": {},
     "output_type": "execute_result"
    }
   ],
   "source": [
    "control_nf1"
   ]
  },
  {
   "cell_type": "code",
   "execution_count": 112,
   "metadata": {},
   "outputs": [
    {
     "data": {
      "text/html": [
       "<div>\n",
       "<style scoped>\n",
       "    .dataframe tbody tr th:only-of-type {\n",
       "        vertical-align: middle;\n",
       "    }\n",
       "\n",
       "    .dataframe tbody tr th {\n",
       "        vertical-align: top;\n",
       "    }\n",
       "\n",
       "    .dataframe thead th {\n",
       "        text-align: right;\n",
       "    }\n",
       "</style>\n",
       "<table border=\"1\" class=\"dataframe\">\n",
       "  <thead>\n",
       "    <tr style=\"text-align: right;\">\n",
       "      <th></th>\n",
       "      <th>pid</th>\n",
       "      <th>process_name</th>\n",
       "      <th>input_data_name</th>\n",
       "      <th>start_time</th>\n",
       "      <th>end_time</th>\n",
       "      <th>time_duration</th>\n",
       "      <th>total_allocations</th>\n",
       "      <th>peak_memory</th>\n",
       "      <th>file_size</th>\n",
       "    </tr>\n",
       "  </thead>\n",
       "  <tbody>\n",
       "    <tr>\n",
       "      <th>0</th>\n",
       "      <td>2055507</td>\n",
       "      <td>feature_select</td>\n",
       "      <td>Plate_3_prime</td>\n",
       "      <td>2023-12-28 15:44:13.100</td>\n",
       "      <td>2023-12-28 15:45:03.253</td>\n",
       "      <td>50.153</td>\n",
       "      <td>29706986</td>\n",
       "      <td>735.230</td>\n",
       "      <td>444.938</td>\n",
       "    </tr>\n",
       "    <tr>\n",
       "      <th>1</th>\n",
       "      <td>2056506</td>\n",
       "      <td>feature_select</td>\n",
       "      <td>Plate_3</td>\n",
       "      <td>2023-12-28 15:45:49.986</td>\n",
       "      <td>2023-12-28 15:46:51.841</td>\n",
       "      <td>61.855</td>\n",
       "      <td>38371485</td>\n",
       "      <td>930.416</td>\n",
       "      <td>551.629</td>\n",
       "    </tr>\n",
       "    <tr>\n",
       "      <th>2</th>\n",
       "      <td>2039328</td>\n",
       "      <td>feature_select</td>\n",
       "      <td>Plate_2</td>\n",
       "      <td>2023-12-28 15:39:28.029</td>\n",
       "      <td>2023-12-28 15:39:34.022</td>\n",
       "      <td>5.993</td>\n",
       "      <td>2941689</td>\n",
       "      <td>192.806</td>\n",
       "      <td>30.598</td>\n",
       "    </tr>\n",
       "    <tr>\n",
       "      <th>3</th>\n",
       "      <td>2028154</td>\n",
       "      <td>analysis_annotate</td>\n",
       "      <td>Plate_1</td>\n",
       "      <td>2023-12-28 15:39:05.208</td>\n",
       "      <td>2023-12-28 15:39:07.372</td>\n",
       "      <td>2.164</td>\n",
       "      <td>1877874</td>\n",
       "      <td>43.003</td>\n",
       "      <td>4.727</td>\n",
       "    </tr>\n",
       "    <tr>\n",
       "      <th>4</th>\n",
       "      <td>2054817</td>\n",
       "      <td>analysis_annotate</td>\n",
       "      <td>Plate_3</td>\n",
       "      <td>2023-12-28 15:43:31.476</td>\n",
       "      <td>2023-12-28 15:45:34.531</td>\n",
       "      <td>123.055</td>\n",
       "      <td>104768964</td>\n",
       "      <td>1526.626</td>\n",
       "      <td>551.629</td>\n",
       "    </tr>\n",
       "    <tr>\n",
       "      <th>5</th>\n",
       "      <td>2033315</td>\n",
       "      <td>analysis_annotate</td>\n",
       "      <td>Plate_2</td>\n",
       "      <td>2023-12-28 15:39:13.335</td>\n",
       "      <td>2023-12-28 15:39:23.156</td>\n",
       "      <td>9.821</td>\n",
       "      <td>7699972</td>\n",
       "      <td>104.341</td>\n",
       "      <td>30.598</td>\n",
       "    </tr>\n",
       "    <tr>\n",
       "      <th>6</th>\n",
       "      <td>2051694</td>\n",
       "      <td>feature_select</td>\n",
       "      <td>Plate_4</td>\n",
       "      <td>2023-12-28 15:41:18.437</td>\n",
       "      <td>2023-12-28 15:41:53.149</td>\n",
       "      <td>34.712</td>\n",
       "      <td>17288206</td>\n",
       "      <td>484.301</td>\n",
       "      <td>222.945</td>\n",
       "    </tr>\n",
       "    <tr>\n",
       "      <th>7</th>\n",
       "      <td>2047513</td>\n",
       "      <td>analysis_normalize</td>\n",
       "      <td>Plate_4</td>\n",
       "      <td>2023-12-28 15:40:12.325</td>\n",
       "      <td>2023-12-28 15:41:16.722</td>\n",
       "      <td>64.397</td>\n",
       "      <td>43003649</td>\n",
       "      <td>1031.830</td>\n",
       "      <td>222.945</td>\n",
       "    </tr>\n",
       "    <tr>\n",
       "      <th>8</th>\n",
       "      <td>2047510</td>\n",
       "      <td>analysis_annotate</td>\n",
       "      <td>Plate_4</td>\n",
       "      <td>2023-12-28 15:40:12.214</td>\n",
       "      <td>2023-12-28 15:41:09.901</td>\n",
       "      <td>57.687</td>\n",
       "      <td>42705062</td>\n",
       "      <td>899.557</td>\n",
       "      <td>222.945</td>\n",
       "    </tr>\n",
       "    <tr>\n",
       "      <th>9</th>\n",
       "      <td>2034298</td>\n",
       "      <td>analysis_normalize</td>\n",
       "      <td>Plate_2</td>\n",
       "      <td>2023-12-28 15:39:15.598</td>\n",
       "      <td>2023-12-28 15:39:26.705</td>\n",
       "      <td>11.107</td>\n",
       "      <td>7816033</td>\n",
       "      <td>177.575</td>\n",
       "      <td>30.598</td>\n",
       "    </tr>\n",
       "    <tr>\n",
       "      <th>10</th>\n",
       "      <td>2053671</td>\n",
       "      <td>analysis_normalize</td>\n",
       "      <td>Plate_3_prime</td>\n",
       "      <td>2023-12-28 15:42:16.925</td>\n",
       "      <td>2023-12-28 15:44:11.498</td>\n",
       "      <td>114.573</td>\n",
       "      <td>82999060</td>\n",
       "      <td>1895.686</td>\n",
       "      <td>444.938</td>\n",
       "    </tr>\n",
       "    <tr>\n",
       "      <th>11</th>\n",
       "      <td>2054814</td>\n",
       "      <td>analysis_normalize</td>\n",
       "      <td>Plate_3</td>\n",
       "      <td>2023-12-28 15:43:31.413</td>\n",
       "      <td>2023-12-28 15:45:48.313</td>\n",
       "      <td>136.900</td>\n",
       "      <td>105419266</td>\n",
       "      <td>2496.674</td>\n",
       "      <td>551.629</td>\n",
       "    </tr>\n",
       "    <tr>\n",
       "      <th>12</th>\n",
       "      <td>2053674</td>\n",
       "      <td>analysis_annotate</td>\n",
       "      <td>Plate_3_prime</td>\n",
       "      <td>2023-12-28 15:42:16.984</td>\n",
       "      <td>2023-12-28 15:44:00.844</td>\n",
       "      <td>103.860</td>\n",
       "      <td>82471101</td>\n",
       "      <td>1135.805</td>\n",
       "      <td>444.938</td>\n",
       "    </tr>\n",
       "    <tr>\n",
       "      <th>13</th>\n",
       "      <td>2030600</td>\n",
       "      <td>analysis_normalize</td>\n",
       "      <td>Plate_1</td>\n",
       "      <td>2023-12-28 15:39:08.851</td>\n",
       "      <td>2023-12-28 15:39:11.265</td>\n",
       "      <td>2.414</td>\n",
       "      <td>1929661</td>\n",
       "      <td>42.694</td>\n",
       "      <td>4.727</td>\n",
       "    </tr>\n",
       "    <tr>\n",
       "      <th>14</th>\n",
       "      <td>2032951</td>\n",
       "      <td>feature_select</td>\n",
       "      <td>Plate_1</td>\n",
       "      <td>2023-12-28 15:39:12.699</td>\n",
       "      <td>2023-12-28 15:39:14.354</td>\n",
       "      <td>1.655</td>\n",
       "      <td>614913</td>\n",
       "      <td>166.775</td>\n",
       "      <td>4.727</td>\n",
       "    </tr>\n",
       "  </tbody>\n",
       "</table>\n",
       "</div>"
      ],
      "text/plain": [
       "        pid        process_name input_data_name               start_time  \\\n",
       "0   2055507      feature_select   Plate_3_prime  2023-12-28 15:44:13.100   \n",
       "1   2056506      feature_select         Plate_3  2023-12-28 15:45:49.986   \n",
       "2   2039328      feature_select         Plate_2  2023-12-28 15:39:28.029   \n",
       "3   2028154   analysis_annotate         Plate_1  2023-12-28 15:39:05.208   \n",
       "4   2054817   analysis_annotate         Plate_3  2023-12-28 15:43:31.476   \n",
       "5   2033315   analysis_annotate         Plate_2  2023-12-28 15:39:13.335   \n",
       "6   2051694      feature_select         Plate_4  2023-12-28 15:41:18.437   \n",
       "7   2047513  analysis_normalize         Plate_4  2023-12-28 15:40:12.325   \n",
       "8   2047510   analysis_annotate         Plate_4  2023-12-28 15:40:12.214   \n",
       "9   2034298  analysis_normalize         Plate_2  2023-12-28 15:39:15.598   \n",
       "10  2053671  analysis_normalize   Plate_3_prime  2023-12-28 15:42:16.925   \n",
       "11  2054814  analysis_normalize         Plate_3  2023-12-28 15:43:31.413   \n",
       "12  2053674   analysis_annotate   Plate_3_prime  2023-12-28 15:42:16.984   \n",
       "13  2030600  analysis_normalize         Plate_1  2023-12-28 15:39:08.851   \n",
       "14  2032951      feature_select         Plate_1  2023-12-28 15:39:12.699   \n",
       "\n",
       "                   end_time  time_duration  total_allocations  peak_memory  \\\n",
       "0   2023-12-28 15:45:03.253         50.153           29706986      735.230   \n",
       "1   2023-12-28 15:46:51.841         61.855           38371485      930.416   \n",
       "2   2023-12-28 15:39:34.022          5.993            2941689      192.806   \n",
       "3   2023-12-28 15:39:07.372          2.164            1877874       43.003   \n",
       "4   2023-12-28 15:45:34.531        123.055          104768964     1526.626   \n",
       "5   2023-12-28 15:39:23.156          9.821            7699972      104.341   \n",
       "6   2023-12-28 15:41:53.149         34.712           17288206      484.301   \n",
       "7   2023-12-28 15:41:16.722         64.397           43003649     1031.830   \n",
       "8   2023-12-28 15:41:09.901         57.687           42705062      899.557   \n",
       "9   2023-12-28 15:39:26.705         11.107            7816033      177.575   \n",
       "10  2023-12-28 15:44:11.498        114.573           82999060     1895.686   \n",
       "11  2023-12-28 15:45:48.313        136.900          105419266     2496.674   \n",
       "12  2023-12-28 15:44:00.844        103.860           82471101     1135.805   \n",
       "13  2023-12-28 15:39:11.265          2.414            1929661       42.694   \n",
       "14  2023-12-28 15:39:14.354          1.655             614913      166.775   \n",
       "\n",
       "    file_size  \n",
       "0     444.938  \n",
       "1     551.629  \n",
       "2      30.598  \n",
       "3       4.727  \n",
       "4     551.629  \n",
       "5      30.598  \n",
       "6     222.945  \n",
       "7     222.945  \n",
       "8     222.945  \n",
       "9      30.598  \n",
       "10    444.938  \n",
       "11    551.629  \n",
       "12    444.938  \n",
       "13      4.727  \n",
       "14      4.727  "
      ]
     },
     "execution_count": 112,
     "metadata": {},
     "output_type": "execute_result"
    }
   ],
   "source": [
    "cytosnake_nf1"
   ]
  },
  {
   "cell_type": "code",
   "execution_count": null,
   "metadata": {},
   "outputs": [],
   "source": []
  }
 ],
 "metadata": {
  "kernelspec": {
   "display_name": "cytosnake_benchmarks",
   "language": "python",
   "name": "python3"
  },
  "language_info": {
   "codemirror_mode": {
    "name": "ipython",
    "version": 3
   },
   "file_extension": ".py",
   "mimetype": "text/x-python",
   "name": "python",
   "nbconvert_exporter": "python",
   "pygments_lexer": "ipython3",
   "version": "3.11.5"
  }
 },
 "nbformat": 4,
 "nbformat_minor": 2
}
