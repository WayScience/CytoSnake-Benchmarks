{
 "cells": [
  {
   "cell_type": "markdown",
   "metadata": {},
   "source": [
    "# Benchmark Preparation from NF1 Data Repository\n",
    "\n",
    "This notebook focuses on the conversion of binarized files generated from Memray into JSON files within the context of the NF1 Data Repository. Furthermore, the notebook generates a JSON file that stores information related to the sizes of input files, allowing for the monitoring of their initial sizes at the start of the workflow. \n",
    "\n",
    "**Note:** To successfully execute this notebook, it must reside in the [nf1-data-repo](https://github.com/WayScience/nf1_cellpainting_data), specifically within this [directory](https://github.com/WayScience/nf1_cellpainting_data/tree/main/3.processing_features). Ensure that the `benchmarks` folder is present in that directory.\n",
    "\n",
    "The inclusion of this notebook here aims to provide transparency regarding the benchmarking preparations before integrating them into the [CytoSnake-Benchmarks](https://github.com/WayScience/CytoSnake-Benchmarks) repository."
   ]
  },
  {
   "cell_type": "code",
   "execution_count": 1,
   "metadata": {},
   "outputs": [],
   "source": [
    "import json\n",
    "import subprocess\n",
    "import pathlib"
   ]
  },
  {
   "cell_type": "markdown",
   "metadata": {},
   "source": [
    "## Setting parameters\n",
    "\n",
    "This section contains all the parameters used to run this benchmark"
   ]
  },
  {
   "cell_type": "code",
   "execution_count": 2,
   "metadata": {},
   "outputs": [],
   "source": [
    "# constants\n",
    "CWD_PATH = pathlib.Path().resolve(strict=True)\n",
    "\n",
    "# inputs\n",
    "DATA_DIR = pathlib.Path(\"../../2.cellprofiler_analysis/analysis_output/\").resolve(\n",
    "    strict=True\n",
    ")\n",
    "SINGLE_BENCHMARK_DIR = pathlib.Path(\"./single_benchmarks/\").resolve(strict=True)\n",
    "BULK_BENCHMARK_DIR = pathlib.Path(\"./bulk_benchmarks/\").resolve(strict=True)"
   ]
  },
  {
   "cell_type": "markdown",
   "metadata": {},
   "source": [
    "## Benchmarking Preparation\n",
    "\n",
    "In this section, we collect infromation in  regards to file sizes and store it JSON file. Next, we utilize `Memray's` [stats](https://bloomberg.github.io/memray/stats.html) command line tool, leveraging the `subprocess` module, to convert all binary files (bin files) into JSON files.\n",
    "\n",
    "All processed files are systematically stored within their respective benchmark folders."
   ]
  },
  {
   "cell_type": "markdown",
   "metadata": {},
   "source": [
    "## Getting input file size \n",
    "\n",
    "Extracting file size information from the provided directory path and transforming it into a JSON file."
   ]
  },
  {
   "cell_type": "code",
   "execution_count": 3,
   "metadata": {},
   "outputs": [],
   "source": [
    "# get all data files\n",
    "plate_files = DATA_DIR.glob(\"Plate_*/*.sqlite\")\n",
    "\n",
    "# create a dictionary that contains the plate name and file size in MB\n",
    "file_size_map = {}\n",
    "for plate_name in plate_files:\n",
    "    name = plate_name.stem.split(\"_nf1\")[0]\n",
    "    file_size = plate_name.stat().st_size\n",
    "    file_size_map[name] = round(file_size / 1024**2, 3)\n",
    "\n",
    "# writing out json file containing file size info\n",
    "with open(\"file_size.json\", encoding=\"utf-8\", mode=\"w\") as stream:\n",
    "    json.dump(file_size_map, stream, indent=4)"
   ]
  },
  {
   "cell_type": "markdown",
   "metadata": {},
   "source": [
    "### Converting all `.bin` into `.json` files\n",
    "\n",
    "Converting all bin files into json files."
   ]
  },
  {
   "cell_type": "code",
   "execution_count": 4,
   "metadata": {},
   "outputs": [
    {
     "name": "stdout",
     "output_type": "stream",
     "text": [
      "single_benchmarks/Plate_3_nf1_singlecell_aggregate_benchmarks.bin was successfully converted into single_benchmarks/Plate_3_nf1_singlecell_aggregate_benchmarks.json\n",
      "single_benchmarks/Plate_2_nf1_singlecell_annotate_benchmarks.bin was successfully converted into single_benchmarks/Plate_2_nf1_singlecell_annotate_benchmarks.json\n",
      "single_benchmarks/Plate_2_nf1_singlecell_normalize_benchmarks.bin was successfully converted into single_benchmarks/Plate_2_nf1_singlecell_normalize_benchmarks.json\n",
      "single_benchmarks/Plate_2_nf1_singlecell_aggregate_benchmarks.bin was successfully converted into single_benchmarks/Plate_2_nf1_singlecell_aggregate_benchmarks.json\n",
      "single_benchmarks/Plate_3_prime_nf1_singlecell_feature_select_benchmarks.bin was successfully converted into single_benchmarks/Plate_3_prime_nf1_singlecell_feature_select_benchmarks.json\n",
      "single_benchmarks/Plate_1_nf1_singlecell_feature_select_benchmarks.bin was successfully converted into single_benchmarks/Plate_1_nf1_singlecell_feature_select_benchmarks.json\n",
      "single_benchmarks/Plate_3_prime_nf1_singlecell_annotate_benchmarks.bin was successfully converted into single_benchmarks/Plate_3_prime_nf1_singlecell_annotate_benchmarks.json\n",
      "single_benchmarks/Plate_2_nf1_singlecell_feature_select_benchmarks.bin was successfully converted into single_benchmarks/Plate_2_nf1_singlecell_feature_select_benchmarks.json\n",
      "single_benchmarks/Plate_1_nf1_singlecell_normalize_benchmarks.bin was successfully converted into single_benchmarks/Plate_1_nf1_singlecell_normalize_benchmarks.json\n",
      "single_benchmarks/Plate_4_nf1_singlecell_aggregate_benchmarks.bin was successfully converted into single_benchmarks/Plate_4_nf1_singlecell_aggregate_benchmarks.json\n",
      "single_benchmarks/Plate_3_nf1_singlecell_feature_select_benchmarks.bin was successfully converted into single_benchmarks/Plate_3_nf1_singlecell_feature_select_benchmarks.json\n",
      "single_benchmarks/Plate_3_prime_nf1_singlecell_normalize_benchmarks.bin was successfully converted into single_benchmarks/Plate_3_prime_nf1_singlecell_normalize_benchmarks.json\n",
      "single_benchmarks/Plate_4_nf1_singlecell_normalize_benchmarks.bin was successfully converted into single_benchmarks/Plate_4_nf1_singlecell_normalize_benchmarks.json\n",
      "single_benchmarks/Plate_4_nf1_singlecell_feature_select_benchmarks.bin was successfully converted into single_benchmarks/Plate_4_nf1_singlecell_feature_select_benchmarks.json\n",
      "single_benchmarks/Plate_3_prime_nf1_singlecell_aggregate_benchmarks.bin was successfully converted into single_benchmarks/Plate_3_prime_nf1_singlecell_aggregate_benchmarks.json\n",
      "single_benchmarks/Plate_3_nf1_singlecell_normalize_benchmarks.bin was successfully converted into single_benchmarks/Plate_3_nf1_singlecell_normalize_benchmarks.json\n",
      "single_benchmarks/Plate_4_nf1_singlecell_annotate_benchmarks.bin was successfully converted into single_benchmarks/Plate_4_nf1_singlecell_annotate_benchmarks.json\n",
      "single_benchmarks/Plate_1_nf1_singlecell_annotate_benchmarks.bin was successfully converted into single_benchmarks/Plate_1_nf1_singlecell_annotate_benchmarks.json\n",
      "single_benchmarks/Plate_3_nf1_singlecell_annotate_benchmarks.bin was successfully converted into single_benchmarks/Plate_3_nf1_singlecell_annotate_benchmarks.json\n",
      "single_benchmarks/Plate_1_nf1_singlecell_aggregate_benchmarks.bin was successfully converted into single_benchmarks/Plate_1_nf1_singlecell_aggregate_benchmarks.json\n",
      "bulk_benchmarks/Plate_4_nf1_bulk_feature_select_benchmark.bin was successfully converted into bulk_benchmarks/Plate_4_nf1_bulk_feature_select_benchmark.json\n",
      "bulk_benchmarks/Plate_4_nf1_bulk_normalize_benchmark.bin was successfully converted into bulk_benchmarks/Plate_4_nf1_bulk_normalize_benchmark.json\n",
      "bulk_benchmarks/Plate_3_nf1_bulk_normalize_benchmark.bin was successfully converted into bulk_benchmarks/Plate_3_nf1_bulk_normalize_benchmark.json\n",
      "bulk_benchmarks/Plate_3_prime_nf1_bulk_aggregate_benchmark.bin was successfully converted into bulk_benchmarks/Plate_3_prime_nf1_bulk_aggregate_benchmark.json\n",
      "bulk_benchmarks/Plate_4_nf1_bulk_aggregate_benchmark.bin was successfully converted into bulk_benchmarks/Plate_4_nf1_bulk_aggregate_benchmark.json\n",
      "bulk_benchmarks/Plate_2_nf1_bulk_annotate_benchmark.bin was successfully converted into bulk_benchmarks/Plate_2_nf1_bulk_annotate_benchmark.json\n",
      "bulk_benchmarks/Plate_1_nf1_bulk_normalize_benchmark.bin was successfully converted into bulk_benchmarks/Plate_1_nf1_bulk_normalize_benchmark.json\n",
      "bulk_benchmarks/Plate_3_nf1_bulk_aggregate_benchmark.bin was successfully converted into bulk_benchmarks/Plate_3_nf1_bulk_aggregate_benchmark.json\n",
      "bulk_benchmarks/Plate_4_nf1_bulk_annotate_benchmark.bin was successfully converted into bulk_benchmarks/Plate_4_nf1_bulk_annotate_benchmark.json\n",
      "bulk_benchmarks/Plate_1_nf1_bulk_feature_select_benchmark.bin was successfully converted into bulk_benchmarks/Plate_1_nf1_bulk_feature_select_benchmark.json\n",
      "bulk_benchmarks/Plate_3_nf1_bulk_feature_select_benchmark.bin was successfully converted into bulk_benchmarks/Plate_3_nf1_bulk_feature_select_benchmark.json\n",
      "bulk_benchmarks/Plate_3_nf1_bulk_annotate_benchmark.bin was successfully converted into bulk_benchmarks/Plate_3_nf1_bulk_annotate_benchmark.json\n",
      "bulk_benchmarks/Plate_2_nf1_bulk_feature_select_benchmark.bin was successfully converted into bulk_benchmarks/Plate_2_nf1_bulk_feature_select_benchmark.json\n",
      "bulk_benchmarks/Plate_3_prime_nf1_bulk_annotate_benchmark.bin was successfully converted into bulk_benchmarks/Plate_3_prime_nf1_bulk_annotate_benchmark.json\n",
      "bulk_benchmarks/Plate_1_nf1_bulk_aggregate_benchmark.bin was successfully converted into bulk_benchmarks/Plate_1_nf1_bulk_aggregate_benchmark.json\n",
      "bulk_benchmarks/Plate_2_nf1_bulk_normalize_benchmark.bin was successfully converted into bulk_benchmarks/Plate_2_nf1_bulk_normalize_benchmark.json\n",
      "bulk_benchmarks/Plate_3_prime_nf1_bulk_feature_select_benchmark.bin was successfully converted into bulk_benchmarks/Plate_3_prime_nf1_bulk_feature_select_benchmark.json\n",
      "bulk_benchmarks/Plate_2_nf1_bulk_aggregate_benchmark.bin was successfully converted into bulk_benchmarks/Plate_2_nf1_bulk_aggregate_benchmark.json\n",
      "bulk_benchmarks/Plate_3_prime_nf1_bulk_normalize_benchmark.bin was successfully converted into bulk_benchmarks/Plate_3_prime_nf1_bulk_normalize_benchmark.json\n",
      "bulk_benchmarks/Plate_1_nf1_bulk_annotate_benchmark.bin was successfully converted into bulk_benchmarks/Plate_1_nf1_bulk_annotate_benchmark.json\n"
     ]
    }
   ],
   "source": [
    "# converting all single benchmark files into json\n",
    "for bin_path in SINGLE_BENCHMARK_DIR.glob(\"*.bin\"):\n",
    "    json_out = SINGLE_BENCHMARK_DIR / f\"{bin_path.stem}.json\"\n",
    "\n",
    "    # # executing memray to convert bin files into json files\n",
    "    memray_stats = subprocess.run(\n",
    "        [\n",
    "            \"memray\",\n",
    "            \"stats\",\n",
    "            \"--json\",\n",
    "            \"--output\",\n",
    "            str(json_out),\n",
    "            \"--force\",\n",
    "            str(bin_path),\n",
    "        ],\n",
    "        capture_output=True,\n",
    "        check=True,\n",
    "    )\n",
    "\n",
    "    # stdout message\n",
    "    print(\n",
    "        f\"{bin_path.relative_to(CWD_PATH)} was successfully converted into {json_out.relative_to(CWD_PATH)}\"\n",
    "    )\n",
    "\n",
    "# converting all bulk benchmark files into json\n",
    "for bin_path in BULK_BENCHMARK_DIR.glob(\"*.bin\"):\n",
    "    json_out = BULK_BENCHMARK_DIR / f\"{bin_path.stem}.json\"\n",
    "\n",
    "    # # executing memray to convert bin files into json files\n",
    "    memray_stats = subprocess.run(\n",
    "        [\n",
    "            \"memray\",\n",
    "            \"stats\",\n",
    "            \"--json\",\n",
    "            \"--output\",\n",
    "            str(json_out),\n",
    "            \"--force\",\n",
    "            str(bin_path),\n",
    "        ],\n",
    "        capture_output=True,\n",
    "        check=True,\n",
    "    )\n",
    "\n",
    "    # stdout message\n",
    "    print(\n",
    "        f\"{bin_path.relative_to(CWD_PATH)} was successfully converted into {json_out.relative_to(CWD_PATH)}\"\n",
    "    )"
   ]
  }
 ],
 "metadata": {
  "kernelspec": {
   "display_name": "Python 3",
   "language": "python",
   "name": "python3"
  },
  "language_info": {
   "codemirror_mode": {
    "name": "ipython",
    "version": 3
   },
   "file_extension": ".py",
   "mimetype": "text/x-python",
   "name": "python",
   "nbconvert_exporter": "python",
   "pygments_lexer": "ipython3",
   "version": "3.11.5"
  }
 },
 "nbformat": 4,
 "nbformat_minor": 2
}
