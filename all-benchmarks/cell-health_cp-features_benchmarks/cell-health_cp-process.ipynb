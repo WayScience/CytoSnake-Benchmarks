{
 "cells": [
  {
   "cell_type": "markdown",
   "metadata": {},
   "source": [
    "# Cell-Health CP feature with CytoSnake's `cp_process` Wortkflow Benchmarking Notebook.\n",
    "\n",
    "This study focuses on benchmarking CytoSnake's cp_process workflow using the Cell-Health dataset. We assess the workflow's performance in terms of time, memory allocation, and memory usage to provide a detailed understanding of its efficiency.\n",
    "\n",
    "Development of this notebook has been heavily influced by `CytoTable-Benchmark` [repo](https://github.com/cytomining/CytoTable-benchmarks/blob/main/notebooks/cytotable_and_pycytominer_analysis.ipynb) developed by [Dave Bunten](https://github.com/d33bs)"
   ]
  },
  {
   "cell_type": "code",
   "execution_count": 1,
   "metadata": {},
   "outputs": [],
   "source": [
    "import sys\n",
    "import pathlib\n",
    "import shutil\n",
    "import subprocess\n",
    "import json\n",
    "import warnings\n",
    "from datetime import datetime\n",
    "\n",
    "import numpy as np\n",
    "import pandas as pd\n",
    "import plotly.express as px\n",
    "import plotly.graph_objects as go\n",
    "\n",
    "sys.path.append(\"..\")\n",
    "from src.common import get_benchmark_files, create_filename_path_mapping\n",
    "\n",
    "warnings.filterwarnings(\"ignore\")"
   ]
  },
  {
   "cell_type": "markdown",
   "metadata": {},
   "source": [
    "## Parameters\n",
    "\n",
    "Below are the list of paramters used in this notebook\n"
   ]
  },
  {
   "cell_type": "code",
   "execution_count": 2,
   "metadata": {},
   "outputs": [],
   "source": [
    "# inputs\n",
    "CWD_PATH = pathlib.Path(\".\").resolve(strict=True)\n",
    "BENCHMARK_DIR_PATH = pathlib.Path(\"./benchmarks\").resolve(strict=True)\n",
    "README_PATH = pathlib.Path(\"./README.md\").resolve(strict=True)\n",
    "DATA_DIR = pathlib.Path(\"./data\").resolve()\n",
    "\n",
    "# outputs\n",
    "IMAGE_DIR = pathlib.Path(\"images\")\n",
    "IMAGE_DIR.mkdir(exist_ok=True)"
   ]
  },
  {
   "cell_type": "markdown",
   "metadata": {},
   "source": [
    "## Converting binary files into json files\n",
    "\n",
    "In this section, we will focus on converting the memory output files from binary (`.bin`) format to JSON files. \n",
    "These files hold the raw calculations generated during the benchmarking process. To begin, we use the `get_all_bin_files()` to locate all binarized files. The we use the `memray stats` process to convert the `.bin` files into `.json` files iteratively.\n",
    "The resulting JSON file will provide a structured representation of the data, making it more accessible and suitable for analysis."
   ]
  },
  {
   "cell_type": "code",
   "execution_count": 3,
   "metadata": {},
   "outputs": [
    {
     "name": "stdout",
     "output_type": "stream",
     "text": [
      "benchmarks/SQ00014610_normalize_benchmark.bin was successfully converted into benchmarks/SQ00014610_normalize_benchmark.json\n",
      "benchmarks/SQ00014618_annotate_benchmark.bin was successfully converted into benchmarks/SQ00014618_annotate_benchmark.json\n",
      "benchmarks/SQ00014615_aggregate_benchmark.bin was successfully converted into benchmarks/SQ00014615_aggregate_benchmark.json\n",
      "benchmarks/SQ00014617_normalize_benchmark.bin was successfully converted into benchmarks/SQ00014617_normalize_benchmark.json\n",
      "benchmarks/SQ00014618_aggregate_benchmark.bin was successfully converted into benchmarks/SQ00014618_aggregate_benchmark.json\n",
      "benchmarks/SQ00014611_aggregate_benchmark.bin was successfully converted into benchmarks/SQ00014611_aggregate_benchmark.json\n",
      "benchmarks/SQ00014613_normalize_benchmark.bin was successfully converted into benchmarks/SQ00014613_normalize_benchmark.json\n",
      "benchmarks/SQ00014615_annotate_benchmark.bin was successfully converted into benchmarks/SQ00014615_annotate_benchmark.json\n",
      "benchmarks/SQ00014616_annotate_benchmark.bin was successfully converted into benchmarks/SQ00014616_annotate_benchmark.json\n",
      "benchmarks/SQ00014610_annotate_benchmark.bin was successfully converted into benchmarks/SQ00014610_annotate_benchmark.json\n",
      "benchmarks/SQ00014614_annotate_benchmark.bin was successfully converted into benchmarks/SQ00014614_annotate_benchmark.json\n",
      "benchmarks/SQ00014611_annotate_benchmark.bin was successfully converted into benchmarks/SQ00014611_annotate_benchmark.json\n",
      "benchmarks/SQ00014615_normalize_benchmark.bin was successfully converted into benchmarks/SQ00014615_normalize_benchmark.json\n",
      "benchmarks/SQ00014613_aggregate_benchmark.bin was successfully converted into benchmarks/SQ00014613_aggregate_benchmark.json\n",
      "benchmarks/SQ00014610_aggregate_benchmark.bin was successfully converted into benchmarks/SQ00014610_aggregate_benchmark.json\n",
      "benchmarks/SQ00014617_aggregate_benchmark.bin was successfully converted into benchmarks/SQ00014617_aggregate_benchmark.json\n",
      "benchmarks/SQ00014618_normalize_benchmark.bin was successfully converted into benchmarks/SQ00014618_normalize_benchmark.json\n",
      "benchmarks/feature_select_benchmark.bin was successfully converted into benchmarks/feature_select_benchmark.json\n",
      "benchmarks/SQ00014614_normalize_benchmark.bin was successfully converted into benchmarks/SQ00014614_normalize_benchmark.json\n",
      "benchmarks/SQ00014613_annotate_benchmark.bin was successfully converted into benchmarks/SQ00014613_annotate_benchmark.json\n",
      "benchmarks/SQ00014614_aggregate_benchmark.bin was successfully converted into benchmarks/SQ00014614_aggregate_benchmark.json\n",
      "benchmarks/SQ00014612_normalize_benchmark.bin was successfully converted into benchmarks/SQ00014612_normalize_benchmark.json\n",
      "benchmarks/SQ00014612_annotate_benchmark.bin was successfully converted into benchmarks/SQ00014612_annotate_benchmark.json\n",
      "benchmarks/SQ00014611_normalize_benchmark.bin was successfully converted into benchmarks/SQ00014611_normalize_benchmark.json\n",
      "benchmarks/consensus_benchmark.bin was successfully converted into benchmarks/consensus_benchmark.json\n",
      "benchmarks/SQ00014616_aggregate_benchmark.bin was successfully converted into benchmarks/SQ00014616_aggregate_benchmark.json\n",
      "benchmarks/SQ00014617_annotate_benchmark.bin was successfully converted into benchmarks/SQ00014617_annotate_benchmark.json\n",
      "benchmarks/SQ00014612_aggregate_benchmark.bin was successfully converted into benchmarks/SQ00014612_aggregate_benchmark.json\n",
      "benchmarks/SQ00014616_normalize_benchmark.bin was successfully converted into benchmarks/SQ00014616_normalize_benchmark.json\n"
     ]
    }
   ],
   "source": [
    "# check if memray is installed\n",
    "if shutil.which(\"memray\") is None:\n",
    "    raise FileNotFoundError(\"Unable to locate 'memray' executable\")\n",
    "\n",
    "\n",
    "# iterate all bin files an convert to json files\n",
    "for bin_path in get_benchmark_files(BENCHMARK_DIR_PATH, ext=\"bin\"):\n",
    "    json_out = BENCHMARK_DIR_PATH / f\"{bin_path.stem}.json\"\n",
    "\n",
    "    # # executing memray to convert bin files into json files\n",
    "    memray_stats = subprocess.run(\n",
    "        [\n",
    "            \"memray\",\n",
    "            \"stats\",\n",
    "            \"--json\",\n",
    "            \"--output\",\n",
    "            str(json_out),\n",
    "            \"--force\",\n",
    "            str(bin_path),\n",
    "        ],\n",
    "        capture_output=True,\n",
    "        check=True,\n",
    "    )\n",
    "\n",
    "    # stdout message\n",
    "    print(\n",
    "        f\"{bin_path.relative_to(CWD_PATH)} was successfully converted into {json_out.relative_to(CWD_PATH)}\"\n",
    "    )"
   ]
  },
  {
   "cell_type": "markdown",
   "metadata": {},
   "source": [
    "## Merging all JSON file data into a single CSV file \n",
    "\n",
    "In the section, we aim to consolidate data from multiple JSON files into a single CSV file. \n",
    "This process involves extracting specific data from each JSON file and structuring it into a CSV table. \n",
    "The CSV format provides a straightforward, tabular structure for easy analysis, simplifying data handling."
   ]
  },
  {
   "cell_type": "code",
   "execution_count": 4,
   "metadata": {},
   "outputs": [
    {
     "data": {
      "text/html": [
       "<div>\n",
       "<style scoped>\n",
       "    .dataframe tbody tr th:only-of-type {\n",
       "        vertical-align: middle;\n",
       "    }\n",
       "\n",
       "    .dataframe tbody tr th {\n",
       "        vertical-align: top;\n",
       "    }\n",
       "\n",
       "    .dataframe thead th {\n",
       "        text-align: right;\n",
       "    }\n",
       "</style>\n",
       "<table border=\"1\" class=\"dataframe\">\n",
       "  <thead>\n",
       "    <tr style=\"text-align: right;\">\n",
       "      <th></th>\n",
       "      <th>pid</th>\n",
       "      <th>script</th>\n",
       "      <th>input_data_name</th>\n",
       "      <th>start_time</th>\n",
       "      <th>end_time</th>\n",
       "      <th>time_duration</th>\n",
       "      <th>total_allocations</th>\n",
       "      <th>peak_memory</th>\n",
       "    </tr>\n",
       "  </thead>\n",
       "  <tbody>\n",
       "    <tr>\n",
       "      <th>0</th>\n",
       "      <td>290545</td>\n",
       "      <td>aggregate_cells.py</td>\n",
       "      <td>SQ00014612</td>\n",
       "      <td>2023-10-25 12:22:34.029</td>\n",
       "      <td>2023-10-25 12:42:48.903</td>\n",
       "      <td>1214.874</td>\n",
       "      <td>193718927</td>\n",
       "      <td>582.804961</td>\n",
       "    </tr>\n",
       "    <tr>\n",
       "      <th>1</th>\n",
       "      <td>295102</td>\n",
       "      <td>normalize.py</td>\n",
       "      <td>SQ00014610</td>\n",
       "      <td>2023-10-25 13:35:06.985</td>\n",
       "      <td>2023-10-25 13:35:09.470</td>\n",
       "      <td>2.485</td>\n",
       "      <td>1504892</td>\n",
       "      <td>52.456923</td>\n",
       "    </tr>\n",
       "    <tr>\n",
       "      <th>2</th>\n",
       "      <td>294281</td>\n",
       "      <td>annotate.py</td>\n",
       "      <td>SQ00014617</td>\n",
       "      <td>2023-10-25 13:34:06.764</td>\n",
       "      <td>2023-10-25 13:34:09.022</td>\n",
       "      <td>2.258</td>\n",
       "      <td>1506325</td>\n",
       "      <td>52.495811</td>\n",
       "    </tr>\n",
       "    <tr>\n",
       "      <th>3</th>\n",
       "      <td>290544</td>\n",
       "      <td>aggregate_cells.py</td>\n",
       "      <td>SQ00014614</td>\n",
       "      <td>2023-10-25 12:22:34.002</td>\n",
       "      <td>2023-10-25 12:35:03.337</td>\n",
       "      <td>749.335</td>\n",
       "      <td>212651147</td>\n",
       "      <td>304.234849</td>\n",
       "    </tr>\n",
       "    <tr>\n",
       "      <th>4</th>\n",
       "      <td>290550</td>\n",
       "      <td>aggregate_cells.py</td>\n",
       "      <td>SQ00014618</td>\n",
       "      <td>2023-10-25 12:22:34.142</td>\n",
       "      <td>2023-10-25 12:37:34.168</td>\n",
       "      <td>900.026</td>\n",
       "      <td>243282597</td>\n",
       "      <td>328.636603</td>\n",
       "    </tr>\n",
       "    <tr>\n",
       "      <th>5</th>\n",
       "      <td>290546</td>\n",
       "      <td>aggregate_cells.py</td>\n",
       "      <td>SQ00014613</td>\n",
       "      <td>2023-10-25 12:22:34.183</td>\n",
       "      <td>2023-10-25 12:34:23.459</td>\n",
       "      <td>709.276</td>\n",
       "      <td>205454936</td>\n",
       "      <td>277.620282</td>\n",
       "    </tr>\n",
       "    <tr>\n",
       "      <th>6</th>\n",
       "      <td>294616</td>\n",
       "      <td>annotate.py</td>\n",
       "      <td>SQ00014614</td>\n",
       "      <td>2023-10-25 13:34:27.992</td>\n",
       "      <td>2023-10-25 13:34:30.240</td>\n",
       "      <td>2.248</td>\n",
       "      <td>1506353</td>\n",
       "      <td>52.495811</td>\n",
       "    </tr>\n",
       "    <tr>\n",
       "      <th>7</th>\n",
       "      <td>295093</td>\n",
       "      <td>normalize.py</td>\n",
       "      <td>SQ00014611</td>\n",
       "      <td>2023-10-25 13:35:00.187</td>\n",
       "      <td>2023-10-25 13:35:02.658</td>\n",
       "      <td>2.471</td>\n",
       "      <td>1504895</td>\n",
       "      <td>52.456923</td>\n",
       "    </tr>\n",
       "    <tr>\n",
       "      <th>8</th>\n",
       "      <td>294828</td>\n",
       "      <td>normalize.py</td>\n",
       "      <td>SQ00014614</td>\n",
       "      <td>2023-10-25 13:34:42.193</td>\n",
       "      <td>2023-10-25 13:34:44.679</td>\n",
       "      <td>2.486</td>\n",
       "      <td>1504991</td>\n",
       "      <td>52.456923</td>\n",
       "    </tr>\n",
       "    <tr>\n",
       "      <th>9</th>\n",
       "      <td>290547</td>\n",
       "      <td>aggregate_cells.py</td>\n",
       "      <td>SQ00014610</td>\n",
       "      <td>2023-10-25 12:22:34.057</td>\n",
       "      <td>2023-10-25 12:44:07.359</td>\n",
       "      <td>1293.302</td>\n",
       "      <td>207785529</td>\n",
       "      <td>602.507991</td>\n",
       "    </tr>\n",
       "    <tr>\n",
       "      <th>10</th>\n",
       "      <td>294722</td>\n",
       "      <td>normalize.py</td>\n",
       "      <td>SQ00014612</td>\n",
       "      <td>2023-10-25 13:34:34.914</td>\n",
       "      <td>2023-10-25 13:34:37.385</td>\n",
       "      <td>2.471</td>\n",
       "      <td>1504902</td>\n",
       "      <td>52.456923</td>\n",
       "    </tr>\n",
       "    <tr>\n",
       "      <th>11</th>\n",
       "      <td>295040</td>\n",
       "      <td>annotate.py</td>\n",
       "      <td>SQ00014611</td>\n",
       "      <td>2023-10-25 13:34:56.791</td>\n",
       "      <td>2023-10-25 13:34:59.008</td>\n",
       "      <td>2.217</td>\n",
       "      <td>1506251</td>\n",
       "      <td>52.495811</td>\n",
       "    </tr>\n",
       "    <tr>\n",
       "      <th>12</th>\n",
       "      <td>294775</td>\n",
       "      <td>normalize.py</td>\n",
       "      <td>SQ00014615</td>\n",
       "      <td>2023-10-25 13:34:38.572</td>\n",
       "      <td>2023-10-25 13:34:41.004</td>\n",
       "      <td>2.432</td>\n",
       "      <td>1505001</td>\n",
       "      <td>52.456923</td>\n",
       "    </tr>\n",
       "    <tr>\n",
       "      <th>13</th>\n",
       "      <td>294341</td>\n",
       "      <td>annotate.py</td>\n",
       "      <td>SQ00014616</td>\n",
       "      <td>2023-10-25 13:34:10.222</td>\n",
       "      <td>2023-10-25 13:34:12.488</td>\n",
       "      <td>2.266</td>\n",
       "      <td>1506329</td>\n",
       "      <td>52.495811</td>\n",
       "    </tr>\n",
       "    <tr>\n",
       "      <th>14</th>\n",
       "      <td>295106</td>\n",
       "      <td>feature_select.py</td>\n",
       "      <td>all_inputs_feature_select</td>\n",
       "      <td>2023-10-25 13:35:10.655</td>\n",
       "      <td>2023-10-25 13:35:26.684</td>\n",
       "      <td>16.029</td>\n",
       "      <td>4988736</td>\n",
       "      <td>286.334905</td>\n",
       "    </tr>\n",
       "    <tr>\n",
       "      <th>15</th>\n",
       "      <td>294987</td>\n",
       "      <td>normalize.py</td>\n",
       "      <td>SQ00014613</td>\n",
       "      <td>2023-10-25 13:34:53.095</td>\n",
       "      <td>2023-10-25 13:34:55.600</td>\n",
       "      <td>2.505</td>\n",
       "      <td>1504999</td>\n",
       "      <td>52.456923</td>\n",
       "    </tr>\n",
       "    <tr>\n",
       "      <th>16</th>\n",
       "      <td>294934</td>\n",
       "      <td>annotate.py</td>\n",
       "      <td>SQ00014613</td>\n",
       "      <td>2023-10-25 13:34:49.609</td>\n",
       "      <td>2023-10-25 13:34:51.878</td>\n",
       "      <td>2.269</td>\n",
       "      <td>1506366</td>\n",
       "      <td>52.495811</td>\n",
       "    </tr>\n",
       "    <tr>\n",
       "      <th>17</th>\n",
       "      <td>295097</td>\n",
       "      <td>annotate.py</td>\n",
       "      <td>SQ00014610</td>\n",
       "      <td>2023-10-25 13:35:03.773</td>\n",
       "      <td>2023-10-25 13:35:05.930</td>\n",
       "      <td>2.157</td>\n",
       "      <td>1506259</td>\n",
       "      <td>52.495811</td>\n",
       "    </tr>\n",
       "    <tr>\n",
       "      <th>18</th>\n",
       "      <td>294449</td>\n",
       "      <td>normalize.py</td>\n",
       "      <td>SQ00014616</td>\n",
       "      <td>2023-10-25 13:34:17.360</td>\n",
       "      <td>2023-10-25 13:34:19.843</td>\n",
       "      <td>2.483</td>\n",
       "      <td>1504950</td>\n",
       "      <td>52.456923</td>\n",
       "    </tr>\n",
       "    <tr>\n",
       "      <th>19</th>\n",
       "      <td>290548</td>\n",
       "      <td>aggregate_cells.py</td>\n",
       "      <td>SQ00014611</td>\n",
       "      <td>2023-10-25 12:22:34.013</td>\n",
       "      <td>2023-10-25 12:43:49.648</td>\n",
       "      <td>1275.635</td>\n",
       "      <td>190972928</td>\n",
       "      <td>588.950423</td>\n",
       "    </tr>\n",
       "    <tr>\n",
       "      <th>20</th>\n",
       "      <td>290549</td>\n",
       "      <td>aggregate_cells.py</td>\n",
       "      <td>SQ00014617</td>\n",
       "      <td>2023-10-25 12:22:34.048</td>\n",
       "      <td>2023-10-25 12:38:50.749</td>\n",
       "      <td>976.701</td>\n",
       "      <td>246378346</td>\n",
       "      <td>338.065175</td>\n",
       "    </tr>\n",
       "    <tr>\n",
       "      <th>21</th>\n",
       "      <td>294561</td>\n",
       "      <td>annotate.py</td>\n",
       "      <td>SQ00014615</td>\n",
       "      <td>2023-10-25 13:34:24.519</td>\n",
       "      <td>2023-10-25 13:34:26.779</td>\n",
       "      <td>2.260</td>\n",
       "      <td>1506361</td>\n",
       "      <td>52.495811</td>\n",
       "    </tr>\n",
       "    <tr>\n",
       "      <th>22</th>\n",
       "      <td>290542</td>\n",
       "      <td>aggregate_cells.py</td>\n",
       "      <td>SQ00014615</td>\n",
       "      <td>2023-10-25 12:22:34.041</td>\n",
       "      <td>2023-10-25 12:34:43.233</td>\n",
       "      <td>729.192</td>\n",
       "      <td>193376854</td>\n",
       "      <td>303.290885</td>\n",
       "    </tr>\n",
       "    <tr>\n",
       "      <th>23</th>\n",
       "      <td>290543</td>\n",
       "      <td>aggregate_cells.py</td>\n",
       "      <td>SQ00014616</td>\n",
       "      <td>2023-10-25 12:22:34.089</td>\n",
       "      <td>2023-10-25 12:36:38.560</td>\n",
       "      <td>844.471</td>\n",
       "      <td>226770028</td>\n",
       "      <td>324.835086</td>\n",
       "    </tr>\n",
       "    <tr>\n",
       "      <th>24</th>\n",
       "      <td>294881</td>\n",
       "      <td>normalize.py</td>\n",
       "      <td>SQ00014618</td>\n",
       "      <td>2023-10-25 13:34:45.895</td>\n",
       "      <td>2023-10-25 13:34:48.375</td>\n",
       "      <td>2.480</td>\n",
       "      <td>1504954</td>\n",
       "      <td>52.456923</td>\n",
       "    </tr>\n",
       "    <tr>\n",
       "      <th>25</th>\n",
       "      <td>294669</td>\n",
       "      <td>annotate.py</td>\n",
       "      <td>SQ00014618</td>\n",
       "      <td>2023-10-25 13:34:31.451</td>\n",
       "      <td>2023-10-25 13:34:33.718</td>\n",
       "      <td>2.267</td>\n",
       "      <td>1506310</td>\n",
       "      <td>52.495811</td>\n",
       "    </tr>\n",
       "    <tr>\n",
       "      <th>26</th>\n",
       "      <td>295146</td>\n",
       "      <td>consensus.py</td>\n",
       "      <td>all_inputs_consensus</td>\n",
       "      <td>2023-10-25 13:35:27.814</td>\n",
       "      <td>2023-10-25 13:35:28.811</td>\n",
       "      <td>0.997</td>\n",
       "      <td>401795</td>\n",
       "      <td>101.043112</td>\n",
       "    </tr>\n",
       "    <tr>\n",
       "      <th>27</th>\n",
       "      <td>294395</td>\n",
       "      <td>normalize.py</td>\n",
       "      <td>SQ00014617</td>\n",
       "      <td>2023-10-25 13:34:13.689</td>\n",
       "      <td>2023-10-25 13:34:16.156</td>\n",
       "      <td>2.467</td>\n",
       "      <td>1504954</td>\n",
       "      <td>52.456923</td>\n",
       "    </tr>\n",
       "    <tr>\n",
       "      <th>28</th>\n",
       "      <td>294503</td>\n",
       "      <td>annotate.py</td>\n",
       "      <td>SQ00014612</td>\n",
       "      <td>2023-10-25 13:34:21.053</td>\n",
       "      <td>2023-10-25 13:34:23.310</td>\n",
       "      <td>2.257</td>\n",
       "      <td>1506275</td>\n",
       "      <td>52.495811</td>\n",
       "    </tr>\n",
       "  </tbody>\n",
       "</table>\n",
       "</div>"
      ],
      "text/plain": [
       "       pid              script            input_data_name  \\\n",
       "0   290545  aggregate_cells.py                 SQ00014612   \n",
       "1   295102        normalize.py                 SQ00014610   \n",
       "2   294281         annotate.py                 SQ00014617   \n",
       "3   290544  aggregate_cells.py                 SQ00014614   \n",
       "4   290550  aggregate_cells.py                 SQ00014618   \n",
       "5   290546  aggregate_cells.py                 SQ00014613   \n",
       "6   294616         annotate.py                 SQ00014614   \n",
       "7   295093        normalize.py                 SQ00014611   \n",
       "8   294828        normalize.py                 SQ00014614   \n",
       "9   290547  aggregate_cells.py                 SQ00014610   \n",
       "10  294722        normalize.py                 SQ00014612   \n",
       "11  295040         annotate.py                 SQ00014611   \n",
       "12  294775        normalize.py                 SQ00014615   \n",
       "13  294341         annotate.py                 SQ00014616   \n",
       "14  295106   feature_select.py  all_inputs_feature_select   \n",
       "15  294987        normalize.py                 SQ00014613   \n",
       "16  294934         annotate.py                 SQ00014613   \n",
       "17  295097         annotate.py                 SQ00014610   \n",
       "18  294449        normalize.py                 SQ00014616   \n",
       "19  290548  aggregate_cells.py                 SQ00014611   \n",
       "20  290549  aggregate_cells.py                 SQ00014617   \n",
       "21  294561         annotate.py                 SQ00014615   \n",
       "22  290542  aggregate_cells.py                 SQ00014615   \n",
       "23  290543  aggregate_cells.py                 SQ00014616   \n",
       "24  294881        normalize.py                 SQ00014618   \n",
       "25  294669         annotate.py                 SQ00014618   \n",
       "26  295146        consensus.py       all_inputs_consensus   \n",
       "27  294395        normalize.py                 SQ00014617   \n",
       "28  294503         annotate.py                 SQ00014612   \n",
       "\n",
       "                start_time                end_time  time_duration  \\\n",
       "0  2023-10-25 12:22:34.029 2023-10-25 12:42:48.903       1214.874   \n",
       "1  2023-10-25 13:35:06.985 2023-10-25 13:35:09.470          2.485   \n",
       "2  2023-10-25 13:34:06.764 2023-10-25 13:34:09.022          2.258   \n",
       "3  2023-10-25 12:22:34.002 2023-10-25 12:35:03.337        749.335   \n",
       "4  2023-10-25 12:22:34.142 2023-10-25 12:37:34.168        900.026   \n",
       "5  2023-10-25 12:22:34.183 2023-10-25 12:34:23.459        709.276   \n",
       "6  2023-10-25 13:34:27.992 2023-10-25 13:34:30.240          2.248   \n",
       "7  2023-10-25 13:35:00.187 2023-10-25 13:35:02.658          2.471   \n",
       "8  2023-10-25 13:34:42.193 2023-10-25 13:34:44.679          2.486   \n",
       "9  2023-10-25 12:22:34.057 2023-10-25 12:44:07.359       1293.302   \n",
       "10 2023-10-25 13:34:34.914 2023-10-25 13:34:37.385          2.471   \n",
       "11 2023-10-25 13:34:56.791 2023-10-25 13:34:59.008          2.217   \n",
       "12 2023-10-25 13:34:38.572 2023-10-25 13:34:41.004          2.432   \n",
       "13 2023-10-25 13:34:10.222 2023-10-25 13:34:12.488          2.266   \n",
       "14 2023-10-25 13:35:10.655 2023-10-25 13:35:26.684         16.029   \n",
       "15 2023-10-25 13:34:53.095 2023-10-25 13:34:55.600          2.505   \n",
       "16 2023-10-25 13:34:49.609 2023-10-25 13:34:51.878          2.269   \n",
       "17 2023-10-25 13:35:03.773 2023-10-25 13:35:05.930          2.157   \n",
       "18 2023-10-25 13:34:17.360 2023-10-25 13:34:19.843          2.483   \n",
       "19 2023-10-25 12:22:34.013 2023-10-25 12:43:49.648       1275.635   \n",
       "20 2023-10-25 12:22:34.048 2023-10-25 12:38:50.749        976.701   \n",
       "21 2023-10-25 13:34:24.519 2023-10-25 13:34:26.779          2.260   \n",
       "22 2023-10-25 12:22:34.041 2023-10-25 12:34:43.233        729.192   \n",
       "23 2023-10-25 12:22:34.089 2023-10-25 12:36:38.560        844.471   \n",
       "24 2023-10-25 13:34:45.895 2023-10-25 13:34:48.375          2.480   \n",
       "25 2023-10-25 13:34:31.451 2023-10-25 13:34:33.718          2.267   \n",
       "26 2023-10-25 13:35:27.814 2023-10-25 13:35:28.811          0.997   \n",
       "27 2023-10-25 13:34:13.689 2023-10-25 13:34:16.156          2.467   \n",
       "28 2023-10-25 13:34:21.053 2023-10-25 13:34:23.310          2.257   \n",
       "\n",
       "    total_allocations  peak_memory  \n",
       "0           193718927   582.804961  \n",
       "1             1504892    52.456923  \n",
       "2             1506325    52.495811  \n",
       "3           212651147   304.234849  \n",
       "4           243282597   328.636603  \n",
       "5           205454936   277.620282  \n",
       "6             1506353    52.495811  \n",
       "7             1504895    52.456923  \n",
       "8             1504991    52.456923  \n",
       "9           207785529   602.507991  \n",
       "10            1504902    52.456923  \n",
       "11            1506251    52.495811  \n",
       "12            1505001    52.456923  \n",
       "13            1506329    52.495811  \n",
       "14            4988736   286.334905  \n",
       "15            1504999    52.456923  \n",
       "16            1506366    52.495811  \n",
       "17            1506259    52.495811  \n",
       "18            1504950    52.456923  \n",
       "19          190972928   588.950423  \n",
       "20          246378346   338.065175  \n",
       "21            1506361    52.495811  \n",
       "22          193376854   303.290885  \n",
       "23          226770028   324.835086  \n",
       "24            1504954    52.456923  \n",
       "25            1506310    52.495811  \n",
       "26             401795   101.043112  \n",
       "27            1504954    52.456923  \n",
       "28            1506275    52.495811  "
      ]
     },
     "execution_count": 4,
     "metadata": {},
     "output_type": "execute_result"
    }
   ],
   "source": [
    "# format for memray time strings\n",
    "tformat = \"%Y-%m-%d %H:%M:%S.%f\"\n",
    "\n",
    "# creating a list where all the data will be stored\n",
    "raw_benchmark_data = []\n",
    "\n",
    "# create a for loop iterating all json files and extract data\n",
    "for json_file in get_benchmark_files(BENCHMARK_DIR_PATH, ext=\"json\"):\n",
    "    # open json file\n",
    "    with open(json_file, mode=\"r\", encoding=\"utf-8\") as contents:\n",
    "        memray_data = json.load(contents)\n",
    "\n",
    "    # get name of sqlite file or input file\n",
    "    json_file_name = json_file.name.split(\"_\")\n",
    "\n",
    "    # this assums that all file were used as an input\n",
    "    if len(json_file_name) == 2 or json_file_name[0] == \"feature\":\n",
    "        name = \"all_inputs\"\n",
    "    elif len(json_file_name) >= 3:\n",
    "        # get the input file name from {inputname}_{script_name}_benchmark.json\n",
    "        name = json_file.name.rsplit(\"_\", 2)[0]\n",
    "\n",
    "    # extract required data\n",
    "    meta_data = memray_data[\"metadata\"]\n",
    "    script_name = pathlib.Path(meta_data[\"command_line\"]).name.split(\".\", 1)[1]\n",
    "    selected_data = {\n",
    "        \"pid\": meta_data[\"pid\"],\n",
    "        \"script\": script_name,\n",
    "        \"input_data_name\": f\"{name}_{script_name.split('.')[0]}\"\n",
    "        if name == \"all_inputs\"\n",
    "        else name,\n",
    "        \"start_time\": datetime.strptime(meta_data[\"start_time\"], tformat),\n",
    "        \"end_time\": datetime.strptime(meta_data[\"end_time\"], tformat),\n",
    "        \"time_duration\": (\n",
    "            datetime.strptime(meta_data[\"end_time\"], tformat)\n",
    "            - datetime.strptime(meta_data[\"start_time\"], tformat)\n",
    "        ).total_seconds(),\n",
    "        \"total_allocations\": int(meta_data[\"total_allocations\"]),\n",
    "        \"peak_memory\": int(meta_data[\"peak_memory\"]) / 1024**2,\n",
    "    }\n",
    "\n",
    "    # append to list\n",
    "    raw_benchmark_data.append(selected_data)\n",
    "\n",
    "# create dataframe\n",
    "benchmark_df = pd.DataFrame(raw_benchmark_data)\n",
    "benchmark_df.to_csv(\"complete_benchmark.csv\", index=False)\n",
    "benchmark_df"
   ]
  },
  {
   "cell_type": "code",
   "execution_count": 5,
   "metadata": {},
   "outputs": [
    {
     "data": {
      "text/html": [
       "<div>\n",
       "<style scoped>\n",
       "    .dataframe tbody tr th:only-of-type {\n",
       "        vertical-align: middle;\n",
       "    }\n",
       "\n",
       "    .dataframe tbody tr th {\n",
       "        vertical-align: top;\n",
       "    }\n",
       "\n",
       "    .dataframe thead th {\n",
       "        text-align: right;\n",
       "    }\n",
       "</style>\n",
       "<table border=\"1\" class=\"dataframe\">\n",
       "  <thead>\n",
       "    <tr style=\"text-align: right;\">\n",
       "      <th></th>\n",
       "      <th>pid</th>\n",
       "      <th>script</th>\n",
       "      <th>input_data_name</th>\n",
       "      <th>start_time</th>\n",
       "      <th>end_time</th>\n",
       "      <th>time_duration</th>\n",
       "      <th>total_allocations</th>\n",
       "      <th>peak_memory</th>\n",
       "      <th>file_size</th>\n",
       "    </tr>\n",
       "  </thead>\n",
       "  <tbody>\n",
       "    <tr>\n",
       "      <th>0</th>\n",
       "      <td>290545</td>\n",
       "      <td>aggregate_cells.py</td>\n",
       "      <td>SQ00014612</td>\n",
       "      <td>2023-10-25 12:22:34.029</td>\n",
       "      <td>2023-10-25 12:42:48.903</td>\n",
       "      <td>1214.874</td>\n",
       "      <td>193718927</td>\n",
       "      <td>582.804961</td>\n",
       "      <td>21060.905</td>\n",
       "    </tr>\n",
       "    <tr>\n",
       "      <th>1</th>\n",
       "      <td>295102</td>\n",
       "      <td>normalize.py</td>\n",
       "      <td>SQ00014610</td>\n",
       "      <td>2023-10-25 13:35:06.985</td>\n",
       "      <td>2023-10-25 13:35:09.470</td>\n",
       "      <td>2.485</td>\n",
       "      <td>1504892</td>\n",
       "      <td>52.456923</td>\n",
       "      <td>21762.960</td>\n",
       "    </tr>\n",
       "    <tr>\n",
       "      <th>2</th>\n",
       "      <td>294281</td>\n",
       "      <td>annotate.py</td>\n",
       "      <td>SQ00014617</td>\n",
       "      <td>2023-10-25 13:34:06.764</td>\n",
       "      <td>2023-10-25 13:34:09.022</td>\n",
       "      <td>2.258</td>\n",
       "      <td>1506325</td>\n",
       "      <td>52.495811</td>\n",
       "      <td>12456.449</td>\n",
       "    </tr>\n",
       "    <tr>\n",
       "      <th>3</th>\n",
       "      <td>290544</td>\n",
       "      <td>aggregate_cells.py</td>\n",
       "      <td>SQ00014614</td>\n",
       "      <td>2023-10-25 12:22:34.002</td>\n",
       "      <td>2023-10-25 12:35:03.337</td>\n",
       "      <td>749.335</td>\n",
       "      <td>212651147</td>\n",
       "      <td>304.234849</td>\n",
       "      <td>11135.101</td>\n",
       "    </tr>\n",
       "    <tr>\n",
       "      <th>4</th>\n",
       "      <td>290550</td>\n",
       "      <td>aggregate_cells.py</td>\n",
       "      <td>SQ00014618</td>\n",
       "      <td>2023-10-25 12:22:34.142</td>\n",
       "      <td>2023-10-25 12:37:34.168</td>\n",
       "      <td>900.026</td>\n",
       "      <td>243282597</td>\n",
       "      <td>328.636603</td>\n",
       "      <td>12144.017</td>\n",
       "    </tr>\n",
       "    <tr>\n",
       "      <th>5</th>\n",
       "      <td>290546</td>\n",
       "      <td>aggregate_cells.py</td>\n",
       "      <td>SQ00014613</td>\n",
       "      <td>2023-10-25 12:22:34.183</td>\n",
       "      <td>2023-10-25 12:34:23.459</td>\n",
       "      <td>709.276</td>\n",
       "      <td>205454936</td>\n",
       "      <td>277.620282</td>\n",
       "      <td>10208.352</td>\n",
       "    </tr>\n",
       "    <tr>\n",
       "      <th>6</th>\n",
       "      <td>294616</td>\n",
       "      <td>annotate.py</td>\n",
       "      <td>SQ00014614</td>\n",
       "      <td>2023-10-25 13:34:27.992</td>\n",
       "      <td>2023-10-25 13:34:30.240</td>\n",
       "      <td>2.248</td>\n",
       "      <td>1506353</td>\n",
       "      <td>52.495811</td>\n",
       "      <td>11135.101</td>\n",
       "    </tr>\n",
       "    <tr>\n",
       "      <th>7</th>\n",
       "      <td>295093</td>\n",
       "      <td>normalize.py</td>\n",
       "      <td>SQ00014611</td>\n",
       "      <td>2023-10-25 13:35:00.187</td>\n",
       "      <td>2023-10-25 13:35:02.658</td>\n",
       "      <td>2.471</td>\n",
       "      <td>1504895</td>\n",
       "      <td>52.456923</td>\n",
       "      <td>21277.399</td>\n",
       "    </tr>\n",
       "    <tr>\n",
       "      <th>8</th>\n",
       "      <td>294828</td>\n",
       "      <td>normalize.py</td>\n",
       "      <td>SQ00014614</td>\n",
       "      <td>2023-10-25 13:34:42.193</td>\n",
       "      <td>2023-10-25 13:34:44.679</td>\n",
       "      <td>2.486</td>\n",
       "      <td>1504991</td>\n",
       "      <td>52.456923</td>\n",
       "      <td>11135.101</td>\n",
       "    </tr>\n",
       "    <tr>\n",
       "      <th>9</th>\n",
       "      <td>290547</td>\n",
       "      <td>aggregate_cells.py</td>\n",
       "      <td>SQ00014610</td>\n",
       "      <td>2023-10-25 12:22:34.057</td>\n",
       "      <td>2023-10-25 12:44:07.359</td>\n",
       "      <td>1293.302</td>\n",
       "      <td>207785529</td>\n",
       "      <td>602.507991</td>\n",
       "      <td>21762.960</td>\n",
       "    </tr>\n",
       "    <tr>\n",
       "      <th>10</th>\n",
       "      <td>294722</td>\n",
       "      <td>normalize.py</td>\n",
       "      <td>SQ00014612</td>\n",
       "      <td>2023-10-25 13:34:34.914</td>\n",
       "      <td>2023-10-25 13:34:37.385</td>\n",
       "      <td>2.471</td>\n",
       "      <td>1504902</td>\n",
       "      <td>52.456923</td>\n",
       "      <td>21060.905</td>\n",
       "    </tr>\n",
       "    <tr>\n",
       "      <th>11</th>\n",
       "      <td>295040</td>\n",
       "      <td>annotate.py</td>\n",
       "      <td>SQ00014611</td>\n",
       "      <td>2023-10-25 13:34:56.791</td>\n",
       "      <td>2023-10-25 13:34:59.008</td>\n",
       "      <td>2.217</td>\n",
       "      <td>1506251</td>\n",
       "      <td>52.495811</td>\n",
       "      <td>21277.399</td>\n",
       "    </tr>\n",
       "    <tr>\n",
       "      <th>12</th>\n",
       "      <td>294775</td>\n",
       "      <td>normalize.py</td>\n",
       "      <td>SQ00014615</td>\n",
       "      <td>2023-10-25 13:34:38.572</td>\n",
       "      <td>2023-10-25 13:34:41.004</td>\n",
       "      <td>2.432</td>\n",
       "      <td>1505001</td>\n",
       "      <td>52.456923</td>\n",
       "      <td>11146.898</td>\n",
       "    </tr>\n",
       "    <tr>\n",
       "      <th>13</th>\n",
       "      <td>294341</td>\n",
       "      <td>annotate.py</td>\n",
       "      <td>SQ00014616</td>\n",
       "      <td>2023-10-25 13:34:10.222</td>\n",
       "      <td>2023-10-25 13:34:12.488</td>\n",
       "      <td>2.266</td>\n",
       "      <td>1506329</td>\n",
       "      <td>52.495811</td>\n",
       "      <td>11995.028</td>\n",
       "    </tr>\n",
       "    <tr>\n",
       "      <th>14</th>\n",
       "      <td>295106</td>\n",
       "      <td>feature_select.py</td>\n",
       "      <td>all_inputs_feature_select</td>\n",
       "      <td>2023-10-25 13:35:10.655</td>\n",
       "      <td>2023-10-25 13:35:26.684</td>\n",
       "      <td>16.029</td>\n",
       "      <td>4988736</td>\n",
       "      <td>286.334905</td>\n",
       "      <td>NaN</td>\n",
       "    </tr>\n",
       "    <tr>\n",
       "      <th>15</th>\n",
       "      <td>294987</td>\n",
       "      <td>normalize.py</td>\n",
       "      <td>SQ00014613</td>\n",
       "      <td>2023-10-25 13:34:53.095</td>\n",
       "      <td>2023-10-25 13:34:55.600</td>\n",
       "      <td>2.505</td>\n",
       "      <td>1504999</td>\n",
       "      <td>52.456923</td>\n",
       "      <td>10208.352</td>\n",
       "    </tr>\n",
       "    <tr>\n",
       "      <th>16</th>\n",
       "      <td>294934</td>\n",
       "      <td>annotate.py</td>\n",
       "      <td>SQ00014613</td>\n",
       "      <td>2023-10-25 13:34:49.609</td>\n",
       "      <td>2023-10-25 13:34:51.878</td>\n",
       "      <td>2.269</td>\n",
       "      <td>1506366</td>\n",
       "      <td>52.495811</td>\n",
       "      <td>10208.352</td>\n",
       "    </tr>\n",
       "    <tr>\n",
       "      <th>17</th>\n",
       "      <td>295097</td>\n",
       "      <td>annotate.py</td>\n",
       "      <td>SQ00014610</td>\n",
       "      <td>2023-10-25 13:35:03.773</td>\n",
       "      <td>2023-10-25 13:35:05.930</td>\n",
       "      <td>2.157</td>\n",
       "      <td>1506259</td>\n",
       "      <td>52.495811</td>\n",
       "      <td>21762.960</td>\n",
       "    </tr>\n",
       "    <tr>\n",
       "      <th>18</th>\n",
       "      <td>294449</td>\n",
       "      <td>normalize.py</td>\n",
       "      <td>SQ00014616</td>\n",
       "      <td>2023-10-25 13:34:17.360</td>\n",
       "      <td>2023-10-25 13:34:19.843</td>\n",
       "      <td>2.483</td>\n",
       "      <td>1504950</td>\n",
       "      <td>52.456923</td>\n",
       "      <td>11995.028</td>\n",
       "    </tr>\n",
       "    <tr>\n",
       "      <th>19</th>\n",
       "      <td>290548</td>\n",
       "      <td>aggregate_cells.py</td>\n",
       "      <td>SQ00014611</td>\n",
       "      <td>2023-10-25 12:22:34.013</td>\n",
       "      <td>2023-10-25 12:43:49.648</td>\n",
       "      <td>1275.635</td>\n",
       "      <td>190972928</td>\n",
       "      <td>588.950423</td>\n",
       "      <td>21277.399</td>\n",
       "    </tr>\n",
       "    <tr>\n",
       "      <th>20</th>\n",
       "      <td>290549</td>\n",
       "      <td>aggregate_cells.py</td>\n",
       "      <td>SQ00014617</td>\n",
       "      <td>2023-10-25 12:22:34.048</td>\n",
       "      <td>2023-10-25 12:38:50.749</td>\n",
       "      <td>976.701</td>\n",
       "      <td>246378346</td>\n",
       "      <td>338.065175</td>\n",
       "      <td>12456.449</td>\n",
       "    </tr>\n",
       "    <tr>\n",
       "      <th>21</th>\n",
       "      <td>294561</td>\n",
       "      <td>annotate.py</td>\n",
       "      <td>SQ00014615</td>\n",
       "      <td>2023-10-25 13:34:24.519</td>\n",
       "      <td>2023-10-25 13:34:26.779</td>\n",
       "      <td>2.260</td>\n",
       "      <td>1506361</td>\n",
       "      <td>52.495811</td>\n",
       "      <td>11146.898</td>\n",
       "    </tr>\n",
       "    <tr>\n",
       "      <th>22</th>\n",
       "      <td>290542</td>\n",
       "      <td>aggregate_cells.py</td>\n",
       "      <td>SQ00014615</td>\n",
       "      <td>2023-10-25 12:22:34.041</td>\n",
       "      <td>2023-10-25 12:34:43.233</td>\n",
       "      <td>729.192</td>\n",
       "      <td>193376854</td>\n",
       "      <td>303.290885</td>\n",
       "      <td>11146.898</td>\n",
       "    </tr>\n",
       "    <tr>\n",
       "      <th>23</th>\n",
       "      <td>290543</td>\n",
       "      <td>aggregate_cells.py</td>\n",
       "      <td>SQ00014616</td>\n",
       "      <td>2023-10-25 12:22:34.089</td>\n",
       "      <td>2023-10-25 12:36:38.560</td>\n",
       "      <td>844.471</td>\n",
       "      <td>226770028</td>\n",
       "      <td>324.835086</td>\n",
       "      <td>11995.028</td>\n",
       "    </tr>\n",
       "    <tr>\n",
       "      <th>24</th>\n",
       "      <td>294881</td>\n",
       "      <td>normalize.py</td>\n",
       "      <td>SQ00014618</td>\n",
       "      <td>2023-10-25 13:34:45.895</td>\n",
       "      <td>2023-10-25 13:34:48.375</td>\n",
       "      <td>2.480</td>\n",
       "      <td>1504954</td>\n",
       "      <td>52.456923</td>\n",
       "      <td>12144.017</td>\n",
       "    </tr>\n",
       "    <tr>\n",
       "      <th>25</th>\n",
       "      <td>294669</td>\n",
       "      <td>annotate.py</td>\n",
       "      <td>SQ00014618</td>\n",
       "      <td>2023-10-25 13:34:31.451</td>\n",
       "      <td>2023-10-25 13:34:33.718</td>\n",
       "      <td>2.267</td>\n",
       "      <td>1506310</td>\n",
       "      <td>52.495811</td>\n",
       "      <td>12144.017</td>\n",
       "    </tr>\n",
       "    <tr>\n",
       "      <th>26</th>\n",
       "      <td>295146</td>\n",
       "      <td>consensus.py</td>\n",
       "      <td>all_inputs_consensus</td>\n",
       "      <td>2023-10-25 13:35:27.814</td>\n",
       "      <td>2023-10-25 13:35:28.811</td>\n",
       "      <td>0.997</td>\n",
       "      <td>401795</td>\n",
       "      <td>101.043112</td>\n",
       "      <td>NaN</td>\n",
       "    </tr>\n",
       "    <tr>\n",
       "      <th>27</th>\n",
       "      <td>294395</td>\n",
       "      <td>normalize.py</td>\n",
       "      <td>SQ00014617</td>\n",
       "      <td>2023-10-25 13:34:13.689</td>\n",
       "      <td>2023-10-25 13:34:16.156</td>\n",
       "      <td>2.467</td>\n",
       "      <td>1504954</td>\n",
       "      <td>52.456923</td>\n",
       "      <td>12456.449</td>\n",
       "    </tr>\n",
       "    <tr>\n",
       "      <th>28</th>\n",
       "      <td>294503</td>\n",
       "      <td>annotate.py</td>\n",
       "      <td>SQ00014612</td>\n",
       "      <td>2023-10-25 13:34:21.053</td>\n",
       "      <td>2023-10-25 13:34:23.310</td>\n",
       "      <td>2.257</td>\n",
       "      <td>1506275</td>\n",
       "      <td>52.495811</td>\n",
       "      <td>21060.905</td>\n",
       "    </tr>\n",
       "  </tbody>\n",
       "</table>\n",
       "</div>"
      ],
      "text/plain": [
       "       pid              script            input_data_name  \\\n",
       "0   290545  aggregate_cells.py                 SQ00014612   \n",
       "1   295102        normalize.py                 SQ00014610   \n",
       "2   294281         annotate.py                 SQ00014617   \n",
       "3   290544  aggregate_cells.py                 SQ00014614   \n",
       "4   290550  aggregate_cells.py                 SQ00014618   \n",
       "5   290546  aggregate_cells.py                 SQ00014613   \n",
       "6   294616         annotate.py                 SQ00014614   \n",
       "7   295093        normalize.py                 SQ00014611   \n",
       "8   294828        normalize.py                 SQ00014614   \n",
       "9   290547  aggregate_cells.py                 SQ00014610   \n",
       "10  294722        normalize.py                 SQ00014612   \n",
       "11  295040         annotate.py                 SQ00014611   \n",
       "12  294775        normalize.py                 SQ00014615   \n",
       "13  294341         annotate.py                 SQ00014616   \n",
       "14  295106   feature_select.py  all_inputs_feature_select   \n",
       "15  294987        normalize.py                 SQ00014613   \n",
       "16  294934         annotate.py                 SQ00014613   \n",
       "17  295097         annotate.py                 SQ00014610   \n",
       "18  294449        normalize.py                 SQ00014616   \n",
       "19  290548  aggregate_cells.py                 SQ00014611   \n",
       "20  290549  aggregate_cells.py                 SQ00014617   \n",
       "21  294561         annotate.py                 SQ00014615   \n",
       "22  290542  aggregate_cells.py                 SQ00014615   \n",
       "23  290543  aggregate_cells.py                 SQ00014616   \n",
       "24  294881        normalize.py                 SQ00014618   \n",
       "25  294669         annotate.py                 SQ00014618   \n",
       "26  295146        consensus.py       all_inputs_consensus   \n",
       "27  294395        normalize.py                 SQ00014617   \n",
       "28  294503         annotate.py                 SQ00014612   \n",
       "\n",
       "                start_time                end_time  time_duration  \\\n",
       "0  2023-10-25 12:22:34.029 2023-10-25 12:42:48.903       1214.874   \n",
       "1  2023-10-25 13:35:06.985 2023-10-25 13:35:09.470          2.485   \n",
       "2  2023-10-25 13:34:06.764 2023-10-25 13:34:09.022          2.258   \n",
       "3  2023-10-25 12:22:34.002 2023-10-25 12:35:03.337        749.335   \n",
       "4  2023-10-25 12:22:34.142 2023-10-25 12:37:34.168        900.026   \n",
       "5  2023-10-25 12:22:34.183 2023-10-25 12:34:23.459        709.276   \n",
       "6  2023-10-25 13:34:27.992 2023-10-25 13:34:30.240          2.248   \n",
       "7  2023-10-25 13:35:00.187 2023-10-25 13:35:02.658          2.471   \n",
       "8  2023-10-25 13:34:42.193 2023-10-25 13:34:44.679          2.486   \n",
       "9  2023-10-25 12:22:34.057 2023-10-25 12:44:07.359       1293.302   \n",
       "10 2023-10-25 13:34:34.914 2023-10-25 13:34:37.385          2.471   \n",
       "11 2023-10-25 13:34:56.791 2023-10-25 13:34:59.008          2.217   \n",
       "12 2023-10-25 13:34:38.572 2023-10-25 13:34:41.004          2.432   \n",
       "13 2023-10-25 13:34:10.222 2023-10-25 13:34:12.488          2.266   \n",
       "14 2023-10-25 13:35:10.655 2023-10-25 13:35:26.684         16.029   \n",
       "15 2023-10-25 13:34:53.095 2023-10-25 13:34:55.600          2.505   \n",
       "16 2023-10-25 13:34:49.609 2023-10-25 13:34:51.878          2.269   \n",
       "17 2023-10-25 13:35:03.773 2023-10-25 13:35:05.930          2.157   \n",
       "18 2023-10-25 13:34:17.360 2023-10-25 13:34:19.843          2.483   \n",
       "19 2023-10-25 12:22:34.013 2023-10-25 12:43:49.648       1275.635   \n",
       "20 2023-10-25 12:22:34.048 2023-10-25 12:38:50.749        976.701   \n",
       "21 2023-10-25 13:34:24.519 2023-10-25 13:34:26.779          2.260   \n",
       "22 2023-10-25 12:22:34.041 2023-10-25 12:34:43.233        729.192   \n",
       "23 2023-10-25 12:22:34.089 2023-10-25 12:36:38.560        844.471   \n",
       "24 2023-10-25 13:34:45.895 2023-10-25 13:34:48.375          2.480   \n",
       "25 2023-10-25 13:34:31.451 2023-10-25 13:34:33.718          2.267   \n",
       "26 2023-10-25 13:35:27.814 2023-10-25 13:35:28.811          0.997   \n",
       "27 2023-10-25 13:34:13.689 2023-10-25 13:34:16.156          2.467   \n",
       "28 2023-10-25 13:34:21.053 2023-10-25 13:34:23.310          2.257   \n",
       "\n",
       "    total_allocations  peak_memory  file_size  \n",
       "0           193718927   582.804961  21060.905  \n",
       "1             1504892    52.456923  21762.960  \n",
       "2             1506325    52.495811  12456.449  \n",
       "3           212651147   304.234849  11135.101  \n",
       "4           243282597   328.636603  12144.017  \n",
       "5           205454936   277.620282  10208.352  \n",
       "6             1506353    52.495811  11135.101  \n",
       "7             1504895    52.456923  21277.399  \n",
       "8             1504991    52.456923  11135.101  \n",
       "9           207785529   602.507991  21762.960  \n",
       "10            1504902    52.456923  21060.905  \n",
       "11            1506251    52.495811  21277.399  \n",
       "12            1505001    52.456923  11146.898  \n",
       "13            1506329    52.495811  11995.028  \n",
       "14            4988736   286.334905        NaN  \n",
       "15            1504999    52.456923  10208.352  \n",
       "16            1506366    52.495811  10208.352  \n",
       "17            1506259    52.495811  21762.960  \n",
       "18            1504950    52.456923  11995.028  \n",
       "19          190972928   588.950423  21277.399  \n",
       "20          246378346   338.065175  12456.449  \n",
       "21            1506361    52.495811  11146.898  \n",
       "22          193376854   303.290885  11146.898  \n",
       "23          226770028   324.835086  11995.028  \n",
       "24            1504954    52.456923  12144.017  \n",
       "25            1506310    52.495811  12144.017  \n",
       "26             401795   101.043112        NaN  \n",
       "27            1504954    52.456923  12456.449  \n",
       "28            1506275    52.495811  21060.905  "
      ]
     },
     "execution_count": 5,
     "metadata": {},
     "output_type": "execute_result"
    }
   ],
   "source": [
    "# next step is to add file size data into the benchmark DF\n",
    "def get_file_size(fname: str, f_mapping: dict) -> float | None:\n",
    "    \"\"\"Gets file size when given a file path\n",
    "\n",
    "    Parameters\n",
    "    ----------\n",
    "    fname : str\n",
    "        file_name\n",
    "    f_mapping : dict\n",
    "        dict containing absolute path of the file\n",
    "\n",
    "    Returns\n",
    "    -------\n",
    "    float|None\n",
    "        returns the file size of the file.\n",
    "    \"\"\"\n",
    "    # search in map\n",
    "    path = f_mapping[fname]\n",
    "\n",
    "    # return None if not found\n",
    "    if path is None:\n",
    "        return None\n",
    "\n",
    "    # return file size\n",
    "    return round((pathlib.Path(path).stat().st_size / 1024**2), 3)\n",
    "\n",
    "\n",
    "# create maping\n",
    "input_names = benchmark_df[\"input_data_name\"].unique()\n",
    "mapping = create_filename_path_mapping(\n",
    "    input_names, data_dir=DATA_DIR, data_ext=\"sqlite\"\n",
    ")\n",
    "\n",
    "# adding file file size information into dataframe\n",
    "benchmark_df[\"file_size\"] = benchmark_df[\"input_data_name\"].apply(\n",
    "    get_file_size, f_mapping=mapping\n",
    ")\n",
    "benchmark_df"
   ]
  },
  {
   "cell_type": "markdown",
   "metadata": {},
   "source": [
    "## Workflow perfroamnce per input.\n",
    "Here we are looking at the perfromance of the workflow per input. Here we are seeing how the workflow handles the data. Here we are checking how much time, resources and memory peak the whole workflow took when analyzing one single sqlite file. "
   ]
  },
  {
   "cell_type": "code",
   "execution_count": 6,
   "metadata": {},
   "outputs": [
    {
     "data": {
      "text/html": [
       "<div>\n",
       "<style scoped>\n",
       "    .dataframe tbody tr th:only-of-type {\n",
       "        vertical-align: middle;\n",
       "    }\n",
       "\n",
       "    .dataframe tbody tr th {\n",
       "        vertical-align: top;\n",
       "    }\n",
       "\n",
       "    .dataframe thead th {\n",
       "        text-align: right;\n",
       "    }\n",
       "</style>\n",
       "<table border=\"1\" class=\"dataframe\">\n",
       "  <thead>\n",
       "    <tr style=\"text-align: right;\">\n",
       "      <th></th>\n",
       "      <th>input_name</th>\n",
       "      <th>file_size</th>\n",
       "      <th>peak_memory</th>\n",
       "      <th>total_allocation</th>\n",
       "      <th>time_duration</th>\n",
       "    </tr>\n",
       "  </thead>\n",
       "  <tbody>\n",
       "    <tr>\n",
       "      <th>0</th>\n",
       "      <td>SQ00014610</td>\n",
       "      <td>21762.960</td>\n",
       "      <td>602.507991</td>\n",
       "      <td>210796680</td>\n",
       "      <td>1297.944</td>\n",
       "    </tr>\n",
       "    <tr>\n",
       "      <th>1</th>\n",
       "      <td>SQ00014611</td>\n",
       "      <td>21277.399</td>\n",
       "      <td>588.950423</td>\n",
       "      <td>193984074</td>\n",
       "      <td>1280.323</td>\n",
       "    </tr>\n",
       "    <tr>\n",
       "      <th>2</th>\n",
       "      <td>SQ00014612</td>\n",
       "      <td>21060.905</td>\n",
       "      <td>582.804961</td>\n",
       "      <td>196730104</td>\n",
       "      <td>1219.602</td>\n",
       "    </tr>\n",
       "    <tr>\n",
       "      <th>3</th>\n",
       "      <td>SQ00014613</td>\n",
       "      <td>10208.352</td>\n",
       "      <td>277.620282</td>\n",
       "      <td>208466301</td>\n",
       "      <td>714.050</td>\n",
       "    </tr>\n",
       "    <tr>\n",
       "      <th>4</th>\n",
       "      <td>SQ00014614</td>\n",
       "      <td>11135.101</td>\n",
       "      <td>304.234849</td>\n",
       "      <td>215662491</td>\n",
       "      <td>754.069</td>\n",
       "    </tr>\n",
       "    <tr>\n",
       "      <th>5</th>\n",
       "      <td>SQ00014615</td>\n",
       "      <td>11146.898</td>\n",
       "      <td>303.290885</td>\n",
       "      <td>196388216</td>\n",
       "      <td>733.884</td>\n",
       "    </tr>\n",
       "    <tr>\n",
       "      <th>6</th>\n",
       "      <td>SQ00014616</td>\n",
       "      <td>11995.028</td>\n",
       "      <td>324.835086</td>\n",
       "      <td>229781307</td>\n",
       "      <td>849.220</td>\n",
       "    </tr>\n",
       "    <tr>\n",
       "      <th>7</th>\n",
       "      <td>SQ00014617</td>\n",
       "      <td>12456.449</td>\n",
       "      <td>338.065175</td>\n",
       "      <td>249389625</td>\n",
       "      <td>981.426</td>\n",
       "    </tr>\n",
       "    <tr>\n",
       "      <th>8</th>\n",
       "      <td>SQ00014618</td>\n",
       "      <td>12144.017</td>\n",
       "      <td>328.636603</td>\n",
       "      <td>246293861</td>\n",
       "      <td>904.773</td>\n",
       "    </tr>\n",
       "    <tr>\n",
       "      <th>9</th>\n",
       "      <td>all_inputs_consensus</td>\n",
       "      <td>NaN</td>\n",
       "      <td>101.043112</td>\n",
       "      <td>401795</td>\n",
       "      <td>0.997</td>\n",
       "    </tr>\n",
       "    <tr>\n",
       "      <th>10</th>\n",
       "      <td>all_inputs_feature_select</td>\n",
       "      <td>NaN</td>\n",
       "      <td>286.334905</td>\n",
       "      <td>4988736</td>\n",
       "      <td>16.029</td>\n",
       "    </tr>\n",
       "  </tbody>\n",
       "</table>\n",
       "</div>"
      ],
      "text/plain": [
       "                   input_name  file_size  peak_memory  total_allocation  \\\n",
       "0                  SQ00014610  21762.960   602.507991         210796680   \n",
       "1                  SQ00014611  21277.399   588.950423         193984074   \n",
       "2                  SQ00014612  21060.905   582.804961         196730104   \n",
       "3                  SQ00014613  10208.352   277.620282         208466301   \n",
       "4                  SQ00014614  11135.101   304.234849         215662491   \n",
       "5                  SQ00014615  11146.898   303.290885         196388216   \n",
       "6                  SQ00014616  11995.028   324.835086         229781307   \n",
       "7                  SQ00014617  12456.449   338.065175         249389625   \n",
       "8                  SQ00014618  12144.017   328.636603         246293861   \n",
       "9        all_inputs_consensus        NaN   101.043112            401795   \n",
       "10  all_inputs_feature_select        NaN   286.334905           4988736   \n",
       "\n",
       "    time_duration  \n",
       "0        1297.944  \n",
       "1        1280.323  \n",
       "2        1219.602  \n",
       "3         714.050  \n",
       "4         754.069  \n",
       "5         733.884  \n",
       "6         849.220  \n",
       "7         981.426  \n",
       "8         904.773  \n",
       "9           0.997  \n",
       "10         16.029  "
      ]
     },
     "execution_count": 6,
     "metadata": {},
     "output_type": "execute_result"
    }
   ],
   "source": [
    "# group the data frame based on their process input_data_name\n",
    "# this demonstrates 1 inputs in all scripts (emulating a snigle process of the workfow\n",
    "group_by_input = benchmark_df.groupby(by=[\"input_data_name\"])\n",
    "\n",
    "\n",
    "workflow_per_input_data = []\n",
    "for name, df in group_by_input:\n",
    "    workflow_per_input_data.append(\n",
    "        [\n",
    "            name[0],\n",
    "            df[\"file_size\"].unique()[0],\n",
    "            df[\"peak_memory\"].max(),\n",
    "            df[\"total_allocations\"].sum(),\n",
    "            df[\"time_duration\"].sum(),\n",
    "        ]\n",
    "    )\n",
    "\n",
    "\n",
    "columns = [\n",
    "    \"input_name\",\n",
    "    \"file_size\",\n",
    "    \"peak_memory\",\n",
    "    \"total_allocation\",\n",
    "    \"time_duration\",\n",
    "]\n",
    "workflow_per_input_df = pd.DataFrame(workflow_per_input_data, columns=columns)\n",
    "workflow_per_input_df.to_csv(\"workflow_per_input_performance.csv\", index=False)\n",
    "workflow_per_input_df"
   ]
  },
  {
   "cell_type": "markdown",
   "metadata": {},
   "source": [
    "## Total Allocations used \n",
    "\n",
    "The total amount of allocations refers to the count of memory allocations opperations perfromed by the workflow. This occurs when a program requets and recieves memory from the system memory managment system. Therefore, it captures the cumulative amount of dynamically allocated memory in a program, providing insights into its memory footprint and resource management efficiency."
   ]
  },
  {
   "cell_type": "code",
   "execution_count": 7,
   "metadata": {},
   "outputs": [
    {
     "data": {
      "application/vnd.plotly.v1+json": {
       "config": {
        "plotlyServerURL": "https://plot.ly"
       },
       "data": [
        {
         "alignmentgroup": "True",
         "customdata": [
          [
           210796680
          ],
          [
           193984074
          ],
          [
           196730104
          ],
          [
           208466301
          ],
          [
           215662491
          ],
          [
           196388216
          ],
          [
           229781307
          ],
          [
           249389625
          ],
          [
           246293861
          ],
          [
           401795
          ],
          [
           4988736
          ]
         ],
         "hovertemplate": "input_name=%{x}<br>peak_memory=%{text}<br>N_Allocations=%{marker.color}<extra></extra>",
         "legendgroup": "",
         "marker": {
          "color": [
           210796680,
           193984074,
           196730104,
           208466301,
           215662491,
           196388216,
           229781307,
           249389625,
           246293861,
           401795,
           4988736
          ],
          "coloraxis": "coloraxis",
          "pattern": {
           "shape": ""
          }
         },
         "name": "",
         "offsetgroup": "",
         "orientation": "v",
         "showlegend": false,
         "text": [
          602.5079908370972,
          588.9504232406616,
          582.8049612045288,
          277.62028217315674,
          304.23484897613525,
          303.29088497161865,
          324.83508586883545,
          338.0651750564575,
          328.6366033554077,
          101.04311180114746,
          286.33490467071533
         ],
         "textposition": "outside",
         "texttemplate": "%{text:.2f} MB",
         "type": "bar",
         "x": [
          "SQ00014610",
          "SQ00014611",
          "SQ00014612",
          "SQ00014613",
          "SQ00014614",
          "SQ00014615",
          "SQ00014616",
          "SQ00014617",
          "SQ00014618",
          "all_inputs_consensus",
          "all_inputs_feature_select"
         ],
         "xaxis": "x",
         "y": [
          602.5079908370972,
          588.9504232406616,
          582.8049612045288,
          277.62028217315674,
          304.23484897613525,
          303.29088497161865,
          324.83508586883545,
          338.0651750564575,
          328.6366033554077,
          101.04311180114746,
          286.33490467071533
         ],
         "yaxis": "y"
        }
       ],
       "layout": {
        "barmode": "relative",
        "coloraxis": {
         "colorbar": {
          "title": {
           "text": "N_Allocations"
          }
         },
         "colorscale": [
          [
           0,
           "#440154"
          ],
          [
           0.1111111111111111,
           "#482878"
          ],
          [
           0.2222222222222222,
           "#3e4989"
          ],
          [
           0.3333333333333333,
           "#31688e"
          ],
          [
           0.4444444444444444,
           "#26828e"
          ],
          [
           0.5555555555555556,
           "#1f9e89"
          ],
          [
           0.6666666666666666,
           "#35b779"
          ],
          [
           0.7777777777777778,
           "#6ece58"
          ],
          [
           0.8888888888888888,
           "#b5de2b"
          ],
          [
           1,
           "#fde725"
          ]
         ]
        },
        "legend": {
         "tracegroupgap": 0
        },
        "margin": {
         "t": 60
        },
        "template": {
         "data": {
          "bar": [
           {
            "error_x": {
             "color": "rgb(36,36,36)"
            },
            "error_y": {
             "color": "rgb(36,36,36)"
            },
            "marker": {
             "line": {
              "color": "white",
              "width": 0.5
             },
             "pattern": {
              "fillmode": "overlay",
              "size": 10,
              "solidity": 0.2
             }
            },
            "type": "bar"
           }
          ],
          "barpolar": [
           {
            "marker": {
             "line": {
              "color": "white",
              "width": 0.5
             },
             "pattern": {
              "fillmode": "overlay",
              "size": 10,
              "solidity": 0.2
             }
            },
            "type": "barpolar"
           }
          ],
          "carpet": [
           {
            "aaxis": {
             "endlinecolor": "rgb(36,36,36)",
             "gridcolor": "white",
             "linecolor": "white",
             "minorgridcolor": "white",
             "startlinecolor": "rgb(36,36,36)"
            },
            "baxis": {
             "endlinecolor": "rgb(36,36,36)",
             "gridcolor": "white",
             "linecolor": "white",
             "minorgridcolor": "white",
             "startlinecolor": "rgb(36,36,36)"
            },
            "type": "carpet"
           }
          ],
          "choropleth": [
           {
            "colorbar": {
             "outlinewidth": 1,
             "tickcolor": "rgb(36,36,36)",
             "ticks": "outside"
            },
            "type": "choropleth"
           }
          ],
          "contour": [
           {
            "colorbar": {
             "outlinewidth": 1,
             "tickcolor": "rgb(36,36,36)",
             "ticks": "outside"
            },
            "colorscale": [
             [
              0,
              "#440154"
             ],
             [
              0.1111111111111111,
              "#482878"
             ],
             [
              0.2222222222222222,
              "#3e4989"
             ],
             [
              0.3333333333333333,
              "#31688e"
             ],
             [
              0.4444444444444444,
              "#26828e"
             ],
             [
              0.5555555555555556,
              "#1f9e89"
             ],
             [
              0.6666666666666666,
              "#35b779"
             ],
             [
              0.7777777777777778,
              "#6ece58"
             ],
             [
              0.8888888888888888,
              "#b5de2b"
             ],
             [
              1,
              "#fde725"
             ]
            ],
            "type": "contour"
           }
          ],
          "contourcarpet": [
           {
            "colorbar": {
             "outlinewidth": 1,
             "tickcolor": "rgb(36,36,36)",
             "ticks": "outside"
            },
            "type": "contourcarpet"
           }
          ],
          "heatmap": [
           {
            "colorbar": {
             "outlinewidth": 1,
             "tickcolor": "rgb(36,36,36)",
             "ticks": "outside"
            },
            "colorscale": [
             [
              0,
              "#440154"
             ],
             [
              0.1111111111111111,
              "#482878"
             ],
             [
              0.2222222222222222,
              "#3e4989"
             ],
             [
              0.3333333333333333,
              "#31688e"
             ],
             [
              0.4444444444444444,
              "#26828e"
             ],
             [
              0.5555555555555556,
              "#1f9e89"
             ],
             [
              0.6666666666666666,
              "#35b779"
             ],
             [
              0.7777777777777778,
              "#6ece58"
             ],
             [
              0.8888888888888888,
              "#b5de2b"
             ],
             [
              1,
              "#fde725"
             ]
            ],
            "type": "heatmap"
           }
          ],
          "heatmapgl": [
           {
            "colorbar": {
             "outlinewidth": 1,
             "tickcolor": "rgb(36,36,36)",
             "ticks": "outside"
            },
            "colorscale": [
             [
              0,
              "#440154"
             ],
             [
              0.1111111111111111,
              "#482878"
             ],
             [
              0.2222222222222222,
              "#3e4989"
             ],
             [
              0.3333333333333333,
              "#31688e"
             ],
             [
              0.4444444444444444,
              "#26828e"
             ],
             [
              0.5555555555555556,
              "#1f9e89"
             ],
             [
              0.6666666666666666,
              "#35b779"
             ],
             [
              0.7777777777777778,
              "#6ece58"
             ],
             [
              0.8888888888888888,
              "#b5de2b"
             ],
             [
              1,
              "#fde725"
             ]
            ],
            "type": "heatmapgl"
           }
          ],
          "histogram": [
           {
            "marker": {
             "line": {
              "color": "white",
              "width": 0.6
             }
            },
            "type": "histogram"
           }
          ],
          "histogram2d": [
           {
            "colorbar": {
             "outlinewidth": 1,
             "tickcolor": "rgb(36,36,36)",
             "ticks": "outside"
            },
            "colorscale": [
             [
              0,
              "#440154"
             ],
             [
              0.1111111111111111,
              "#482878"
             ],
             [
              0.2222222222222222,
              "#3e4989"
             ],
             [
              0.3333333333333333,
              "#31688e"
             ],
             [
              0.4444444444444444,
              "#26828e"
             ],
             [
              0.5555555555555556,
              "#1f9e89"
             ],
             [
              0.6666666666666666,
              "#35b779"
             ],
             [
              0.7777777777777778,
              "#6ece58"
             ],
             [
              0.8888888888888888,
              "#b5de2b"
             ],
             [
              1,
              "#fde725"
             ]
            ],
            "type": "histogram2d"
           }
          ],
          "histogram2dcontour": [
           {
            "colorbar": {
             "outlinewidth": 1,
             "tickcolor": "rgb(36,36,36)",
             "ticks": "outside"
            },
            "colorscale": [
             [
              0,
              "#440154"
             ],
             [
              0.1111111111111111,
              "#482878"
             ],
             [
              0.2222222222222222,
              "#3e4989"
             ],
             [
              0.3333333333333333,
              "#31688e"
             ],
             [
              0.4444444444444444,
              "#26828e"
             ],
             [
              0.5555555555555556,
              "#1f9e89"
             ],
             [
              0.6666666666666666,
              "#35b779"
             ],
             [
              0.7777777777777778,
              "#6ece58"
             ],
             [
              0.8888888888888888,
              "#b5de2b"
             ],
             [
              1,
              "#fde725"
             ]
            ],
            "type": "histogram2dcontour"
           }
          ],
          "mesh3d": [
           {
            "colorbar": {
             "outlinewidth": 1,
             "tickcolor": "rgb(36,36,36)",
             "ticks": "outside"
            },
            "type": "mesh3d"
           }
          ],
          "parcoords": [
           {
            "line": {
             "colorbar": {
              "outlinewidth": 1,
              "tickcolor": "rgb(36,36,36)",
              "ticks": "outside"
             }
            },
            "type": "parcoords"
           }
          ],
          "pie": [
           {
            "automargin": true,
            "type": "pie"
           }
          ],
          "scatter": [
           {
            "fillpattern": {
             "fillmode": "overlay",
             "size": 10,
             "solidity": 0.2
            },
            "type": "scatter"
           }
          ],
          "scatter3d": [
           {
            "line": {
             "colorbar": {
              "outlinewidth": 1,
              "tickcolor": "rgb(36,36,36)",
              "ticks": "outside"
             }
            },
            "marker": {
             "colorbar": {
              "outlinewidth": 1,
              "tickcolor": "rgb(36,36,36)",
              "ticks": "outside"
             }
            },
            "type": "scatter3d"
           }
          ],
          "scattercarpet": [
           {
            "marker": {
             "colorbar": {
              "outlinewidth": 1,
              "tickcolor": "rgb(36,36,36)",
              "ticks": "outside"
             }
            },
            "type": "scattercarpet"
           }
          ],
          "scattergeo": [
           {
            "marker": {
             "colorbar": {
              "outlinewidth": 1,
              "tickcolor": "rgb(36,36,36)",
              "ticks": "outside"
             }
            },
            "type": "scattergeo"
           }
          ],
          "scattergl": [
           {
            "marker": {
             "colorbar": {
              "outlinewidth": 1,
              "tickcolor": "rgb(36,36,36)",
              "ticks": "outside"
             }
            },
            "type": "scattergl"
           }
          ],
          "scattermapbox": [
           {
            "marker": {
             "colorbar": {
              "outlinewidth": 1,
              "tickcolor": "rgb(36,36,36)",
              "ticks": "outside"
             }
            },
            "type": "scattermapbox"
           }
          ],
          "scatterpolar": [
           {
            "marker": {
             "colorbar": {
              "outlinewidth": 1,
              "tickcolor": "rgb(36,36,36)",
              "ticks": "outside"
             }
            },
            "type": "scatterpolar"
           }
          ],
          "scatterpolargl": [
           {
            "marker": {
             "colorbar": {
              "outlinewidth": 1,
              "tickcolor": "rgb(36,36,36)",
              "ticks": "outside"
             }
            },
            "type": "scatterpolargl"
           }
          ],
          "scatterternary": [
           {
            "marker": {
             "colorbar": {
              "outlinewidth": 1,
              "tickcolor": "rgb(36,36,36)",
              "ticks": "outside"
             }
            },
            "type": "scatterternary"
           }
          ],
          "surface": [
           {
            "colorbar": {
             "outlinewidth": 1,
             "tickcolor": "rgb(36,36,36)",
             "ticks": "outside"
            },
            "colorscale": [
             [
              0,
              "#440154"
             ],
             [
              0.1111111111111111,
              "#482878"
             ],
             [
              0.2222222222222222,
              "#3e4989"
             ],
             [
              0.3333333333333333,
              "#31688e"
             ],
             [
              0.4444444444444444,
              "#26828e"
             ],
             [
              0.5555555555555556,
              "#1f9e89"
             ],
             [
              0.6666666666666666,
              "#35b779"
             ],
             [
              0.7777777777777778,
              "#6ece58"
             ],
             [
              0.8888888888888888,
              "#b5de2b"
             ],
             [
              1,
              "#fde725"
             ]
            ],
            "type": "surface"
           }
          ],
          "table": [
           {
            "cells": {
             "fill": {
              "color": "rgb(237,237,237)"
             },
             "line": {
              "color": "white"
             }
            },
            "header": {
             "fill": {
              "color": "rgb(217,217,217)"
             },
             "line": {
              "color": "white"
             }
            },
            "type": "table"
           }
          ]
         },
         "layout": {
          "annotationdefaults": {
           "arrowhead": 0,
           "arrowwidth": 1
          },
          "autotypenumbers": "strict",
          "coloraxis": {
           "colorbar": {
            "outlinewidth": 1,
            "tickcolor": "rgb(36,36,36)",
            "ticks": "outside"
           }
          },
          "colorscale": {
           "diverging": [
            [
             0,
             "rgb(103,0,31)"
            ],
            [
             0.1,
             "rgb(178,24,43)"
            ],
            [
             0.2,
             "rgb(214,96,77)"
            ],
            [
             0.3,
             "rgb(244,165,130)"
            ],
            [
             0.4,
             "rgb(253,219,199)"
            ],
            [
             0.5,
             "rgb(247,247,247)"
            ],
            [
             0.6,
             "rgb(209,229,240)"
            ],
            [
             0.7,
             "rgb(146,197,222)"
            ],
            [
             0.8,
             "rgb(67,147,195)"
            ],
            [
             0.9,
             "rgb(33,102,172)"
            ],
            [
             1,
             "rgb(5,48,97)"
            ]
           ],
           "sequential": [
            [
             0,
             "#440154"
            ],
            [
             0.1111111111111111,
             "#482878"
            ],
            [
             0.2222222222222222,
             "#3e4989"
            ],
            [
             0.3333333333333333,
             "#31688e"
            ],
            [
             0.4444444444444444,
             "#26828e"
            ],
            [
             0.5555555555555556,
             "#1f9e89"
            ],
            [
             0.6666666666666666,
             "#35b779"
            ],
            [
             0.7777777777777778,
             "#6ece58"
            ],
            [
             0.8888888888888888,
             "#b5de2b"
            ],
            [
             1,
             "#fde725"
            ]
           ],
           "sequentialminus": [
            [
             0,
             "#440154"
            ],
            [
             0.1111111111111111,
             "#482878"
            ],
            [
             0.2222222222222222,
             "#3e4989"
            ],
            [
             0.3333333333333333,
             "#31688e"
            ],
            [
             0.4444444444444444,
             "#26828e"
            ],
            [
             0.5555555555555556,
             "#1f9e89"
            ],
            [
             0.6666666666666666,
             "#35b779"
            ],
            [
             0.7777777777777778,
             "#6ece58"
            ],
            [
             0.8888888888888888,
             "#b5de2b"
            ],
            [
             1,
             "#fde725"
            ]
           ]
          },
          "colorway": [
           "#1F77B4",
           "#FF7F0E",
           "#2CA02C",
           "#D62728",
           "#9467BD",
           "#8C564B",
           "#E377C2",
           "#7F7F7F",
           "#BCBD22",
           "#17BECF"
          ],
          "font": {
           "color": "rgb(36,36,36)"
          },
          "geo": {
           "bgcolor": "white",
           "lakecolor": "white",
           "landcolor": "white",
           "showlakes": true,
           "showland": true,
           "subunitcolor": "white"
          },
          "hoverlabel": {
           "align": "left"
          },
          "hovermode": "closest",
          "mapbox": {
           "style": "light"
          },
          "paper_bgcolor": "white",
          "plot_bgcolor": "white",
          "polar": {
           "angularaxis": {
            "gridcolor": "rgb(232,232,232)",
            "linecolor": "rgb(36,36,36)",
            "showgrid": false,
            "showline": true,
            "ticks": "outside"
           },
           "bgcolor": "white",
           "radialaxis": {
            "gridcolor": "rgb(232,232,232)",
            "linecolor": "rgb(36,36,36)",
            "showgrid": false,
            "showline": true,
            "ticks": "outside"
           }
          },
          "scene": {
           "xaxis": {
            "backgroundcolor": "white",
            "gridcolor": "rgb(232,232,232)",
            "gridwidth": 2,
            "linecolor": "rgb(36,36,36)",
            "showbackground": true,
            "showgrid": false,
            "showline": true,
            "ticks": "outside",
            "zeroline": false,
            "zerolinecolor": "rgb(36,36,36)"
           },
           "yaxis": {
            "backgroundcolor": "white",
            "gridcolor": "rgb(232,232,232)",
            "gridwidth": 2,
            "linecolor": "rgb(36,36,36)",
            "showbackground": true,
            "showgrid": false,
            "showline": true,
            "ticks": "outside",
            "zeroline": false,
            "zerolinecolor": "rgb(36,36,36)"
           },
           "zaxis": {
            "backgroundcolor": "white",
            "gridcolor": "rgb(232,232,232)",
            "gridwidth": 2,
            "linecolor": "rgb(36,36,36)",
            "showbackground": true,
            "showgrid": false,
            "showline": true,
            "ticks": "outside",
            "zeroline": false,
            "zerolinecolor": "rgb(36,36,36)"
           }
          },
          "shapedefaults": {
           "fillcolor": "black",
           "line": {
            "width": 0
           },
           "opacity": 0.3
          },
          "ternary": {
           "aaxis": {
            "gridcolor": "rgb(232,232,232)",
            "linecolor": "rgb(36,36,36)",
            "showgrid": false,
            "showline": true,
            "ticks": "outside"
           },
           "baxis": {
            "gridcolor": "rgb(232,232,232)",
            "linecolor": "rgb(36,36,36)",
            "showgrid": false,
            "showline": true,
            "ticks": "outside"
           },
           "bgcolor": "white",
           "caxis": {
            "gridcolor": "rgb(232,232,232)",
            "linecolor": "rgb(36,36,36)",
            "showgrid": false,
            "showline": true,
            "ticks": "outside"
           }
          },
          "title": {
           "x": 0.05
          },
          "xaxis": {
           "automargin": true,
           "gridcolor": "rgb(232,232,232)",
           "linecolor": "rgb(36,36,36)",
           "showgrid": false,
           "showline": true,
           "ticks": "outside",
           "title": {
            "standoff": 15
           },
           "zeroline": false,
           "zerolinecolor": "rgb(36,36,36)"
          },
          "yaxis": {
           "automargin": true,
           "gridcolor": "rgb(232,232,232)",
           "linecolor": "rgb(36,36,36)",
           "showgrid": false,
           "showline": true,
           "ticks": "outside",
           "title": {
            "standoff": 15
           },
           "zeroline": false,
           "zerolinecolor": "rgb(36,36,36)"
          }
         }
        },
        "title": {
         "text": "Peak Memory Usage and Total Allocations per Input"
        },
        "xaxis": {
         "anchor": "y",
         "domain": [
          0,
          1
         ],
         "title": {
          "text": "Input Name"
         }
        },
        "yaxis": {
         "anchor": "x",
         "domain": [
          0,
          1
         ],
         "title": {
          "text": "Peak Memory Usage (MB)"
         }
        }
       }
      }
     },
     "metadata": {},
     "output_type": "display_data"
    }
   ],
   "source": [
    "# Sample data (replace with your own data)\n",
    "input_names = workflow_per_input_df.input_name\n",
    "total_allocations = workflow_per_input_df.total_allocation\n",
    "peak_memory = workflow_per_input_df.peak_memory\n",
    "\n",
    "fig = px.bar(\n",
    "    workflow_per_input_df,\n",
    "    x=\"input_name\",\n",
    "    y=\"peak_memory\",\n",
    "    text=\"peak_memory\",\n",
    "    hover_data=[\"total_allocation\"],\n",
    "    color=\"total_allocation\",\n",
    "    template=\"simple_white\",\n",
    "    barmode=\"relative\",\n",
    "    labels={\"total_allocation\": \"N_Allocations\"},\n",
    ")\n",
    "fig.update_traces(texttemplate=\"%{text:.2f} MB\", textposition=\"outside\")\n",
    "fig.update_layout(\n",
    "    title=\"Peak Memory Usage and Total Allocations per Input\",\n",
    "    xaxis_title=\"Input Name\",\n",
    "    yaxis_title=\"Peak Memory Usage (MB)\",\n",
    ")\n",
    "fig.show()\n",
    "\n",
    "# print out plot\n",
    "fig.write_image(\"images/peak_memory_total_allocations.png\")"
   ]
  },
  {
   "cell_type": "markdown",
   "metadata": {},
   "source": [
    "> **Figure 1**: This figure illustrates the memory usage and total allocations calculated per input dataset. The prefix 'all_inputs' indicates that all plate files were utilized in the execution of this process. Each bar's height corresponds to the peak memory usage of these files, while the color spectrum signifies the number of allocations made by the process throughout the entire workflow execution."
   ]
  },
  {
   "cell_type": "markdown",
   "metadata": {},
   "source": [
    "## Memory usage and runtime\n",
    "\n",
    "Here, we assess the performance of `cp_process` in terms of memory utilization and runtime. This analysis results in three distinct plots:\n",
    "\n",
    "1. Peak memory usage for each step.\n",
    "2. Runtime for each step.\n",
    "3. Runtime per input in each step.\"\n",
    "\n"
   ]
  },
  {
   "cell_type": "code",
   "execution_count": 8,
   "metadata": {},
   "outputs": [
    {
     "data": {
      "text/html": [
       "<div>\n",
       "<style scoped>\n",
       "    .dataframe tbody tr th:only-of-type {\n",
       "        vertical-align: middle;\n",
       "    }\n",
       "\n",
       "    .dataframe tbody tr th {\n",
       "        vertical-align: top;\n",
       "    }\n",
       "\n",
       "    .dataframe thead th {\n",
       "        text-align: right;\n",
       "    }\n",
       "</style>\n",
       "<table border=\"1\" class=\"dataframe\">\n",
       "  <thead>\n",
       "    <tr style=\"text-align: right;\">\n",
       "      <th></th>\n",
       "      <th>process_name</th>\n",
       "      <th>peak_memory</th>\n",
       "      <th>time_duration</th>\n",
       "    </tr>\n",
       "  </thead>\n",
       "  <tbody>\n",
       "    <tr>\n",
       "      <th>0</th>\n",
       "      <td>aggregate_cells</td>\n",
       "      <td>3650.946256</td>\n",
       "      <td>1293.302</td>\n",
       "    </tr>\n",
       "    <tr>\n",
       "      <th>1</th>\n",
       "      <td>annotate</td>\n",
       "      <td>472.462303</td>\n",
       "      <td>2.269</td>\n",
       "    </tr>\n",
       "    <tr>\n",
       "      <th>2</th>\n",
       "      <td>consensus</td>\n",
       "      <td>101.043112</td>\n",
       "      <td>0.997</td>\n",
       "    </tr>\n",
       "    <tr>\n",
       "      <th>3</th>\n",
       "      <td>feature_select</td>\n",
       "      <td>286.334905</td>\n",
       "      <td>16.029</td>\n",
       "    </tr>\n",
       "    <tr>\n",
       "      <th>4</th>\n",
       "      <td>normalize</td>\n",
       "      <td>472.112311</td>\n",
       "      <td>2.505</td>\n",
       "    </tr>\n",
       "  </tbody>\n",
       "</table>\n",
       "</div>"
      ],
      "text/plain": [
       "      process_name  peak_memory  time_duration\n",
       "0  aggregate_cells  3650.946256       1293.302\n",
       "1         annotate   472.462303          2.269\n",
       "2        consensus   101.043112          0.997\n",
       "3   feature_select   286.334905         16.029\n",
       "4        normalize   472.112311          2.505"
      ]
     },
     "execution_count": 8,
     "metadata": {},
     "output_type": "execute_result"
    }
   ],
   "source": [
    "## Peak memory usage per step\n",
    "group_by_step = benchmark_df.groupby(by=[\"script\"])\n",
    "\n",
    "\n",
    "collected_data = []\n",
    "for name, df in group_by_step:\n",
    "    data = [\n",
    "        name[0].replace(\".py\", \"\"),\n",
    "        df[\"peak_memory\"].sum(),\n",
    "        df[\"time_duration\"].max(),  # longest time is the limiting factor\n",
    "    ]\n",
    "\n",
    "    collected_data.append(data)\n",
    "\n",
    "columns = [\"process_name\", \"peak_memory\", \"time_duration\"]\n",
    "step_df = pd.DataFrame(collected_data, columns=columns)\n",
    "\n",
    "step_df"
   ]
  },
  {
   "cell_type": "code",
   "execution_count": 9,
   "metadata": {},
   "outputs": [
    {
     "data": {
      "application/vnd.plotly.v1+json": {
       "config": {
        "plotlyServerURL": "https://plot.ly"
       },
       "data": [
        {
         "hovertemplate": "Step=%{x}<br>Peak Memory (MB)=%{y}<extra></extra>",
         "legendgroup": "",
         "line": {
          "color": "red",
          "dash": "solid"
         },
         "marker": {
          "symbol": "circle"
         },
         "mode": "lines",
         "name": "",
         "orientation": "v",
         "showlegend": false,
         "type": "scatter",
         "x": [
          "aggregate_cells",
          "annotate",
          "normalize",
          "feature_select",
          "consensus"
         ],
         "xaxis": "x",
         "y": [
          3650.946255683899,
          472.4623031616211,
          472.1123113632202,
          286.33490467071533,
          101.04311180114746
         ],
         "yaxis": "y"
        }
       ],
       "layout": {
        "annotations": [
         {
          "showarrow": false,
          "text": "<b>Peak memory usage: 3650.95 MB</b>",
          "x": 0.5,
          "xref": "paper",
          "y": 0.9,
          "yref": "paper"
         }
        ],
        "legend": {
         "tracegroupgap": 0
        },
        "template": {
         "data": {
          "bar": [
           {
            "error_x": {
             "color": "rgb(36,36,36)"
            },
            "error_y": {
             "color": "rgb(36,36,36)"
            },
            "marker": {
             "line": {
              "color": "white",
              "width": 0.5
             },
             "pattern": {
              "fillmode": "overlay",
              "size": 10,
              "solidity": 0.2
             }
            },
            "type": "bar"
           }
          ],
          "barpolar": [
           {
            "marker": {
             "line": {
              "color": "white",
              "width": 0.5
             },
             "pattern": {
              "fillmode": "overlay",
              "size": 10,
              "solidity": 0.2
             }
            },
            "type": "barpolar"
           }
          ],
          "carpet": [
           {
            "aaxis": {
             "endlinecolor": "rgb(36,36,36)",
             "gridcolor": "white",
             "linecolor": "white",
             "minorgridcolor": "white",
             "startlinecolor": "rgb(36,36,36)"
            },
            "baxis": {
             "endlinecolor": "rgb(36,36,36)",
             "gridcolor": "white",
             "linecolor": "white",
             "minorgridcolor": "white",
             "startlinecolor": "rgb(36,36,36)"
            },
            "type": "carpet"
           }
          ],
          "choropleth": [
           {
            "colorbar": {
             "outlinewidth": 1,
             "tickcolor": "rgb(36,36,36)",
             "ticks": "outside"
            },
            "type": "choropleth"
           }
          ],
          "contour": [
           {
            "colorbar": {
             "outlinewidth": 1,
             "tickcolor": "rgb(36,36,36)",
             "ticks": "outside"
            },
            "colorscale": [
             [
              0,
              "#440154"
             ],
             [
              0.1111111111111111,
              "#482878"
             ],
             [
              0.2222222222222222,
              "#3e4989"
             ],
             [
              0.3333333333333333,
              "#31688e"
             ],
             [
              0.4444444444444444,
              "#26828e"
             ],
             [
              0.5555555555555556,
              "#1f9e89"
             ],
             [
              0.6666666666666666,
              "#35b779"
             ],
             [
              0.7777777777777778,
              "#6ece58"
             ],
             [
              0.8888888888888888,
              "#b5de2b"
             ],
             [
              1,
              "#fde725"
             ]
            ],
            "type": "contour"
           }
          ],
          "contourcarpet": [
           {
            "colorbar": {
             "outlinewidth": 1,
             "tickcolor": "rgb(36,36,36)",
             "ticks": "outside"
            },
            "type": "contourcarpet"
           }
          ],
          "heatmap": [
           {
            "colorbar": {
             "outlinewidth": 1,
             "tickcolor": "rgb(36,36,36)",
             "ticks": "outside"
            },
            "colorscale": [
             [
              0,
              "#440154"
             ],
             [
              0.1111111111111111,
              "#482878"
             ],
             [
              0.2222222222222222,
              "#3e4989"
             ],
             [
              0.3333333333333333,
              "#31688e"
             ],
             [
              0.4444444444444444,
              "#26828e"
             ],
             [
              0.5555555555555556,
              "#1f9e89"
             ],
             [
              0.6666666666666666,
              "#35b779"
             ],
             [
              0.7777777777777778,
              "#6ece58"
             ],
             [
              0.8888888888888888,
              "#b5de2b"
             ],
             [
              1,
              "#fde725"
             ]
            ],
            "type": "heatmap"
           }
          ],
          "heatmapgl": [
           {
            "colorbar": {
             "outlinewidth": 1,
             "tickcolor": "rgb(36,36,36)",
             "ticks": "outside"
            },
            "colorscale": [
             [
              0,
              "#440154"
             ],
             [
              0.1111111111111111,
              "#482878"
             ],
             [
              0.2222222222222222,
              "#3e4989"
             ],
             [
              0.3333333333333333,
              "#31688e"
             ],
             [
              0.4444444444444444,
              "#26828e"
             ],
             [
              0.5555555555555556,
              "#1f9e89"
             ],
             [
              0.6666666666666666,
              "#35b779"
             ],
             [
              0.7777777777777778,
              "#6ece58"
             ],
             [
              0.8888888888888888,
              "#b5de2b"
             ],
             [
              1,
              "#fde725"
             ]
            ],
            "type": "heatmapgl"
           }
          ],
          "histogram": [
           {
            "marker": {
             "line": {
              "color": "white",
              "width": 0.6
             }
            },
            "type": "histogram"
           }
          ],
          "histogram2d": [
           {
            "colorbar": {
             "outlinewidth": 1,
             "tickcolor": "rgb(36,36,36)",
             "ticks": "outside"
            },
            "colorscale": [
             [
              0,
              "#440154"
             ],
             [
              0.1111111111111111,
              "#482878"
             ],
             [
              0.2222222222222222,
              "#3e4989"
             ],
             [
              0.3333333333333333,
              "#31688e"
             ],
             [
              0.4444444444444444,
              "#26828e"
             ],
             [
              0.5555555555555556,
              "#1f9e89"
             ],
             [
              0.6666666666666666,
              "#35b779"
             ],
             [
              0.7777777777777778,
              "#6ece58"
             ],
             [
              0.8888888888888888,
              "#b5de2b"
             ],
             [
              1,
              "#fde725"
             ]
            ],
            "type": "histogram2d"
           }
          ],
          "histogram2dcontour": [
           {
            "colorbar": {
             "outlinewidth": 1,
             "tickcolor": "rgb(36,36,36)",
             "ticks": "outside"
            },
            "colorscale": [
             [
              0,
              "#440154"
             ],
             [
              0.1111111111111111,
              "#482878"
             ],
             [
              0.2222222222222222,
              "#3e4989"
             ],
             [
              0.3333333333333333,
              "#31688e"
             ],
             [
              0.4444444444444444,
              "#26828e"
             ],
             [
              0.5555555555555556,
              "#1f9e89"
             ],
             [
              0.6666666666666666,
              "#35b779"
             ],
             [
              0.7777777777777778,
              "#6ece58"
             ],
             [
              0.8888888888888888,
              "#b5de2b"
             ],
             [
              1,
              "#fde725"
             ]
            ],
            "type": "histogram2dcontour"
           }
          ],
          "mesh3d": [
           {
            "colorbar": {
             "outlinewidth": 1,
             "tickcolor": "rgb(36,36,36)",
             "ticks": "outside"
            },
            "type": "mesh3d"
           }
          ],
          "parcoords": [
           {
            "line": {
             "colorbar": {
              "outlinewidth": 1,
              "tickcolor": "rgb(36,36,36)",
              "ticks": "outside"
             }
            },
            "type": "parcoords"
           }
          ],
          "pie": [
           {
            "automargin": true,
            "type": "pie"
           }
          ],
          "scatter": [
           {
            "fillpattern": {
             "fillmode": "overlay",
             "size": 10,
             "solidity": 0.2
            },
            "type": "scatter"
           }
          ],
          "scatter3d": [
           {
            "line": {
             "colorbar": {
              "outlinewidth": 1,
              "tickcolor": "rgb(36,36,36)",
              "ticks": "outside"
             }
            },
            "marker": {
             "colorbar": {
              "outlinewidth": 1,
              "tickcolor": "rgb(36,36,36)",
              "ticks": "outside"
             }
            },
            "type": "scatter3d"
           }
          ],
          "scattercarpet": [
           {
            "marker": {
             "colorbar": {
              "outlinewidth": 1,
              "tickcolor": "rgb(36,36,36)",
              "ticks": "outside"
             }
            },
            "type": "scattercarpet"
           }
          ],
          "scattergeo": [
           {
            "marker": {
             "colorbar": {
              "outlinewidth": 1,
              "tickcolor": "rgb(36,36,36)",
              "ticks": "outside"
             }
            },
            "type": "scattergeo"
           }
          ],
          "scattergl": [
           {
            "marker": {
             "colorbar": {
              "outlinewidth": 1,
              "tickcolor": "rgb(36,36,36)",
              "ticks": "outside"
             }
            },
            "type": "scattergl"
           }
          ],
          "scattermapbox": [
           {
            "marker": {
             "colorbar": {
              "outlinewidth": 1,
              "tickcolor": "rgb(36,36,36)",
              "ticks": "outside"
             }
            },
            "type": "scattermapbox"
           }
          ],
          "scatterpolar": [
           {
            "marker": {
             "colorbar": {
              "outlinewidth": 1,
              "tickcolor": "rgb(36,36,36)",
              "ticks": "outside"
             }
            },
            "type": "scatterpolar"
           }
          ],
          "scatterpolargl": [
           {
            "marker": {
             "colorbar": {
              "outlinewidth": 1,
              "tickcolor": "rgb(36,36,36)",
              "ticks": "outside"
             }
            },
            "type": "scatterpolargl"
           }
          ],
          "scatterternary": [
           {
            "marker": {
             "colorbar": {
              "outlinewidth": 1,
              "tickcolor": "rgb(36,36,36)",
              "ticks": "outside"
             }
            },
            "type": "scatterternary"
           }
          ],
          "surface": [
           {
            "colorbar": {
             "outlinewidth": 1,
             "tickcolor": "rgb(36,36,36)",
             "ticks": "outside"
            },
            "colorscale": [
             [
              0,
              "#440154"
             ],
             [
              0.1111111111111111,
              "#482878"
             ],
             [
              0.2222222222222222,
              "#3e4989"
             ],
             [
              0.3333333333333333,
              "#31688e"
             ],
             [
              0.4444444444444444,
              "#26828e"
             ],
             [
              0.5555555555555556,
              "#1f9e89"
             ],
             [
              0.6666666666666666,
              "#35b779"
             ],
             [
              0.7777777777777778,
              "#6ece58"
             ],
             [
              0.8888888888888888,
              "#b5de2b"
             ],
             [
              1,
              "#fde725"
             ]
            ],
            "type": "surface"
           }
          ],
          "table": [
           {
            "cells": {
             "fill": {
              "color": "rgb(237,237,237)"
             },
             "line": {
              "color": "white"
             }
            },
            "header": {
             "fill": {
              "color": "rgb(217,217,217)"
             },
             "line": {
              "color": "white"
             }
            },
            "type": "table"
           }
          ]
         },
         "layout": {
          "annotationdefaults": {
           "arrowhead": 0,
           "arrowwidth": 1
          },
          "autotypenumbers": "strict",
          "coloraxis": {
           "colorbar": {
            "outlinewidth": 1,
            "tickcolor": "rgb(36,36,36)",
            "ticks": "outside"
           }
          },
          "colorscale": {
           "diverging": [
            [
             0,
             "rgb(103,0,31)"
            ],
            [
             0.1,
             "rgb(178,24,43)"
            ],
            [
             0.2,
             "rgb(214,96,77)"
            ],
            [
             0.3,
             "rgb(244,165,130)"
            ],
            [
             0.4,
             "rgb(253,219,199)"
            ],
            [
             0.5,
             "rgb(247,247,247)"
            ],
            [
             0.6,
             "rgb(209,229,240)"
            ],
            [
             0.7,
             "rgb(146,197,222)"
            ],
            [
             0.8,
             "rgb(67,147,195)"
            ],
            [
             0.9,
             "rgb(33,102,172)"
            ],
            [
             1,
             "rgb(5,48,97)"
            ]
           ],
           "sequential": [
            [
             0,
             "#440154"
            ],
            [
             0.1111111111111111,
             "#482878"
            ],
            [
             0.2222222222222222,
             "#3e4989"
            ],
            [
             0.3333333333333333,
             "#31688e"
            ],
            [
             0.4444444444444444,
             "#26828e"
            ],
            [
             0.5555555555555556,
             "#1f9e89"
            ],
            [
             0.6666666666666666,
             "#35b779"
            ],
            [
             0.7777777777777778,
             "#6ece58"
            ],
            [
             0.8888888888888888,
             "#b5de2b"
            ],
            [
             1,
             "#fde725"
            ]
           ],
           "sequentialminus": [
            [
             0,
             "#440154"
            ],
            [
             0.1111111111111111,
             "#482878"
            ],
            [
             0.2222222222222222,
             "#3e4989"
            ],
            [
             0.3333333333333333,
             "#31688e"
            ],
            [
             0.4444444444444444,
             "#26828e"
            ],
            [
             0.5555555555555556,
             "#1f9e89"
            ],
            [
             0.6666666666666666,
             "#35b779"
            ],
            [
             0.7777777777777778,
             "#6ece58"
            ],
            [
             0.8888888888888888,
             "#b5de2b"
            ],
            [
             1,
             "#fde725"
            ]
           ]
          },
          "colorway": [
           "#1F77B4",
           "#FF7F0E",
           "#2CA02C",
           "#D62728",
           "#9467BD",
           "#8C564B",
           "#E377C2",
           "#7F7F7F",
           "#BCBD22",
           "#17BECF"
          ],
          "font": {
           "color": "rgb(36,36,36)"
          },
          "geo": {
           "bgcolor": "white",
           "lakecolor": "white",
           "landcolor": "white",
           "showlakes": true,
           "showland": true,
           "subunitcolor": "white"
          },
          "hoverlabel": {
           "align": "left"
          },
          "hovermode": "closest",
          "mapbox": {
           "style": "light"
          },
          "paper_bgcolor": "white",
          "plot_bgcolor": "white",
          "polar": {
           "angularaxis": {
            "gridcolor": "rgb(232,232,232)",
            "linecolor": "rgb(36,36,36)",
            "showgrid": false,
            "showline": true,
            "ticks": "outside"
           },
           "bgcolor": "white",
           "radialaxis": {
            "gridcolor": "rgb(232,232,232)",
            "linecolor": "rgb(36,36,36)",
            "showgrid": false,
            "showline": true,
            "ticks": "outside"
           }
          },
          "scene": {
           "xaxis": {
            "backgroundcolor": "white",
            "gridcolor": "rgb(232,232,232)",
            "gridwidth": 2,
            "linecolor": "rgb(36,36,36)",
            "showbackground": true,
            "showgrid": false,
            "showline": true,
            "ticks": "outside",
            "zeroline": false,
            "zerolinecolor": "rgb(36,36,36)"
           },
           "yaxis": {
            "backgroundcolor": "white",
            "gridcolor": "rgb(232,232,232)",
            "gridwidth": 2,
            "linecolor": "rgb(36,36,36)",
            "showbackground": true,
            "showgrid": false,
            "showline": true,
            "ticks": "outside",
            "zeroline": false,
            "zerolinecolor": "rgb(36,36,36)"
           },
           "zaxis": {
            "backgroundcolor": "white",
            "gridcolor": "rgb(232,232,232)",
            "gridwidth": 2,
            "linecolor": "rgb(36,36,36)",
            "showbackground": true,
            "showgrid": false,
            "showline": true,
            "ticks": "outside",
            "zeroline": false,
            "zerolinecolor": "rgb(36,36,36)"
           }
          },
          "shapedefaults": {
           "fillcolor": "black",
           "line": {
            "width": 0
           },
           "opacity": 0.3
          },
          "ternary": {
           "aaxis": {
            "gridcolor": "rgb(232,232,232)",
            "linecolor": "rgb(36,36,36)",
            "showgrid": false,
            "showline": true,
            "ticks": "outside"
           },
           "baxis": {
            "gridcolor": "rgb(232,232,232)",
            "linecolor": "rgb(36,36,36)",
            "showgrid": false,
            "showline": true,
            "ticks": "outside"
           },
           "bgcolor": "white",
           "caxis": {
            "gridcolor": "rgb(232,232,232)",
            "linecolor": "rgb(36,36,36)",
            "showgrid": false,
            "showline": true,
            "ticks": "outside"
           }
          },
          "title": {
           "x": 0.05
          },
          "xaxis": {
           "automargin": true,
           "gridcolor": "rgb(232,232,232)",
           "linecolor": "rgb(36,36,36)",
           "showgrid": false,
           "showline": true,
           "ticks": "outside",
           "title": {
            "standoff": 15
           },
           "zeroline": false,
           "zerolinecolor": "rgb(36,36,36)"
          },
          "yaxis": {
           "automargin": true,
           "gridcolor": "rgb(232,232,232)",
           "linecolor": "rgb(36,36,36)",
           "showgrid": false,
           "showline": true,
           "ticks": "outside",
           "title": {
            "standoff": 15
           },
           "zeroline": false,
           "zerolinecolor": "rgb(36,36,36)"
          }
         }
        },
        "title": {
         "text": "Peak Memory Per Process (all inputs used)"
        },
        "xaxis": {
         "anchor": "y",
         "domain": [
          0,
          1
         ],
         "title": {
          "text": "Step"
         }
        },
        "yaxis": {
         "anchor": "x",
         "domain": [
          0,
          1
         ],
         "title": {
          "text": "Peak Memory (MB)"
         }
        }
       }
      }
     },
     "metadata": {},
     "output_type": "display_data"
    },
    {
     "data": {
      "application/vnd.plotly.v1+json": {
       "config": {
        "plotlyServerURL": "https://plot.ly"
       },
       "data": [
        {
         "hovertemplate": "Step=%{x}<br>Time Duration (Sec)=%{y}<extra></extra>",
         "legendgroup": "",
         "line": {
          "color": "blue",
          "dash": "solid"
         },
         "marker": {
          "symbol": "circle"
         },
         "mode": "lines",
         "name": "",
         "orientation": "v",
         "showlegend": false,
         "type": "scatter",
         "x": [
          "aggregate_cells",
          "annotate",
          "normalize",
          "feature_select",
          "consensus"
         ],
         "xaxis": "x",
         "y": [
          1293.302,
          2.269,
          2.505,
          16.029,
          0.997
         ],
         "yaxis": "y"
        }
       ],
       "layout": {
        "annotations": [
         {
          "showarrow": false,
          "text": "<b>Total run time: 21.92 min</b>",
          "x": 0.5,
          "xref": "paper",
          "y": 0.9,
          "yref": "paper"
         }
        ],
        "legend": {
         "tracegroupgap": 0
        },
        "template": {
         "data": {
          "bar": [
           {
            "error_x": {
             "color": "rgb(36,36,36)"
            },
            "error_y": {
             "color": "rgb(36,36,36)"
            },
            "marker": {
             "line": {
              "color": "white",
              "width": 0.5
             },
             "pattern": {
              "fillmode": "overlay",
              "size": 10,
              "solidity": 0.2
             }
            },
            "type": "bar"
           }
          ],
          "barpolar": [
           {
            "marker": {
             "line": {
              "color": "white",
              "width": 0.5
             },
             "pattern": {
              "fillmode": "overlay",
              "size": 10,
              "solidity": 0.2
             }
            },
            "type": "barpolar"
           }
          ],
          "carpet": [
           {
            "aaxis": {
             "endlinecolor": "rgb(36,36,36)",
             "gridcolor": "white",
             "linecolor": "white",
             "minorgridcolor": "white",
             "startlinecolor": "rgb(36,36,36)"
            },
            "baxis": {
             "endlinecolor": "rgb(36,36,36)",
             "gridcolor": "white",
             "linecolor": "white",
             "minorgridcolor": "white",
             "startlinecolor": "rgb(36,36,36)"
            },
            "type": "carpet"
           }
          ],
          "choropleth": [
           {
            "colorbar": {
             "outlinewidth": 1,
             "tickcolor": "rgb(36,36,36)",
             "ticks": "outside"
            },
            "type": "choropleth"
           }
          ],
          "contour": [
           {
            "colorbar": {
             "outlinewidth": 1,
             "tickcolor": "rgb(36,36,36)",
             "ticks": "outside"
            },
            "colorscale": [
             [
              0,
              "#440154"
             ],
             [
              0.1111111111111111,
              "#482878"
             ],
             [
              0.2222222222222222,
              "#3e4989"
             ],
             [
              0.3333333333333333,
              "#31688e"
             ],
             [
              0.4444444444444444,
              "#26828e"
             ],
             [
              0.5555555555555556,
              "#1f9e89"
             ],
             [
              0.6666666666666666,
              "#35b779"
             ],
             [
              0.7777777777777778,
              "#6ece58"
             ],
             [
              0.8888888888888888,
              "#b5de2b"
             ],
             [
              1,
              "#fde725"
             ]
            ],
            "type": "contour"
           }
          ],
          "contourcarpet": [
           {
            "colorbar": {
             "outlinewidth": 1,
             "tickcolor": "rgb(36,36,36)",
             "ticks": "outside"
            },
            "type": "contourcarpet"
           }
          ],
          "heatmap": [
           {
            "colorbar": {
             "outlinewidth": 1,
             "tickcolor": "rgb(36,36,36)",
             "ticks": "outside"
            },
            "colorscale": [
             [
              0,
              "#440154"
             ],
             [
              0.1111111111111111,
              "#482878"
             ],
             [
              0.2222222222222222,
              "#3e4989"
             ],
             [
              0.3333333333333333,
              "#31688e"
             ],
             [
              0.4444444444444444,
              "#26828e"
             ],
             [
              0.5555555555555556,
              "#1f9e89"
             ],
             [
              0.6666666666666666,
              "#35b779"
             ],
             [
              0.7777777777777778,
              "#6ece58"
             ],
             [
              0.8888888888888888,
              "#b5de2b"
             ],
             [
              1,
              "#fde725"
             ]
            ],
            "type": "heatmap"
           }
          ],
          "heatmapgl": [
           {
            "colorbar": {
             "outlinewidth": 1,
             "tickcolor": "rgb(36,36,36)",
             "ticks": "outside"
            },
            "colorscale": [
             [
              0,
              "#440154"
             ],
             [
              0.1111111111111111,
              "#482878"
             ],
             [
              0.2222222222222222,
              "#3e4989"
             ],
             [
              0.3333333333333333,
              "#31688e"
             ],
             [
              0.4444444444444444,
              "#26828e"
             ],
             [
              0.5555555555555556,
              "#1f9e89"
             ],
             [
              0.6666666666666666,
              "#35b779"
             ],
             [
              0.7777777777777778,
              "#6ece58"
             ],
             [
              0.8888888888888888,
              "#b5de2b"
             ],
             [
              1,
              "#fde725"
             ]
            ],
            "type": "heatmapgl"
           }
          ],
          "histogram": [
           {
            "marker": {
             "line": {
              "color": "white",
              "width": 0.6
             }
            },
            "type": "histogram"
           }
          ],
          "histogram2d": [
           {
            "colorbar": {
             "outlinewidth": 1,
             "tickcolor": "rgb(36,36,36)",
             "ticks": "outside"
            },
            "colorscale": [
             [
              0,
              "#440154"
             ],
             [
              0.1111111111111111,
              "#482878"
             ],
             [
              0.2222222222222222,
              "#3e4989"
             ],
             [
              0.3333333333333333,
              "#31688e"
             ],
             [
              0.4444444444444444,
              "#26828e"
             ],
             [
              0.5555555555555556,
              "#1f9e89"
             ],
             [
              0.6666666666666666,
              "#35b779"
             ],
             [
              0.7777777777777778,
              "#6ece58"
             ],
             [
              0.8888888888888888,
              "#b5de2b"
             ],
             [
              1,
              "#fde725"
             ]
            ],
            "type": "histogram2d"
           }
          ],
          "histogram2dcontour": [
           {
            "colorbar": {
             "outlinewidth": 1,
             "tickcolor": "rgb(36,36,36)",
             "ticks": "outside"
            },
            "colorscale": [
             [
              0,
              "#440154"
             ],
             [
              0.1111111111111111,
              "#482878"
             ],
             [
              0.2222222222222222,
              "#3e4989"
             ],
             [
              0.3333333333333333,
              "#31688e"
             ],
             [
              0.4444444444444444,
              "#26828e"
             ],
             [
              0.5555555555555556,
              "#1f9e89"
             ],
             [
              0.6666666666666666,
              "#35b779"
             ],
             [
              0.7777777777777778,
              "#6ece58"
             ],
             [
              0.8888888888888888,
              "#b5de2b"
             ],
             [
              1,
              "#fde725"
             ]
            ],
            "type": "histogram2dcontour"
           }
          ],
          "mesh3d": [
           {
            "colorbar": {
             "outlinewidth": 1,
             "tickcolor": "rgb(36,36,36)",
             "ticks": "outside"
            },
            "type": "mesh3d"
           }
          ],
          "parcoords": [
           {
            "line": {
             "colorbar": {
              "outlinewidth": 1,
              "tickcolor": "rgb(36,36,36)",
              "ticks": "outside"
             }
            },
            "type": "parcoords"
           }
          ],
          "pie": [
           {
            "automargin": true,
            "type": "pie"
           }
          ],
          "scatter": [
           {
            "fillpattern": {
             "fillmode": "overlay",
             "size": 10,
             "solidity": 0.2
            },
            "type": "scatter"
           }
          ],
          "scatter3d": [
           {
            "line": {
             "colorbar": {
              "outlinewidth": 1,
              "tickcolor": "rgb(36,36,36)",
              "ticks": "outside"
             }
            },
            "marker": {
             "colorbar": {
              "outlinewidth": 1,
              "tickcolor": "rgb(36,36,36)",
              "ticks": "outside"
             }
            },
            "type": "scatter3d"
           }
          ],
          "scattercarpet": [
           {
            "marker": {
             "colorbar": {
              "outlinewidth": 1,
              "tickcolor": "rgb(36,36,36)",
              "ticks": "outside"
             }
            },
            "type": "scattercarpet"
           }
          ],
          "scattergeo": [
           {
            "marker": {
             "colorbar": {
              "outlinewidth": 1,
              "tickcolor": "rgb(36,36,36)",
              "ticks": "outside"
             }
            },
            "type": "scattergeo"
           }
          ],
          "scattergl": [
           {
            "marker": {
             "colorbar": {
              "outlinewidth": 1,
              "tickcolor": "rgb(36,36,36)",
              "ticks": "outside"
             }
            },
            "type": "scattergl"
           }
          ],
          "scattermapbox": [
           {
            "marker": {
             "colorbar": {
              "outlinewidth": 1,
              "tickcolor": "rgb(36,36,36)",
              "ticks": "outside"
             }
            },
            "type": "scattermapbox"
           }
          ],
          "scatterpolar": [
           {
            "marker": {
             "colorbar": {
              "outlinewidth": 1,
              "tickcolor": "rgb(36,36,36)",
              "ticks": "outside"
             }
            },
            "type": "scatterpolar"
           }
          ],
          "scatterpolargl": [
           {
            "marker": {
             "colorbar": {
              "outlinewidth": 1,
              "tickcolor": "rgb(36,36,36)",
              "ticks": "outside"
             }
            },
            "type": "scatterpolargl"
           }
          ],
          "scatterternary": [
           {
            "marker": {
             "colorbar": {
              "outlinewidth": 1,
              "tickcolor": "rgb(36,36,36)",
              "ticks": "outside"
             }
            },
            "type": "scatterternary"
           }
          ],
          "surface": [
           {
            "colorbar": {
             "outlinewidth": 1,
             "tickcolor": "rgb(36,36,36)",
             "ticks": "outside"
            },
            "colorscale": [
             [
              0,
              "#440154"
             ],
             [
              0.1111111111111111,
              "#482878"
             ],
             [
              0.2222222222222222,
              "#3e4989"
             ],
             [
              0.3333333333333333,
              "#31688e"
             ],
             [
              0.4444444444444444,
              "#26828e"
             ],
             [
              0.5555555555555556,
              "#1f9e89"
             ],
             [
              0.6666666666666666,
              "#35b779"
             ],
             [
              0.7777777777777778,
              "#6ece58"
             ],
             [
              0.8888888888888888,
              "#b5de2b"
             ],
             [
              1,
              "#fde725"
             ]
            ],
            "type": "surface"
           }
          ],
          "table": [
           {
            "cells": {
             "fill": {
              "color": "rgb(237,237,237)"
             },
             "line": {
              "color": "white"
             }
            },
            "header": {
             "fill": {
              "color": "rgb(217,217,217)"
             },
             "line": {
              "color": "white"
             }
            },
            "type": "table"
           }
          ]
         },
         "layout": {
          "annotationdefaults": {
           "arrowhead": 0,
           "arrowwidth": 1
          },
          "autotypenumbers": "strict",
          "coloraxis": {
           "colorbar": {
            "outlinewidth": 1,
            "tickcolor": "rgb(36,36,36)",
            "ticks": "outside"
           }
          },
          "colorscale": {
           "diverging": [
            [
             0,
             "rgb(103,0,31)"
            ],
            [
             0.1,
             "rgb(178,24,43)"
            ],
            [
             0.2,
             "rgb(214,96,77)"
            ],
            [
             0.3,
             "rgb(244,165,130)"
            ],
            [
             0.4,
             "rgb(253,219,199)"
            ],
            [
             0.5,
             "rgb(247,247,247)"
            ],
            [
             0.6,
             "rgb(209,229,240)"
            ],
            [
             0.7,
             "rgb(146,197,222)"
            ],
            [
             0.8,
             "rgb(67,147,195)"
            ],
            [
             0.9,
             "rgb(33,102,172)"
            ],
            [
             1,
             "rgb(5,48,97)"
            ]
           ],
           "sequential": [
            [
             0,
             "#440154"
            ],
            [
             0.1111111111111111,
             "#482878"
            ],
            [
             0.2222222222222222,
             "#3e4989"
            ],
            [
             0.3333333333333333,
             "#31688e"
            ],
            [
             0.4444444444444444,
             "#26828e"
            ],
            [
             0.5555555555555556,
             "#1f9e89"
            ],
            [
             0.6666666666666666,
             "#35b779"
            ],
            [
             0.7777777777777778,
             "#6ece58"
            ],
            [
             0.8888888888888888,
             "#b5de2b"
            ],
            [
             1,
             "#fde725"
            ]
           ],
           "sequentialminus": [
            [
             0,
             "#440154"
            ],
            [
             0.1111111111111111,
             "#482878"
            ],
            [
             0.2222222222222222,
             "#3e4989"
            ],
            [
             0.3333333333333333,
             "#31688e"
            ],
            [
             0.4444444444444444,
             "#26828e"
            ],
            [
             0.5555555555555556,
             "#1f9e89"
            ],
            [
             0.6666666666666666,
             "#35b779"
            ],
            [
             0.7777777777777778,
             "#6ece58"
            ],
            [
             0.8888888888888888,
             "#b5de2b"
            ],
            [
             1,
             "#fde725"
            ]
           ]
          },
          "colorway": [
           "#1F77B4",
           "#FF7F0E",
           "#2CA02C",
           "#D62728",
           "#9467BD",
           "#8C564B",
           "#E377C2",
           "#7F7F7F",
           "#BCBD22",
           "#17BECF"
          ],
          "font": {
           "color": "rgb(36,36,36)"
          },
          "geo": {
           "bgcolor": "white",
           "lakecolor": "white",
           "landcolor": "white",
           "showlakes": true,
           "showland": true,
           "subunitcolor": "white"
          },
          "hoverlabel": {
           "align": "left"
          },
          "hovermode": "closest",
          "mapbox": {
           "style": "light"
          },
          "paper_bgcolor": "white",
          "plot_bgcolor": "white",
          "polar": {
           "angularaxis": {
            "gridcolor": "rgb(232,232,232)",
            "linecolor": "rgb(36,36,36)",
            "showgrid": false,
            "showline": true,
            "ticks": "outside"
           },
           "bgcolor": "white",
           "radialaxis": {
            "gridcolor": "rgb(232,232,232)",
            "linecolor": "rgb(36,36,36)",
            "showgrid": false,
            "showline": true,
            "ticks": "outside"
           }
          },
          "scene": {
           "xaxis": {
            "backgroundcolor": "white",
            "gridcolor": "rgb(232,232,232)",
            "gridwidth": 2,
            "linecolor": "rgb(36,36,36)",
            "showbackground": true,
            "showgrid": false,
            "showline": true,
            "ticks": "outside",
            "zeroline": false,
            "zerolinecolor": "rgb(36,36,36)"
           },
           "yaxis": {
            "backgroundcolor": "white",
            "gridcolor": "rgb(232,232,232)",
            "gridwidth": 2,
            "linecolor": "rgb(36,36,36)",
            "showbackground": true,
            "showgrid": false,
            "showline": true,
            "ticks": "outside",
            "zeroline": false,
            "zerolinecolor": "rgb(36,36,36)"
           },
           "zaxis": {
            "backgroundcolor": "white",
            "gridcolor": "rgb(232,232,232)",
            "gridwidth": 2,
            "linecolor": "rgb(36,36,36)",
            "showbackground": true,
            "showgrid": false,
            "showline": true,
            "ticks": "outside",
            "zeroline": false,
            "zerolinecolor": "rgb(36,36,36)"
           }
          },
          "shapedefaults": {
           "fillcolor": "black",
           "line": {
            "width": 0
           },
           "opacity": 0.3
          },
          "ternary": {
           "aaxis": {
            "gridcolor": "rgb(232,232,232)",
            "linecolor": "rgb(36,36,36)",
            "showgrid": false,
            "showline": true,
            "ticks": "outside"
           },
           "baxis": {
            "gridcolor": "rgb(232,232,232)",
            "linecolor": "rgb(36,36,36)",
            "showgrid": false,
            "showline": true,
            "ticks": "outside"
           },
           "bgcolor": "white",
           "caxis": {
            "gridcolor": "rgb(232,232,232)",
            "linecolor": "rgb(36,36,36)",
            "showgrid": false,
            "showline": true,
            "ticks": "outside"
           }
          },
          "title": {
           "x": 0.05
          },
          "xaxis": {
           "automargin": true,
           "gridcolor": "rgb(232,232,232)",
           "linecolor": "rgb(36,36,36)",
           "showgrid": false,
           "showline": true,
           "ticks": "outside",
           "title": {
            "standoff": 15
           },
           "zeroline": false,
           "zerolinecolor": "rgb(36,36,36)"
          },
          "yaxis": {
           "automargin": true,
           "gridcolor": "rgb(232,232,232)",
           "linecolor": "rgb(36,36,36)",
           "showgrid": false,
           "showline": true,
           "ticks": "outside",
           "title": {
            "standoff": 15
           },
           "zeroline": false,
           "zerolinecolor": "rgb(36,36,36)"
          }
         }
        },
        "title": {
         "text": "Time Duration Per Process (all inputs used)"
        },
        "xaxis": {
         "anchor": "y",
         "domain": [
          0,
          1
         ],
         "title": {
          "text": "Step"
         }
        },
        "yaxis": {
         "anchor": "x",
         "domain": [
          0,
          1
         ],
         "title": {
          "text": "Time Duration (Sec)"
         }
        }
       }
      }
     },
     "metadata": {},
     "output_type": "display_data"
    }
   ],
   "source": [
    "# plot into line graph (memory usage vs step process)\n",
    "\n",
    "# chaing the order to the process to correctly align with cp_process\n",
    "correct_order = [\n",
    "    \"aggregate_cells\",\n",
    "    \"annotate\",\n",
    "    \"normalize\",\n",
    "    \"feature_select\",\n",
    "    \"consensus\",\n",
    "]\n",
    "plot_df = step_df[step_df[\"process_name\"].isin(correct_order)]\n",
    "plot_df = plot_df.set_index(\"process_name\").loc[correct_order].reset_index()\n",
    "plot_df\n",
    "\n",
    "# Create a line graph for peak memory\n",
    "annotations = [\n",
    "    go.layout.Annotation(\n",
    "        text=f\"Total run time: {round(step_df['time_duration'].sum()/60, 2)}\"\n",
    "    )\n",
    "]\n",
    "\n",
    "fig1 = px.line(\n",
    "    plot_df,\n",
    "    x=\"process_name\",\n",
    "    y=\"peak_memory\",\n",
    "    title=\"Peak Memory Per Process (all inputs used)\",\n",
    "    labels={\"process_name\": \"Step\", \"peak_memory\": \"Peak Memory (MB)\"},\n",
    "    template=\"simple_white\",\n",
    ")\n",
    "fig1.update_traces(line=dict(color=\"red\"))\n",
    "fig1.add_annotation(\n",
    "    text=f\"<b>Peak memory usage: {round(step_df['peak_memory'].max(), 2)} MB</b>\",\n",
    "    xref=\"paper\",\n",
    "    yref=\"paper\",\n",
    "    x=0.5,\n",
    "    y=0.9,\n",
    "    showarrow=False,\n",
    ")\n",
    "\n",
    "# Create a line graph for time duration\n",
    "fig2 = px.line(\n",
    "    plot_df,\n",
    "    x=\"process_name\",\n",
    "    y=\"time_duration\",\n",
    "    title=\"Time Duration Per Process (all inputs used)\",\n",
    "    labels={\"process_name\": \"Step\", \"time_duration\": \"Time Duration (Sec)\"},\n",
    "    template=\"simple_white\",\n",
    ")\n",
    "fig2.update_traces(line=dict(color=\"blue\"))\n",
    "fig2.add_annotation(\n",
    "    text=f\"<b>Total run time: {round(step_df['time_duration'].sum()/60, 2)} min</b>\",\n",
    "    xref=\"paper\",\n",
    "    yref=\"paper\",\n",
    "    x=0.5,\n",
    "    y=0.9,\n",
    "    showarrow=False,\n",
    ")\n",
    "\n",
    "# display line plots\n",
    "fig1.show()\n",
    "fig2.show()\n",
    "\n",
    "# write out images\n",
    "fig1.write_image(\"images/peak_memory_per_process.png\")\n",
    "fig2.write_image(\"images/time_duration_per_process.png\")"
   ]
  },
  {
   "cell_type": "markdown",
   "metadata": {},
   "source": [
    "> **Figure 2**: This figure provides an insight into the performance of the `cp_process` in CytoSnake, considering memory usage and run time for each step. The top graph depicts the memory usage per step using all available inputs, with the peak memory usage remaining under 4GB. The bottom graph displays the total runtime per step for the entire workflow, revealing that the `aggregation` step consumes the majority of the execution time. "
   ]
  },
  {
   "cell_type": "code",
   "execution_count": 10,
   "metadata": {},
   "outputs": [
    {
     "data": {
      "text/html": [
       "<div>\n",
       "<style scoped>\n",
       "    .dataframe tbody tr th:only-of-type {\n",
       "        vertical-align: middle;\n",
       "    }\n",
       "\n",
       "    .dataframe tbody tr th {\n",
       "        vertical-align: top;\n",
       "    }\n",
       "\n",
       "    .dataframe thead th {\n",
       "        text-align: right;\n",
       "    }\n",
       "</style>\n",
       "<table border=\"1\" class=\"dataframe\">\n",
       "  <thead>\n",
       "    <tr style=\"text-align: right;\">\n",
       "      <th></th>\n",
       "      <th>input_name</th>\n",
       "      <th>aggregate_cells</th>\n",
       "      <th>annotate</th>\n",
       "      <th>normalize</th>\n",
       "      <th>feature_select</th>\n",
       "      <th>consensus</th>\n",
       "      <th>file_size</th>\n",
       "    </tr>\n",
       "  </thead>\n",
       "  <tbody>\n",
       "    <tr>\n",
       "      <th>0</th>\n",
       "      <td>SQ00014610</td>\n",
       "      <td>1293.302</td>\n",
       "      <td>2.157</td>\n",
       "      <td>2.485</td>\n",
       "      <td>16.029</td>\n",
       "      <td>0.997</td>\n",
       "      <td>21762.960</td>\n",
       "    </tr>\n",
       "    <tr>\n",
       "      <th>1</th>\n",
       "      <td>SQ00014611</td>\n",
       "      <td>1275.635</td>\n",
       "      <td>2.217</td>\n",
       "      <td>2.471</td>\n",
       "      <td>16.029</td>\n",
       "      <td>0.997</td>\n",
       "      <td>21277.399</td>\n",
       "    </tr>\n",
       "    <tr>\n",
       "      <th>2</th>\n",
       "      <td>SQ00014612</td>\n",
       "      <td>1214.874</td>\n",
       "      <td>2.257</td>\n",
       "      <td>2.471</td>\n",
       "      <td>16.029</td>\n",
       "      <td>0.997</td>\n",
       "      <td>21060.905</td>\n",
       "    </tr>\n",
       "    <tr>\n",
       "      <th>3</th>\n",
       "      <td>SQ00014613</td>\n",
       "      <td>709.276</td>\n",
       "      <td>2.269</td>\n",
       "      <td>2.505</td>\n",
       "      <td>16.029</td>\n",
       "      <td>0.997</td>\n",
       "      <td>10208.352</td>\n",
       "    </tr>\n",
       "    <tr>\n",
       "      <th>4</th>\n",
       "      <td>SQ00014614</td>\n",
       "      <td>749.335</td>\n",
       "      <td>2.248</td>\n",
       "      <td>2.486</td>\n",
       "      <td>16.029</td>\n",
       "      <td>0.997</td>\n",
       "      <td>11135.101</td>\n",
       "    </tr>\n",
       "    <tr>\n",
       "      <th>5</th>\n",
       "      <td>SQ00014615</td>\n",
       "      <td>729.192</td>\n",
       "      <td>2.260</td>\n",
       "      <td>2.432</td>\n",
       "      <td>16.029</td>\n",
       "      <td>0.997</td>\n",
       "      <td>11146.898</td>\n",
       "    </tr>\n",
       "    <tr>\n",
       "      <th>6</th>\n",
       "      <td>SQ00014616</td>\n",
       "      <td>844.471</td>\n",
       "      <td>2.266</td>\n",
       "      <td>2.483</td>\n",
       "      <td>16.029</td>\n",
       "      <td>0.997</td>\n",
       "      <td>11995.028</td>\n",
       "    </tr>\n",
       "    <tr>\n",
       "      <th>7</th>\n",
       "      <td>SQ00014617</td>\n",
       "      <td>976.701</td>\n",
       "      <td>2.258</td>\n",
       "      <td>2.467</td>\n",
       "      <td>16.029</td>\n",
       "      <td>0.997</td>\n",
       "      <td>12456.449</td>\n",
       "    </tr>\n",
       "    <tr>\n",
       "      <th>8</th>\n",
       "      <td>SQ00014618</td>\n",
       "      <td>900.026</td>\n",
       "      <td>2.267</td>\n",
       "      <td>2.480</td>\n",
       "      <td>16.029</td>\n",
       "      <td>0.997</td>\n",
       "      <td>12144.017</td>\n",
       "    </tr>\n",
       "  </tbody>\n",
       "</table>\n",
       "</div>"
      ],
      "text/plain": [
       "   input_name  aggregate_cells  annotate  normalize  feature_select  \\\n",
       "0  SQ00014610         1293.302     2.157      2.485          16.029   \n",
       "1  SQ00014611         1275.635     2.217      2.471          16.029   \n",
       "2  SQ00014612         1214.874     2.257      2.471          16.029   \n",
       "3  SQ00014613          709.276     2.269      2.505          16.029   \n",
       "4  SQ00014614          749.335     2.248      2.486          16.029   \n",
       "5  SQ00014615          729.192     2.260      2.432          16.029   \n",
       "6  SQ00014616          844.471     2.266      2.483          16.029   \n",
       "7  SQ00014617          976.701     2.258      2.467          16.029   \n",
       "8  SQ00014618          900.026     2.267      2.480          16.029   \n",
       "\n",
       "   consensus  file_size  \n",
       "0      0.997  21762.960  \n",
       "1      0.997  21277.399  \n",
       "2      0.997  21060.905  \n",
       "3      0.997  10208.352  \n",
       "4      0.997  11135.101  \n",
       "5      0.997  11146.898  \n",
       "6      0.997  11995.028  \n",
       "7      0.997  12456.449  \n",
       "8      0.997  12144.017  "
      ]
     },
     "execution_count": 10,
     "metadata": {},
     "output_type": "execute_result"
    }
   ],
   "source": [
    "# generating the multi line plots that represents runtime per input in each step\n",
    "def clean_script_name(script_name: str) -> str:\n",
    "    return script_name.split(\".\")[0]\n",
    "\n",
    "\n",
    "# Create the plot with Plotly Express\n",
    "multi_line_df = benchmark_df[\n",
    "    [\"input_data_name\", \"script\", \"time_duration\", \"file_size\"]\n",
    "]\n",
    "\n",
    "single_input = multi_line_df.loc[multi_line_df[\"file_size\"].isnull()]\n",
    "single_input[\"script\"] = single_input[\"script\"].apply(clean_script_name)\n",
    "\n",
    "parallel_input = multi_line_df.loc[~multi_line_df[\"file_size\"].isnull()]\n",
    "parallel_input[\"script\"] = parallel_input[\"script\"].apply(clean_script_name)\n",
    "group_par_dfs = parallel_input.groupby(by=[\"input_data_name\"])\n",
    "\n",
    "\n",
    "columns = [\"input_name\", \"aggregate_cells\", \"annotate\", \"normalize\", \"file_size\"]\n",
    "raw_data = []\n",
    "\n",
    "for name, df in group_par_dfs:\n",
    "    # Create a new column with the sorting order\n",
    "    custom_order = [\"aggregate_cells\", \"annotate\", \"normalize\"]\n",
    "    df[\"sorting_order\"] = df[\"script\"].apply(lambda x: custom_order.index(x))\n",
    "\n",
    "    # Sort the DataFrame based on the sorting order\n",
    "    df = df.sort_values(by=\"sorting_order\", ascending=True)\n",
    "\n",
    "    # Drop the temporary sorting_order column if needed\n",
    "    df = df.drop(columns=\"sorting_order\")\n",
    "\n",
    "    name = [name[0]]\n",
    "    time_duration = [time for time in df[\"time_duration\"]]\n",
    "    file_size = [df[\"file_size\"].max()]\n",
    "\n",
    "    raw_data.append(name + time_duration + file_size)\n",
    "\n",
    "\n",
    "# minor edits to add array based inputs for example using all plates an a single input\n",
    "temp_df = pd.DataFrame(raw_data, columns=columns)\n",
    "all_steps_df = temp_df[[\"input_name\", \"aggregate_cells\", \"annotate\", \"normalize\"]]\n",
    "all_steps_df[\"feature_select\"] = single_input[\n",
    "    single_input[\"script\"].isin([\"feature_select\"])\n",
    "][\"time_duration\"].iloc[0]\n",
    "all_steps_df[\"consensus\"] = single_input[single_input[\"script\"].isin([\"consensus\"])][\n",
    "    \"time_duration\"\n",
    "].iloc[0]\n",
    "all_steps_df[\"file_size\"] = temp_df[\"file_size\"]\n",
    "all_steps_df.to_csv(\"runtime_per_input_each_step.csv\", index=False)\n",
    "all_steps_df"
   ]
  },
  {
   "cell_type": "code",
   "execution_count": 11,
   "metadata": {},
   "outputs": [
    {
     "data": {
      "application/vnd.plotly.v1+json": {
       "config": {
        "plotlyServerURL": "https://plot.ly"
       },
       "data": [
        {
         "line": {
          "color": "rgb(3, 35, 51)"
         },
         "mode": "lines+markers",
         "name": "SQ00014610",
         "type": "scatter",
         "x": [
          "aggregate_cells",
          "annotate",
          "normalize",
          "feature_select",
          "consensus"
         ],
         "y": [
          1293.302,
          2.157,
          2.485,
          16.029,
          0.997
         ]
        },
        {
         "line": {
          "color": "rgb(13, 48, 100)"
         },
         "mode": "lines+markers",
         "name": "SQ00014611",
         "type": "scatter",
         "x": [
          "aggregate_cells",
          "annotate",
          "normalize",
          "feature_select",
          "consensus"
         ],
         "y": [
          1275.635,
          2.217,
          2.471,
          16.029,
          0.997
         ]
        },
        {
         "line": {
          "color": "rgb(53, 50, 155)"
         },
         "mode": "lines+markers",
         "name": "SQ00014612",
         "type": "scatter",
         "x": [
          "aggregate_cells",
          "annotate",
          "normalize",
          "feature_select",
          "consensus"
         ],
         "y": [
          1214.874,
          2.257,
          2.471,
          16.029,
          0.997
         ]
        },
        {
         "line": {
          "color": "rgb(126, 77, 143)"
         },
         "mode": "lines+markers",
         "name": "SQ00014613",
         "type": "scatter",
         "x": [
          "aggregate_cells",
          "annotate",
          "normalize",
          "feature_select",
          "consensus"
         ],
         "y": [
          709.276,
          2.269,
          2.505,
          16.029,
          0.997
         ]
        },
        {
         "line": {
          "color": "rgb(158, 89, 135)"
         },
         "mode": "lines+markers",
         "name": "SQ00014614",
         "type": "scatter",
         "x": [
          "aggregate_cells",
          "annotate",
          "normalize",
          "feature_select",
          "consensus"
         ],
         "y": [
          749.335,
          2.248,
          2.486,
          16.029,
          0.997
         ]
        },
        {
         "line": {
          "color": "rgb(193, 100, 121)"
         },
         "mode": "lines+markers",
         "name": "SQ00014615",
         "type": "scatter",
         "x": [
          "aggregate_cells",
          "annotate",
          "normalize",
          "feature_select",
          "consensus"
         ],
         "y": [
          729.192,
          2.26,
          2.432,
          16.029,
          0.997
         ]
        },
        {
         "line": {
          "color": "rgb(246, 139, 69)"
         },
         "mode": "lines+markers",
         "name": "SQ00014616",
         "type": "scatter",
         "x": [
          "aggregate_cells",
          "annotate",
          "normalize",
          "feature_select",
          "consensus"
         ],
         "y": [
          844.471,
          2.266,
          2.483,
          16.029,
          0.997
         ]
        },
        {
         "line": {
          "color": "rgb(251, 173, 60)"
         },
         "mode": "lines+markers",
         "name": "SQ00014617",
         "type": "scatter",
         "x": [
          "aggregate_cells",
          "annotate",
          "normalize",
          "feature_select",
          "consensus"
         ],
         "y": [
          976.701,
          2.258,
          2.467,
          16.029,
          0.997
         ]
        },
        {
         "line": {
          "color": "rgb(231, 250, 90)"
         },
         "mode": "lines+markers",
         "name": "SQ00014618",
         "type": "scatter",
         "x": [
          "aggregate_cells",
          "annotate",
          "normalize",
          "feature_select",
          "consensus"
         ],
         "y": [
          900.026,
          2.267,
          2.48,
          16.029,
          0.997
         ]
        }
       ],
       "layout": {
        "template": {
         "data": {
          "bar": [
           {
            "error_x": {
             "color": "rgb(36,36,36)"
            },
            "error_y": {
             "color": "rgb(36,36,36)"
            },
            "marker": {
             "line": {
              "color": "white",
              "width": 0.5
             },
             "pattern": {
              "fillmode": "overlay",
              "size": 10,
              "solidity": 0.2
             }
            },
            "type": "bar"
           }
          ],
          "barpolar": [
           {
            "marker": {
             "line": {
              "color": "white",
              "width": 0.5
             },
             "pattern": {
              "fillmode": "overlay",
              "size": 10,
              "solidity": 0.2
             }
            },
            "type": "barpolar"
           }
          ],
          "carpet": [
           {
            "aaxis": {
             "endlinecolor": "rgb(36,36,36)",
             "gridcolor": "white",
             "linecolor": "white",
             "minorgridcolor": "white",
             "startlinecolor": "rgb(36,36,36)"
            },
            "baxis": {
             "endlinecolor": "rgb(36,36,36)",
             "gridcolor": "white",
             "linecolor": "white",
             "minorgridcolor": "white",
             "startlinecolor": "rgb(36,36,36)"
            },
            "type": "carpet"
           }
          ],
          "choropleth": [
           {
            "colorbar": {
             "outlinewidth": 1,
             "tickcolor": "rgb(36,36,36)",
             "ticks": "outside"
            },
            "type": "choropleth"
           }
          ],
          "contour": [
           {
            "colorbar": {
             "outlinewidth": 1,
             "tickcolor": "rgb(36,36,36)",
             "ticks": "outside"
            },
            "colorscale": [
             [
              0,
              "#440154"
             ],
             [
              0.1111111111111111,
              "#482878"
             ],
             [
              0.2222222222222222,
              "#3e4989"
             ],
             [
              0.3333333333333333,
              "#31688e"
             ],
             [
              0.4444444444444444,
              "#26828e"
             ],
             [
              0.5555555555555556,
              "#1f9e89"
             ],
             [
              0.6666666666666666,
              "#35b779"
             ],
             [
              0.7777777777777778,
              "#6ece58"
             ],
             [
              0.8888888888888888,
              "#b5de2b"
             ],
             [
              1,
              "#fde725"
             ]
            ],
            "type": "contour"
           }
          ],
          "contourcarpet": [
           {
            "colorbar": {
             "outlinewidth": 1,
             "tickcolor": "rgb(36,36,36)",
             "ticks": "outside"
            },
            "type": "contourcarpet"
           }
          ],
          "heatmap": [
           {
            "colorbar": {
             "outlinewidth": 1,
             "tickcolor": "rgb(36,36,36)",
             "ticks": "outside"
            },
            "colorscale": [
             [
              0,
              "#440154"
             ],
             [
              0.1111111111111111,
              "#482878"
             ],
             [
              0.2222222222222222,
              "#3e4989"
             ],
             [
              0.3333333333333333,
              "#31688e"
             ],
             [
              0.4444444444444444,
              "#26828e"
             ],
             [
              0.5555555555555556,
              "#1f9e89"
             ],
             [
              0.6666666666666666,
              "#35b779"
             ],
             [
              0.7777777777777778,
              "#6ece58"
             ],
             [
              0.8888888888888888,
              "#b5de2b"
             ],
             [
              1,
              "#fde725"
             ]
            ],
            "type": "heatmap"
           }
          ],
          "heatmapgl": [
           {
            "colorbar": {
             "outlinewidth": 1,
             "tickcolor": "rgb(36,36,36)",
             "ticks": "outside"
            },
            "colorscale": [
             [
              0,
              "#440154"
             ],
             [
              0.1111111111111111,
              "#482878"
             ],
             [
              0.2222222222222222,
              "#3e4989"
             ],
             [
              0.3333333333333333,
              "#31688e"
             ],
             [
              0.4444444444444444,
              "#26828e"
             ],
             [
              0.5555555555555556,
              "#1f9e89"
             ],
             [
              0.6666666666666666,
              "#35b779"
             ],
             [
              0.7777777777777778,
              "#6ece58"
             ],
             [
              0.8888888888888888,
              "#b5de2b"
             ],
             [
              1,
              "#fde725"
             ]
            ],
            "type": "heatmapgl"
           }
          ],
          "histogram": [
           {
            "marker": {
             "line": {
              "color": "white",
              "width": 0.6
             }
            },
            "type": "histogram"
           }
          ],
          "histogram2d": [
           {
            "colorbar": {
             "outlinewidth": 1,
             "tickcolor": "rgb(36,36,36)",
             "ticks": "outside"
            },
            "colorscale": [
             [
              0,
              "#440154"
             ],
             [
              0.1111111111111111,
              "#482878"
             ],
             [
              0.2222222222222222,
              "#3e4989"
             ],
             [
              0.3333333333333333,
              "#31688e"
             ],
             [
              0.4444444444444444,
              "#26828e"
             ],
             [
              0.5555555555555556,
              "#1f9e89"
             ],
             [
              0.6666666666666666,
              "#35b779"
             ],
             [
              0.7777777777777778,
              "#6ece58"
             ],
             [
              0.8888888888888888,
              "#b5de2b"
             ],
             [
              1,
              "#fde725"
             ]
            ],
            "type": "histogram2d"
           }
          ],
          "histogram2dcontour": [
           {
            "colorbar": {
             "outlinewidth": 1,
             "tickcolor": "rgb(36,36,36)",
             "ticks": "outside"
            },
            "colorscale": [
             [
              0,
              "#440154"
             ],
             [
              0.1111111111111111,
              "#482878"
             ],
             [
              0.2222222222222222,
              "#3e4989"
             ],
             [
              0.3333333333333333,
              "#31688e"
             ],
             [
              0.4444444444444444,
              "#26828e"
             ],
             [
              0.5555555555555556,
              "#1f9e89"
             ],
             [
              0.6666666666666666,
              "#35b779"
             ],
             [
              0.7777777777777778,
              "#6ece58"
             ],
             [
              0.8888888888888888,
              "#b5de2b"
             ],
             [
              1,
              "#fde725"
             ]
            ],
            "type": "histogram2dcontour"
           }
          ],
          "mesh3d": [
           {
            "colorbar": {
             "outlinewidth": 1,
             "tickcolor": "rgb(36,36,36)",
             "ticks": "outside"
            },
            "type": "mesh3d"
           }
          ],
          "parcoords": [
           {
            "line": {
             "colorbar": {
              "outlinewidth": 1,
              "tickcolor": "rgb(36,36,36)",
              "ticks": "outside"
             }
            },
            "type": "parcoords"
           }
          ],
          "pie": [
           {
            "automargin": true,
            "type": "pie"
           }
          ],
          "scatter": [
           {
            "fillpattern": {
             "fillmode": "overlay",
             "size": 10,
             "solidity": 0.2
            },
            "type": "scatter"
           }
          ],
          "scatter3d": [
           {
            "line": {
             "colorbar": {
              "outlinewidth": 1,
              "tickcolor": "rgb(36,36,36)",
              "ticks": "outside"
             }
            },
            "marker": {
             "colorbar": {
              "outlinewidth": 1,
              "tickcolor": "rgb(36,36,36)",
              "ticks": "outside"
             }
            },
            "type": "scatter3d"
           }
          ],
          "scattercarpet": [
           {
            "marker": {
             "colorbar": {
              "outlinewidth": 1,
              "tickcolor": "rgb(36,36,36)",
              "ticks": "outside"
             }
            },
            "type": "scattercarpet"
           }
          ],
          "scattergeo": [
           {
            "marker": {
             "colorbar": {
              "outlinewidth": 1,
              "tickcolor": "rgb(36,36,36)",
              "ticks": "outside"
             }
            },
            "type": "scattergeo"
           }
          ],
          "scattergl": [
           {
            "marker": {
             "colorbar": {
              "outlinewidth": 1,
              "tickcolor": "rgb(36,36,36)",
              "ticks": "outside"
             }
            },
            "type": "scattergl"
           }
          ],
          "scattermapbox": [
           {
            "marker": {
             "colorbar": {
              "outlinewidth": 1,
              "tickcolor": "rgb(36,36,36)",
              "ticks": "outside"
             }
            },
            "type": "scattermapbox"
           }
          ],
          "scatterpolar": [
           {
            "marker": {
             "colorbar": {
              "outlinewidth": 1,
              "tickcolor": "rgb(36,36,36)",
              "ticks": "outside"
             }
            },
            "type": "scatterpolar"
           }
          ],
          "scatterpolargl": [
           {
            "marker": {
             "colorbar": {
              "outlinewidth": 1,
              "tickcolor": "rgb(36,36,36)",
              "ticks": "outside"
             }
            },
            "type": "scatterpolargl"
           }
          ],
          "scatterternary": [
           {
            "marker": {
             "colorbar": {
              "outlinewidth": 1,
              "tickcolor": "rgb(36,36,36)",
              "ticks": "outside"
             }
            },
            "type": "scatterternary"
           }
          ],
          "surface": [
           {
            "colorbar": {
             "outlinewidth": 1,
             "tickcolor": "rgb(36,36,36)",
             "ticks": "outside"
            },
            "colorscale": [
             [
              0,
              "#440154"
             ],
             [
              0.1111111111111111,
              "#482878"
             ],
             [
              0.2222222222222222,
              "#3e4989"
             ],
             [
              0.3333333333333333,
              "#31688e"
             ],
             [
              0.4444444444444444,
              "#26828e"
             ],
             [
              0.5555555555555556,
              "#1f9e89"
             ],
             [
              0.6666666666666666,
              "#35b779"
             ],
             [
              0.7777777777777778,
              "#6ece58"
             ],
             [
              0.8888888888888888,
              "#b5de2b"
             ],
             [
              1,
              "#fde725"
             ]
            ],
            "type": "surface"
           }
          ],
          "table": [
           {
            "cells": {
             "fill": {
              "color": "rgb(237,237,237)"
             },
             "line": {
              "color": "white"
             }
            },
            "header": {
             "fill": {
              "color": "rgb(217,217,217)"
             },
             "line": {
              "color": "white"
             }
            },
            "type": "table"
           }
          ]
         },
         "layout": {
          "annotationdefaults": {
           "arrowhead": 0,
           "arrowwidth": 1
          },
          "autotypenumbers": "strict",
          "coloraxis": {
           "colorbar": {
            "outlinewidth": 1,
            "tickcolor": "rgb(36,36,36)",
            "ticks": "outside"
           }
          },
          "colorscale": {
           "diverging": [
            [
             0,
             "rgb(103,0,31)"
            ],
            [
             0.1,
             "rgb(178,24,43)"
            ],
            [
             0.2,
             "rgb(214,96,77)"
            ],
            [
             0.3,
             "rgb(244,165,130)"
            ],
            [
             0.4,
             "rgb(253,219,199)"
            ],
            [
             0.5,
             "rgb(247,247,247)"
            ],
            [
             0.6,
             "rgb(209,229,240)"
            ],
            [
             0.7,
             "rgb(146,197,222)"
            ],
            [
             0.8,
             "rgb(67,147,195)"
            ],
            [
             0.9,
             "rgb(33,102,172)"
            ],
            [
             1,
             "rgb(5,48,97)"
            ]
           ],
           "sequential": [
            [
             0,
             "#440154"
            ],
            [
             0.1111111111111111,
             "#482878"
            ],
            [
             0.2222222222222222,
             "#3e4989"
            ],
            [
             0.3333333333333333,
             "#31688e"
            ],
            [
             0.4444444444444444,
             "#26828e"
            ],
            [
             0.5555555555555556,
             "#1f9e89"
            ],
            [
             0.6666666666666666,
             "#35b779"
            ],
            [
             0.7777777777777778,
             "#6ece58"
            ],
            [
             0.8888888888888888,
             "#b5de2b"
            ],
            [
             1,
             "#fde725"
            ]
           ],
           "sequentialminus": [
            [
             0,
             "#440154"
            ],
            [
             0.1111111111111111,
             "#482878"
            ],
            [
             0.2222222222222222,
             "#3e4989"
            ],
            [
             0.3333333333333333,
             "#31688e"
            ],
            [
             0.4444444444444444,
             "#26828e"
            ],
            [
             0.5555555555555556,
             "#1f9e89"
            ],
            [
             0.6666666666666666,
             "#35b779"
            ],
            [
             0.7777777777777778,
             "#6ece58"
            ],
            [
             0.8888888888888888,
             "#b5de2b"
            ],
            [
             1,
             "#fde725"
            ]
           ]
          },
          "colorway": [
           "#1F77B4",
           "#FF7F0E",
           "#2CA02C",
           "#D62728",
           "#9467BD",
           "#8C564B",
           "#E377C2",
           "#7F7F7F",
           "#BCBD22",
           "#17BECF"
          ],
          "font": {
           "color": "rgb(36,36,36)"
          },
          "geo": {
           "bgcolor": "white",
           "lakecolor": "white",
           "landcolor": "white",
           "showlakes": true,
           "showland": true,
           "subunitcolor": "white"
          },
          "hoverlabel": {
           "align": "left"
          },
          "hovermode": "closest",
          "mapbox": {
           "style": "light"
          },
          "paper_bgcolor": "white",
          "plot_bgcolor": "white",
          "polar": {
           "angularaxis": {
            "gridcolor": "rgb(232,232,232)",
            "linecolor": "rgb(36,36,36)",
            "showgrid": false,
            "showline": true,
            "ticks": "outside"
           },
           "bgcolor": "white",
           "radialaxis": {
            "gridcolor": "rgb(232,232,232)",
            "linecolor": "rgb(36,36,36)",
            "showgrid": false,
            "showline": true,
            "ticks": "outside"
           }
          },
          "scene": {
           "xaxis": {
            "backgroundcolor": "white",
            "gridcolor": "rgb(232,232,232)",
            "gridwidth": 2,
            "linecolor": "rgb(36,36,36)",
            "showbackground": true,
            "showgrid": false,
            "showline": true,
            "ticks": "outside",
            "zeroline": false,
            "zerolinecolor": "rgb(36,36,36)"
           },
           "yaxis": {
            "backgroundcolor": "white",
            "gridcolor": "rgb(232,232,232)",
            "gridwidth": 2,
            "linecolor": "rgb(36,36,36)",
            "showbackground": true,
            "showgrid": false,
            "showline": true,
            "ticks": "outside",
            "zeroline": false,
            "zerolinecolor": "rgb(36,36,36)"
           },
           "zaxis": {
            "backgroundcolor": "white",
            "gridcolor": "rgb(232,232,232)",
            "gridwidth": 2,
            "linecolor": "rgb(36,36,36)",
            "showbackground": true,
            "showgrid": false,
            "showline": true,
            "ticks": "outside",
            "zeroline": false,
            "zerolinecolor": "rgb(36,36,36)"
           }
          },
          "shapedefaults": {
           "fillcolor": "black",
           "line": {
            "width": 0
           },
           "opacity": 0.3
          },
          "ternary": {
           "aaxis": {
            "gridcolor": "rgb(232,232,232)",
            "linecolor": "rgb(36,36,36)",
            "showgrid": false,
            "showline": true,
            "ticks": "outside"
           },
           "baxis": {
            "gridcolor": "rgb(232,232,232)",
            "linecolor": "rgb(36,36,36)",
            "showgrid": false,
            "showline": true,
            "ticks": "outside"
           },
           "bgcolor": "white",
           "caxis": {
            "gridcolor": "rgb(232,232,232)",
            "linecolor": "rgb(36,36,36)",
            "showgrid": false,
            "showline": true,
            "ticks": "outside"
           }
          },
          "title": {
           "x": 0.05
          },
          "xaxis": {
           "automargin": true,
           "gridcolor": "rgb(232,232,232)",
           "linecolor": "rgb(36,36,36)",
           "showgrid": false,
           "showline": true,
           "ticks": "outside",
           "title": {
            "standoff": 15
           },
           "zeroline": false,
           "zerolinecolor": "rgb(36,36,36)"
          },
          "yaxis": {
           "automargin": true,
           "gridcolor": "rgb(232,232,232)",
           "linecolor": "rgb(36,36,36)",
           "showgrid": false,
           "showline": true,
           "ticks": "outside",
           "title": {
            "standoff": 15
           },
           "zeroline": false,
           "zerolinecolor": "rgb(36,36,36)"
          }
         }
        },
        "title": {
         "text": "Time Duration Per Input Each Step"
        },
        "xaxis": {
         "title": {
          "text": "Steps"
         }
        },
        "yaxis": {
         "title": {
          "text": "Time Duration (sec)"
         }
        }
       }
      }
     },
     "metadata": {},
     "output_type": "display_data"
    }
   ],
   "source": [
    "# Assign colors corresponding to file size\n",
    "colors = np.linspace(0, 1, len(all_steps_df))\n",
    "color_scale = (\n",
    "    px.colors.cmocean.thermal\n",
    ")  # You can choose another color scale if you prefer\n",
    "\n",
    "# Create a Plotly figure with a line plot for each row and color mapping\n",
    "fig = go.Figure()\n",
    "\n",
    "for index, row in all_steps_df.iterrows():\n",
    "    color = color_scale[int(colors[index] * (len(color_scale) - 1))]\n",
    "    fig.add_trace(\n",
    "        go.Scatter(\n",
    "            x=all_steps_df.columns[\n",
    "                1:-1\n",
    "            ],  # Exclude \"input_name\" and \"file_size\" columns from X values\n",
    "            y=row[1:-1],  # Exclude \"input_name\" and \"file_size\" values from Y\n",
    "            mode=\"lines+markers\",\n",
    "            name=row[\"input_name\"],\n",
    "            line=dict(color=color),\n",
    "        )\n",
    "    )\n",
    "\n",
    "# Customize the layout\n",
    "fig.update_layout(\n",
    "    title=\"Time Duration Per Input Each Step\",\n",
    "    xaxis_title=\"Steps\",\n",
    "    yaxis_title=\"Time Duration (sec)\",\n",
    "    template=\"simple_white\",\n",
    ")\n",
    "\n",
    "# Show the plot\n",
    "fig.show()\n",
    "fig.write_image(\"images/time_durration_per_input_each_step.png\")"
   ]
  },
  {
   "cell_type": "markdown",
   "metadata": {},
   "source": [
    "> **Figure 3** : Multiline plots representing the time duration of each step for individual inputs. Each line plot corresponds to a single input, and the y-axis represents the amount of time passed during the execution of each step"
   ]
  },
  {
   "cell_type": "markdown",
   "metadata": {},
   "source": [
    "## Looking at time and File size\n",
    "\n",
    "Here we are exploring  the direct relationship between time, file size, and memory utilization in the 'cp_process' workflow of CytoSnake. This analysis aims to establish a quantitative connection between these variables, providing a clearer understanding of how they impact the workflow's performance and resource utilization."
   ]
  },
  {
   "cell_type": "code",
   "execution_count": 12,
   "metadata": {},
   "outputs": [
    {
     "data": {
      "text/html": [
       "<div>\n",
       "<style scoped>\n",
       "    .dataframe tbody tr th:only-of-type {\n",
       "        vertical-align: middle;\n",
       "    }\n",
       "\n",
       "    .dataframe tbody tr th {\n",
       "        vertical-align: top;\n",
       "    }\n",
       "\n",
       "    .dataframe thead th {\n",
       "        text-align: right;\n",
       "    }\n",
       "</style>\n",
       "<table border=\"1\" class=\"dataframe\">\n",
       "  <thead>\n",
       "    <tr style=\"text-align: right;\">\n",
       "      <th></th>\n",
       "      <th>input_name</th>\n",
       "      <th>file_size</th>\n",
       "      <th>peak_memory</th>\n",
       "      <th>total_allocation</th>\n",
       "      <th>time_duration</th>\n",
       "    </tr>\n",
       "  </thead>\n",
       "  <tbody>\n",
       "    <tr>\n",
       "      <th>0</th>\n",
       "      <td>SQ00014610</td>\n",
       "      <td>21762.960</td>\n",
       "      <td>602.507991</td>\n",
       "      <td>210796680</td>\n",
       "      <td>1297.944</td>\n",
       "    </tr>\n",
       "    <tr>\n",
       "      <th>1</th>\n",
       "      <td>SQ00014611</td>\n",
       "      <td>21277.399</td>\n",
       "      <td>588.950423</td>\n",
       "      <td>193984074</td>\n",
       "      <td>1280.323</td>\n",
       "    </tr>\n",
       "    <tr>\n",
       "      <th>2</th>\n",
       "      <td>SQ00014612</td>\n",
       "      <td>21060.905</td>\n",
       "      <td>582.804961</td>\n",
       "      <td>196730104</td>\n",
       "      <td>1219.602</td>\n",
       "    </tr>\n",
       "    <tr>\n",
       "      <th>7</th>\n",
       "      <td>SQ00014617</td>\n",
       "      <td>12456.449</td>\n",
       "      <td>338.065175</td>\n",
       "      <td>249389625</td>\n",
       "      <td>981.426</td>\n",
       "    </tr>\n",
       "    <tr>\n",
       "      <th>8</th>\n",
       "      <td>SQ00014618</td>\n",
       "      <td>12144.017</td>\n",
       "      <td>328.636603</td>\n",
       "      <td>246293861</td>\n",
       "      <td>904.773</td>\n",
       "    </tr>\n",
       "    <tr>\n",
       "      <th>6</th>\n",
       "      <td>SQ00014616</td>\n",
       "      <td>11995.028</td>\n",
       "      <td>324.835086</td>\n",
       "      <td>229781307</td>\n",
       "      <td>849.220</td>\n",
       "    </tr>\n",
       "    <tr>\n",
       "      <th>4</th>\n",
       "      <td>SQ00014614</td>\n",
       "      <td>11135.101</td>\n",
       "      <td>304.234849</td>\n",
       "      <td>215662491</td>\n",
       "      <td>754.069</td>\n",
       "    </tr>\n",
       "    <tr>\n",
       "      <th>5</th>\n",
       "      <td>SQ00014615</td>\n",
       "      <td>11146.898</td>\n",
       "      <td>303.290885</td>\n",
       "      <td>196388216</td>\n",
       "      <td>733.884</td>\n",
       "    </tr>\n",
       "    <tr>\n",
       "      <th>3</th>\n",
       "      <td>SQ00014613</td>\n",
       "      <td>10208.352</td>\n",
       "      <td>277.620282</td>\n",
       "      <td>208466301</td>\n",
       "      <td>714.050</td>\n",
       "    </tr>\n",
       "  </tbody>\n",
       "</table>\n",
       "</div>"
      ],
      "text/plain": [
       "   input_name  file_size  peak_memory  total_allocation  time_duration\n",
       "0  SQ00014610  21762.960   602.507991         210796680       1297.944\n",
       "1  SQ00014611  21277.399   588.950423         193984074       1280.323\n",
       "2  SQ00014612  21060.905   582.804961         196730104       1219.602\n",
       "7  SQ00014617  12456.449   338.065175         249389625        981.426\n",
       "8  SQ00014618  12144.017   328.636603         246293861        904.773\n",
       "6  SQ00014616  11995.028   324.835086         229781307        849.220\n",
       "4  SQ00014614  11135.101   304.234849         215662491        754.069\n",
       "5  SQ00014615  11146.898   303.290885         196388216        733.884\n",
       "3  SQ00014613  10208.352   277.620282         208466301        714.050"
      ]
     },
     "execution_count": 12,
     "metadata": {},
     "output_type": "execute_result"
    }
   ],
   "source": [
    "## Here we are creatingj\n",
    "time_size_df = workflow_per_input_df.dropna().sort_values(\n",
    "    by=[\"time_duration\"], ascending=False\n",
    ")\n",
    "time_size_df"
   ]
  },
  {
   "cell_type": "code",
   "execution_count": 13,
   "metadata": {},
   "outputs": [
    {
     "data": {
      "application/vnd.plotly.v1+json": {
       "config": {
        "plotlyServerURL": "https://plot.ly"
       },
       "data": [
        {
         "alignmentgroup": "True",
         "hovertemplate": "Input Name=%{x}<br>Time Duration=%{y}<br>Peak Memory Usage=%{marker.color}<extra></extra>",
         "legendgroup": "",
         "marker": {
          "color": [
           602.5079908370972,
           588.9504232406616,
           582.8049612045288,
           338.0651750564575,
           328.6366033554077,
           324.83508586883545,
           304.23484897613525,
           303.29088497161865,
           277.62028217315674
          ],
          "coloraxis": "coloraxis",
          "pattern": {
           "shape": ""
          }
         },
         "name": "",
         "offsetgroup": "",
         "orientation": "v",
         "showlegend": false,
         "text": [
          602.5079908370972,
          588.9504232406616,
          582.8049612045288,
          338.0651750564575,
          328.6366033554077,
          324.83508586883545,
          304.23484897613525,
          303.29088497161865,
          277.62028217315674
         ],
         "textposition": "outside",
         "texttemplate": "%{text:.2f}",
         "type": "bar",
         "x": [
          "SQ00014610",
          "SQ00014611",
          "SQ00014612",
          "SQ00014617",
          "SQ00014618",
          "SQ00014616",
          "SQ00014614",
          "SQ00014615",
          "SQ00014613"
         ],
         "xaxis": "x",
         "y": [
          1297.9439999999997,
          1280.323,
          1219.602,
          981.426,
          904.773,
          849.22,
          754.0690000000001,
          733.884,
          714.05
         ],
         "yaxis": "y"
        }
       ],
       "layout": {
        "barmode": "relative",
        "coloraxis": {
         "colorbar": {
          "title": {
           "text": "Peak Memory Usage"
          }
         },
         "colorscale": [
          [
           0,
           "#0d0887"
          ],
          [
           0.1111111111111111,
           "#46039f"
          ],
          [
           0.2222222222222222,
           "#7201a8"
          ],
          [
           0.3333333333333333,
           "#9c179e"
          ],
          [
           0.4444444444444444,
           "#bd3786"
          ],
          [
           0.5555555555555556,
           "#d8576b"
          ],
          [
           0.6666666666666666,
           "#ed7953"
          ],
          [
           0.7777777777777778,
           "#fb9f3a"
          ],
          [
           0.8888888888888888,
           "#fdca26"
          ],
          [
           1,
           "#f0f921"
          ]
         ]
        },
        "legend": {
         "title": {
          "text": "Peak Memory (MB)"
         },
         "tracegroupgap": 0
        },
        "margin": {
         "t": 60
        },
        "template": {
         "data": {
          "bar": [
           {
            "error_x": {
             "color": "rgb(36,36,36)"
            },
            "error_y": {
             "color": "rgb(36,36,36)"
            },
            "marker": {
             "line": {
              "color": "white",
              "width": 0.5
             },
             "pattern": {
              "fillmode": "overlay",
              "size": 10,
              "solidity": 0.2
             }
            },
            "type": "bar"
           }
          ],
          "barpolar": [
           {
            "marker": {
             "line": {
              "color": "white",
              "width": 0.5
             },
             "pattern": {
              "fillmode": "overlay",
              "size": 10,
              "solidity": 0.2
             }
            },
            "type": "barpolar"
           }
          ],
          "carpet": [
           {
            "aaxis": {
             "endlinecolor": "rgb(36,36,36)",
             "gridcolor": "white",
             "linecolor": "white",
             "minorgridcolor": "white",
             "startlinecolor": "rgb(36,36,36)"
            },
            "baxis": {
             "endlinecolor": "rgb(36,36,36)",
             "gridcolor": "white",
             "linecolor": "white",
             "minorgridcolor": "white",
             "startlinecolor": "rgb(36,36,36)"
            },
            "type": "carpet"
           }
          ],
          "choropleth": [
           {
            "colorbar": {
             "outlinewidth": 1,
             "tickcolor": "rgb(36,36,36)",
             "ticks": "outside"
            },
            "type": "choropleth"
           }
          ],
          "contour": [
           {
            "colorbar": {
             "outlinewidth": 1,
             "tickcolor": "rgb(36,36,36)",
             "ticks": "outside"
            },
            "colorscale": [
             [
              0,
              "#440154"
             ],
             [
              0.1111111111111111,
              "#482878"
             ],
             [
              0.2222222222222222,
              "#3e4989"
             ],
             [
              0.3333333333333333,
              "#31688e"
             ],
             [
              0.4444444444444444,
              "#26828e"
             ],
             [
              0.5555555555555556,
              "#1f9e89"
             ],
             [
              0.6666666666666666,
              "#35b779"
             ],
             [
              0.7777777777777778,
              "#6ece58"
             ],
             [
              0.8888888888888888,
              "#b5de2b"
             ],
             [
              1,
              "#fde725"
             ]
            ],
            "type": "contour"
           }
          ],
          "contourcarpet": [
           {
            "colorbar": {
             "outlinewidth": 1,
             "tickcolor": "rgb(36,36,36)",
             "ticks": "outside"
            },
            "type": "contourcarpet"
           }
          ],
          "heatmap": [
           {
            "colorbar": {
             "outlinewidth": 1,
             "tickcolor": "rgb(36,36,36)",
             "ticks": "outside"
            },
            "colorscale": [
             [
              0,
              "#440154"
             ],
             [
              0.1111111111111111,
              "#482878"
             ],
             [
              0.2222222222222222,
              "#3e4989"
             ],
             [
              0.3333333333333333,
              "#31688e"
             ],
             [
              0.4444444444444444,
              "#26828e"
             ],
             [
              0.5555555555555556,
              "#1f9e89"
             ],
             [
              0.6666666666666666,
              "#35b779"
             ],
             [
              0.7777777777777778,
              "#6ece58"
             ],
             [
              0.8888888888888888,
              "#b5de2b"
             ],
             [
              1,
              "#fde725"
             ]
            ],
            "type": "heatmap"
           }
          ],
          "heatmapgl": [
           {
            "colorbar": {
             "outlinewidth": 1,
             "tickcolor": "rgb(36,36,36)",
             "ticks": "outside"
            },
            "colorscale": [
             [
              0,
              "#440154"
             ],
             [
              0.1111111111111111,
              "#482878"
             ],
             [
              0.2222222222222222,
              "#3e4989"
             ],
             [
              0.3333333333333333,
              "#31688e"
             ],
             [
              0.4444444444444444,
              "#26828e"
             ],
             [
              0.5555555555555556,
              "#1f9e89"
             ],
             [
              0.6666666666666666,
              "#35b779"
             ],
             [
              0.7777777777777778,
              "#6ece58"
             ],
             [
              0.8888888888888888,
              "#b5de2b"
             ],
             [
              1,
              "#fde725"
             ]
            ],
            "type": "heatmapgl"
           }
          ],
          "histogram": [
           {
            "marker": {
             "line": {
              "color": "white",
              "width": 0.6
             }
            },
            "type": "histogram"
           }
          ],
          "histogram2d": [
           {
            "colorbar": {
             "outlinewidth": 1,
             "tickcolor": "rgb(36,36,36)",
             "ticks": "outside"
            },
            "colorscale": [
             [
              0,
              "#440154"
             ],
             [
              0.1111111111111111,
              "#482878"
             ],
             [
              0.2222222222222222,
              "#3e4989"
             ],
             [
              0.3333333333333333,
              "#31688e"
             ],
             [
              0.4444444444444444,
              "#26828e"
             ],
             [
              0.5555555555555556,
              "#1f9e89"
             ],
             [
              0.6666666666666666,
              "#35b779"
             ],
             [
              0.7777777777777778,
              "#6ece58"
             ],
             [
              0.8888888888888888,
              "#b5de2b"
             ],
             [
              1,
              "#fde725"
             ]
            ],
            "type": "histogram2d"
           }
          ],
          "histogram2dcontour": [
           {
            "colorbar": {
             "outlinewidth": 1,
             "tickcolor": "rgb(36,36,36)",
             "ticks": "outside"
            },
            "colorscale": [
             [
              0,
              "#440154"
             ],
             [
              0.1111111111111111,
              "#482878"
             ],
             [
              0.2222222222222222,
              "#3e4989"
             ],
             [
              0.3333333333333333,
              "#31688e"
             ],
             [
              0.4444444444444444,
              "#26828e"
             ],
             [
              0.5555555555555556,
              "#1f9e89"
             ],
             [
              0.6666666666666666,
              "#35b779"
             ],
             [
              0.7777777777777778,
              "#6ece58"
             ],
             [
              0.8888888888888888,
              "#b5de2b"
             ],
             [
              1,
              "#fde725"
             ]
            ],
            "type": "histogram2dcontour"
           }
          ],
          "mesh3d": [
           {
            "colorbar": {
             "outlinewidth": 1,
             "tickcolor": "rgb(36,36,36)",
             "ticks": "outside"
            },
            "type": "mesh3d"
           }
          ],
          "parcoords": [
           {
            "line": {
             "colorbar": {
              "outlinewidth": 1,
              "tickcolor": "rgb(36,36,36)",
              "ticks": "outside"
             }
            },
            "type": "parcoords"
           }
          ],
          "pie": [
           {
            "automargin": true,
            "type": "pie"
           }
          ],
          "scatter": [
           {
            "fillpattern": {
             "fillmode": "overlay",
             "size": 10,
             "solidity": 0.2
            },
            "type": "scatter"
           }
          ],
          "scatter3d": [
           {
            "line": {
             "colorbar": {
              "outlinewidth": 1,
              "tickcolor": "rgb(36,36,36)",
              "ticks": "outside"
             }
            },
            "marker": {
             "colorbar": {
              "outlinewidth": 1,
              "tickcolor": "rgb(36,36,36)",
              "ticks": "outside"
             }
            },
            "type": "scatter3d"
           }
          ],
          "scattercarpet": [
           {
            "marker": {
             "colorbar": {
              "outlinewidth": 1,
              "tickcolor": "rgb(36,36,36)",
              "ticks": "outside"
             }
            },
            "type": "scattercarpet"
           }
          ],
          "scattergeo": [
           {
            "marker": {
             "colorbar": {
              "outlinewidth": 1,
              "tickcolor": "rgb(36,36,36)",
              "ticks": "outside"
             }
            },
            "type": "scattergeo"
           }
          ],
          "scattergl": [
           {
            "marker": {
             "colorbar": {
              "outlinewidth": 1,
              "tickcolor": "rgb(36,36,36)",
              "ticks": "outside"
             }
            },
            "type": "scattergl"
           }
          ],
          "scattermapbox": [
           {
            "marker": {
             "colorbar": {
              "outlinewidth": 1,
              "tickcolor": "rgb(36,36,36)",
              "ticks": "outside"
             }
            },
            "type": "scattermapbox"
           }
          ],
          "scatterpolar": [
           {
            "marker": {
             "colorbar": {
              "outlinewidth": 1,
              "tickcolor": "rgb(36,36,36)",
              "ticks": "outside"
             }
            },
            "type": "scatterpolar"
           }
          ],
          "scatterpolargl": [
           {
            "marker": {
             "colorbar": {
              "outlinewidth": 1,
              "tickcolor": "rgb(36,36,36)",
              "ticks": "outside"
             }
            },
            "type": "scatterpolargl"
           }
          ],
          "scatterternary": [
           {
            "marker": {
             "colorbar": {
              "outlinewidth": 1,
              "tickcolor": "rgb(36,36,36)",
              "ticks": "outside"
             }
            },
            "type": "scatterternary"
           }
          ],
          "surface": [
           {
            "colorbar": {
             "outlinewidth": 1,
             "tickcolor": "rgb(36,36,36)",
             "ticks": "outside"
            },
            "colorscale": [
             [
              0,
              "#440154"
             ],
             [
              0.1111111111111111,
              "#482878"
             ],
             [
              0.2222222222222222,
              "#3e4989"
             ],
             [
              0.3333333333333333,
              "#31688e"
             ],
             [
              0.4444444444444444,
              "#26828e"
             ],
             [
              0.5555555555555556,
              "#1f9e89"
             ],
             [
              0.6666666666666666,
              "#35b779"
             ],
             [
              0.7777777777777778,
              "#6ece58"
             ],
             [
              0.8888888888888888,
              "#b5de2b"
             ],
             [
              1,
              "#fde725"
             ]
            ],
            "type": "surface"
           }
          ],
          "table": [
           {
            "cells": {
             "fill": {
              "color": "rgb(237,237,237)"
             },
             "line": {
              "color": "white"
             }
            },
            "header": {
             "fill": {
              "color": "rgb(217,217,217)"
             },
             "line": {
              "color": "white"
             }
            },
            "type": "table"
           }
          ]
         },
         "layout": {
          "annotationdefaults": {
           "arrowhead": 0,
           "arrowwidth": 1
          },
          "autotypenumbers": "strict",
          "coloraxis": {
           "colorbar": {
            "outlinewidth": 1,
            "tickcolor": "rgb(36,36,36)",
            "ticks": "outside"
           }
          },
          "colorscale": {
           "diverging": [
            [
             0,
             "rgb(103,0,31)"
            ],
            [
             0.1,
             "rgb(178,24,43)"
            ],
            [
             0.2,
             "rgb(214,96,77)"
            ],
            [
             0.3,
             "rgb(244,165,130)"
            ],
            [
             0.4,
             "rgb(253,219,199)"
            ],
            [
             0.5,
             "rgb(247,247,247)"
            ],
            [
             0.6,
             "rgb(209,229,240)"
            ],
            [
             0.7,
             "rgb(146,197,222)"
            ],
            [
             0.8,
             "rgb(67,147,195)"
            ],
            [
             0.9,
             "rgb(33,102,172)"
            ],
            [
             1,
             "rgb(5,48,97)"
            ]
           ],
           "sequential": [
            [
             0,
             "#440154"
            ],
            [
             0.1111111111111111,
             "#482878"
            ],
            [
             0.2222222222222222,
             "#3e4989"
            ],
            [
             0.3333333333333333,
             "#31688e"
            ],
            [
             0.4444444444444444,
             "#26828e"
            ],
            [
             0.5555555555555556,
             "#1f9e89"
            ],
            [
             0.6666666666666666,
             "#35b779"
            ],
            [
             0.7777777777777778,
             "#6ece58"
            ],
            [
             0.8888888888888888,
             "#b5de2b"
            ],
            [
             1,
             "#fde725"
            ]
           ],
           "sequentialminus": [
            [
             0,
             "#440154"
            ],
            [
             0.1111111111111111,
             "#482878"
            ],
            [
             0.2222222222222222,
             "#3e4989"
            ],
            [
             0.3333333333333333,
             "#31688e"
            ],
            [
             0.4444444444444444,
             "#26828e"
            ],
            [
             0.5555555555555556,
             "#1f9e89"
            ],
            [
             0.6666666666666666,
             "#35b779"
            ],
            [
             0.7777777777777778,
             "#6ece58"
            ],
            [
             0.8888888888888888,
             "#b5de2b"
            ],
            [
             1,
             "#fde725"
            ]
           ]
          },
          "colorway": [
           "#1F77B4",
           "#FF7F0E",
           "#2CA02C",
           "#D62728",
           "#9467BD",
           "#8C564B",
           "#E377C2",
           "#7F7F7F",
           "#BCBD22",
           "#17BECF"
          ],
          "font": {
           "color": "rgb(36,36,36)"
          },
          "geo": {
           "bgcolor": "white",
           "lakecolor": "white",
           "landcolor": "white",
           "showlakes": true,
           "showland": true,
           "subunitcolor": "white"
          },
          "hoverlabel": {
           "align": "left"
          },
          "hovermode": "closest",
          "mapbox": {
           "style": "light"
          },
          "paper_bgcolor": "white",
          "plot_bgcolor": "white",
          "polar": {
           "angularaxis": {
            "gridcolor": "rgb(232,232,232)",
            "linecolor": "rgb(36,36,36)",
            "showgrid": false,
            "showline": true,
            "ticks": "outside"
           },
           "bgcolor": "white",
           "radialaxis": {
            "gridcolor": "rgb(232,232,232)",
            "linecolor": "rgb(36,36,36)",
            "showgrid": false,
            "showline": true,
            "ticks": "outside"
           }
          },
          "scene": {
           "xaxis": {
            "backgroundcolor": "white",
            "gridcolor": "rgb(232,232,232)",
            "gridwidth": 2,
            "linecolor": "rgb(36,36,36)",
            "showbackground": true,
            "showgrid": false,
            "showline": true,
            "ticks": "outside",
            "zeroline": false,
            "zerolinecolor": "rgb(36,36,36)"
           },
           "yaxis": {
            "backgroundcolor": "white",
            "gridcolor": "rgb(232,232,232)",
            "gridwidth": 2,
            "linecolor": "rgb(36,36,36)",
            "showbackground": true,
            "showgrid": false,
            "showline": true,
            "ticks": "outside",
            "zeroline": false,
            "zerolinecolor": "rgb(36,36,36)"
           },
           "zaxis": {
            "backgroundcolor": "white",
            "gridcolor": "rgb(232,232,232)",
            "gridwidth": 2,
            "linecolor": "rgb(36,36,36)",
            "showbackground": true,
            "showgrid": false,
            "showline": true,
            "ticks": "outside",
            "zeroline": false,
            "zerolinecolor": "rgb(36,36,36)"
           }
          },
          "shapedefaults": {
           "fillcolor": "black",
           "line": {
            "width": 0
           },
           "opacity": 0.3
          },
          "ternary": {
           "aaxis": {
            "gridcolor": "rgb(232,232,232)",
            "linecolor": "rgb(36,36,36)",
            "showgrid": false,
            "showline": true,
            "ticks": "outside"
           },
           "baxis": {
            "gridcolor": "rgb(232,232,232)",
            "linecolor": "rgb(36,36,36)",
            "showgrid": false,
            "showline": true,
            "ticks": "outside"
           },
           "bgcolor": "white",
           "caxis": {
            "gridcolor": "rgb(232,232,232)",
            "linecolor": "rgb(36,36,36)",
            "showgrid": false,
            "showline": true,
            "ticks": "outside"
           }
          },
          "title": {
           "x": 0.05
          },
          "xaxis": {
           "automargin": true,
           "gridcolor": "rgb(232,232,232)",
           "linecolor": "rgb(36,36,36)",
           "showgrid": false,
           "showline": true,
           "ticks": "outside",
           "title": {
            "standoff": 15
           },
           "zeroline": false,
           "zerolinecolor": "rgb(36,36,36)"
          },
          "yaxis": {
           "automargin": true,
           "gridcolor": "rgb(232,232,232)",
           "linecolor": "rgb(36,36,36)",
           "showgrid": false,
           "showline": true,
           "ticks": "outside",
           "title": {
            "standoff": 15
           },
           "zeroline": false,
           "zerolinecolor": "rgb(36,36,36)"
          }
         }
        },
        "title": {
         "text": "Time Duration vs. Input Name with Peak Memory Usage"
        },
        "xaxis": {
         "anchor": "y",
         "domain": [
          0,
          1
         ],
         "title": {
          "text": "Plate Name"
         }
        },
        "yaxis": {
         "anchor": "x",
         "domain": [
          0,
          1
         ],
         "title": {
          "text": "Time Duration (secs)"
         }
        }
       }
      }
     },
     "metadata": {},
     "output_type": "display_data"
    }
   ],
   "source": [
    "# plotting using input file name and time duration as our X and Y and peak memory\n",
    "# as the additional variable\n",
    "fig = px.bar(\n",
    "    time_size_df,\n",
    "    x=\"input_name\",\n",
    "    y=\"time_duration\",\n",
    "    color=\"peak_memory\",\n",
    "    text=\"peak_memory\",\n",
    "    labels={\n",
    "        \"input_name\": \"Input Name\",\n",
    "        \"time_duration\": \"Time Duration\",\n",
    "        \"peak_memory\": \"Peak Memory Usage\",\n",
    "    },\n",
    ")\n",
    "fig.update_traces(texttemplate=\"%{text:.2f}\", textposition=\"outside\")\n",
    "\n",
    "fig.update_layout(\n",
    "    title=\"Time Duration vs. Input Name with Peak Memory Usage\",\n",
    "    xaxis_title=\"Plate Name\",\n",
    "    yaxis_title=\"Time Duration (secs)\",\n",
    "    legend_title=\"Peak Memory (MB)\",\n",
    "    barmode=\"relative\",\n",
    "    template=\"simple_white\",\n",
    ")\n",
    "\n",
    "fig.show()\n",
    "\n",
    "# save plot\n",
    "fig2.write_image(\"images/time_durration_and_size.png\")"
   ]
  },
  {
   "cell_type": "markdown",
   "metadata": {},
   "source": [
    "> Figure 4: This bar graph illustrates the relationship between `Time Duration` and `Peak Memory Usage` for different input datasets `Plate Name`. Each bar represents the time duration of a specific dataset, with the color indicating the corresponding peak memory usage. The legend displays the scale of peak memory values, while the x-axis represents the input names. "
   ]
  }
 ],
 "metadata": {
  "kernelspec": {
   "display_name": "CytoSnake-Benchmarks",
   "language": "python",
   "name": "python3"
  },
  "language_info": {
   "codemirror_mode": {
    "name": "ipython",
    "version": 3
   },
   "file_extension": ".py",
   "mimetype": "text/x-python",
   "name": "python",
   "nbconvert_exporter": "python",
   "pygments_lexer": "ipython3",
   "version": "3.11.5"
  }
 },
 "nbformat": 4,
 "nbformat_minor": 2
}
