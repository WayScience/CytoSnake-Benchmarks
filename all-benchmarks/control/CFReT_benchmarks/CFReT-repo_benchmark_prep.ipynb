{
 "cells": [
  {
   "cell_type": "markdown",
   "metadata": {},
   "source": [
    "# Benchmark Preparation from NF1 Data Repository\n",
    "\n",
    "This notebook focuses on the conversion of binarized files generated from Memray into JSON files within the context of the CFReT Data Repository. Furthermore, the notebook generates a JSON file that stores information related to the sizes of input files, allowing for the monitoring of their initial sizes at the start of the workflow. \n",
    "\n",
    "**Note:** To successfully execute this notebook, it must reside in the [CFReT-data-repo](https://github.com/WayScience/nf1_cellpainting_data), specifically within this [directory](https://github.com/WayScience/CFReT_data/tree/main/3.process_cfret_features). Ensure that the `benchmarks` folder is present in that directory.\n",
    "\n",
    "The inclusion of this notebook here aims to provide transparency regarding the benchmarking preparations before integrating them into the [CytoSnake-Benchmarks](https://github.com/WayScience/CytoSnake-Benchmarks) repository."
   ]
  },
  {
   "cell_type": "code",
   "execution_count": 2,
   "metadata": {},
   "outputs": [],
   "source": [
    "import json\n",
    "import subprocess\n",
    "import pathlib"
   ]
  },
  {
   "cell_type": "markdown",
   "metadata": {},
   "source": [
    "## Setting parameters\n",
    "\n",
    "This section contains all the parameters used to run this benchmark"
   ]
  },
  {
   "cell_type": "code",
   "execution_count": 4,
   "metadata": {},
   "outputs": [],
   "source": [
    "# constants\n",
    "CWD_PATH = pathlib.Path().resolve(strict=True)\n",
    "\n",
    "# inputs\n",
    "DATA_DIR = pathlib.Path(\"./data/converted_profiles/\").resolve(strict=True)\n",
    "BENCHMARK_DIR = pathlib.Path(\"./benchmarks/\").resolve(strict=True)"
   ]
  },
  {
   "cell_type": "markdown",
   "metadata": {},
   "source": [
    "## Benchmarking Preparation\n",
    "\n",
    "In this section, we collect information in  regards to file sizes and store it JSON file. Next, we utilize `Memray's` [stats](https://bloomberg.github.io/memray/stats.html) command line tool, leveraging the `subprocess` module, to convert all binary files (bin files) into JSON files.\n",
    "\n",
    "All processed files are systematically stored within their respective benchmark folders."
   ]
  },
  {
   "cell_type": "markdown",
   "metadata": {},
   "source": [
    "## Getting input file size \n",
    "\n",
    "Extracting file size information from the provided directory path and transforming it into a JSON file."
   ]
  },
  {
   "cell_type": "code",
   "execution_count": 3,
   "metadata": {},
   "outputs": [],
   "source": [
    "# get all data files\n",
    "plate_files = DATA_DIR.glob(\"*.parquet\")\n",
    "\n",
    "# create a dictionary that contains the plate name and file size in MB\n",
    "file_size_map = {}\n",
    "for plate_name in plate_files:\n",
    "    name = plate_name.stem.split(\"_converted\")[0]\n",
    "    file_size = plate_name.stat().st_size\n",
    "\n",
    "    # converting bytes to MegaBytes\n",
    "    file_size_map[name] = round(file_size / 1024**2, 3)\n",
    "\n",
    "# writing out json file containing file size info\n",
    "with open(\"file_size.json\", encoding=\"utf-8\", mode=\"w\") as stream:\n",
    "    json.dump(file_size_map, stream, indent=4)"
   ]
  },
  {
   "cell_type": "markdown",
   "metadata": {},
   "source": [
    "### Converting all `.bin` into `.json` files\n",
    "\n",
    "Converting all bin files into json files."
   ]
  },
  {
   "cell_type": "code",
   "execution_count": 4,
   "metadata": {},
   "outputs": [
    {
     "name": "stdout",
     "output_type": "stream",
     "text": [
      "memray stats --json --output /home/erikserrano/Development/CytoSnake-Benchmarks/all-benchmarks/control/CFReT_benchmarks/CFReT_data/3.process_cfret_features/benchmarks/localhost231120090001_CFReT_annotate_benchmark.json --force /home/erikserrano/Development/CytoSnake-Benchmarks/all-benchmarks/control/CFReT_benchmarks/CFReT_data/3.process_cfret_features/benchmarks/localhost231120090001_CFReT_annotate_benchmark.bin\n"
     ]
    },
    {
     "name": "stdout",
     "output_type": "stream",
     "text": [
      "benchmarks/localhost231120090001_CFReT_annotate_benchmark.bin was successfully converted into benchmarks/localhost231120090001_CFReT_annotate_benchmark.json\n",
      "memray stats --json --output /home/erikserrano/Development/CytoSnake-Benchmarks/all-benchmarks/control/CFReT_benchmarks/CFReT_data/3.process_cfret_features/benchmarks/localhost220513100001_KK22-05-198_FactinAdjusted_CFReT_normalize_benchmark.json --force /home/erikserrano/Development/CytoSnake-Benchmarks/all-benchmarks/control/CFReT_benchmarks/CFReT_data/3.process_cfret_features/benchmarks/localhost220513100001_KK22-05-198_FactinAdjusted_CFReT_normalize_benchmark.bin\n",
      "benchmarks/localhost220513100001_KK22-05-198_FactinAdjusted_CFReT_normalize_benchmark.bin was successfully converted into benchmarks/localhost220513100001_KK22-05-198_FactinAdjusted_CFReT_normalize_benchmark.json\n",
      "memray stats --json --output /home/erikserrano/Development/CytoSnake-Benchmarks/all-benchmarks/control/CFReT_benchmarks/CFReT_data/3.process_cfret_features/benchmarks/localhost220512140003_KK22-05-198_CFReT_feature_select_benchmark.json --force /home/erikserrano/Development/CytoSnake-Benchmarks/all-benchmarks/control/CFReT_benchmarks/CFReT_data/3.process_cfret_features/benchmarks/localhost220512140003_KK22-05-198_CFReT_feature_select_benchmark.bin\n",
      "benchmarks/localhost220512140003_KK22-05-198_CFReT_feature_select_benchmark.bin was successfully converted into benchmarks/localhost220512140003_KK22-05-198_CFReT_feature_select_benchmark.json\n",
      "memray stats --json --output /home/erikserrano/Development/CytoSnake-Benchmarks/all-benchmarks/control/CFReT_benchmarks/CFReT_data/3.process_cfret_features/benchmarks/localhost230405150001_CFReT_normalize_benchmark.json --force /home/erikserrano/Development/CytoSnake-Benchmarks/all-benchmarks/control/CFReT_benchmarks/CFReT_data/3.process_cfret_features/benchmarks/localhost230405150001_CFReT_normalize_benchmark.bin\n",
      "benchmarks/localhost230405150001_CFReT_normalize_benchmark.bin was successfully converted into benchmarks/localhost230405150001_CFReT_normalize_benchmark.json\n",
      "memray stats --json --output /home/erikserrano/Development/CytoSnake-Benchmarks/all-benchmarks/control/CFReT_benchmarks/CFReT_data/3.process_cfret_features/benchmarks/localhost220512140003_KK22-05-198_CFReT_normalize_benchmark.json --force /home/erikserrano/Development/CytoSnake-Benchmarks/all-benchmarks/control/CFReT_benchmarks/CFReT_data/3.process_cfret_features/benchmarks/localhost220512140003_KK22-05-198_CFReT_normalize_benchmark.bin\n",
      "benchmarks/localhost220512140003_KK22-05-198_CFReT_normalize_benchmark.bin was successfully converted into benchmarks/localhost220512140003_KK22-05-198_CFReT_normalize_benchmark.json\n",
      "memray stats --json --output /home/erikserrano/Development/CytoSnake-Benchmarks/all-benchmarks/control/CFReT_benchmarks/CFReT_data/3.process_cfret_features/benchmarks/localhost230405150001_CFReT_annotate_benchmark.json --force /home/erikserrano/Development/CytoSnake-Benchmarks/all-benchmarks/control/CFReT_benchmarks/CFReT_data/3.process_cfret_features/benchmarks/localhost230405150001_CFReT_annotate_benchmark.bin\n",
      "benchmarks/localhost230405150001_CFReT_annotate_benchmark.bin was successfully converted into benchmarks/localhost230405150001_CFReT_annotate_benchmark.json\n",
      "memray stats --json --output /home/erikserrano/Development/CytoSnake-Benchmarks/all-benchmarks/control/CFReT_benchmarks/CFReT_data/3.process_cfret_features/benchmarks/localhost230405150001_CFReT_feature_select_benchmark.json --force /home/erikserrano/Development/CytoSnake-Benchmarks/all-benchmarks/control/CFReT_benchmarks/CFReT_data/3.process_cfret_features/benchmarks/localhost230405150001_CFReT_feature_select_benchmark.bin\n",
      "benchmarks/localhost230405150001_CFReT_feature_select_benchmark.bin was successfully converted into benchmarks/localhost230405150001_CFReT_feature_select_benchmark.json\n",
      "memray stats --json --output /home/erikserrano/Development/CytoSnake-Benchmarks/all-benchmarks/control/CFReT_benchmarks/CFReT_data/3.process_cfret_features/benchmarks/localhost220513100001_KK22-05-198_FactinAdjusted_CFReT_feature_select_benchmark.json --force /home/erikserrano/Development/CytoSnake-Benchmarks/all-benchmarks/control/CFReT_benchmarks/CFReT_data/3.process_cfret_features/benchmarks/localhost220513100001_KK22-05-198_FactinAdjusted_CFReT_feature_select_benchmark.bin\n",
      "benchmarks/localhost220513100001_KK22-05-198_FactinAdjusted_CFReT_feature_select_benchmark.bin was successfully converted into benchmarks/localhost220513100001_KK22-05-198_FactinAdjusted_CFReT_feature_select_benchmark.json\n",
      "memray stats --json --output /home/erikserrano/Development/CytoSnake-Benchmarks/all-benchmarks/control/CFReT_benchmarks/CFReT_data/3.process_cfret_features/benchmarks/localhost231120090001_CFReT_feature_select_benchmark.json --force /home/erikserrano/Development/CytoSnake-Benchmarks/all-benchmarks/control/CFReT_benchmarks/CFReT_data/3.process_cfret_features/benchmarks/localhost231120090001_CFReT_feature_select_benchmark.bin\n",
      "benchmarks/localhost231120090001_CFReT_feature_select_benchmark.bin was successfully converted into benchmarks/localhost231120090001_CFReT_feature_select_benchmark.json\n",
      "memray stats --json --output /home/erikserrano/Development/CytoSnake-Benchmarks/all-benchmarks/control/CFReT_benchmarks/CFReT_data/3.process_cfret_features/benchmarks/localhost220513100001_KK22-05-198_FactinAdjusted_CFReT_annotate_benchmark.json --force /home/erikserrano/Development/CytoSnake-Benchmarks/all-benchmarks/control/CFReT_benchmarks/CFReT_data/3.process_cfret_features/benchmarks/localhost220513100001_KK22-05-198_FactinAdjusted_CFReT_annotate_benchmark.bin\n",
      "benchmarks/localhost220513100001_KK22-05-198_FactinAdjusted_CFReT_annotate_benchmark.bin was successfully converted into benchmarks/localhost220513100001_KK22-05-198_FactinAdjusted_CFReT_annotate_benchmark.json\n",
      "memray stats --json --output /home/erikserrano/Development/CytoSnake-Benchmarks/all-benchmarks/control/CFReT_benchmarks/CFReT_data/3.process_cfret_features/benchmarks/localhost231120090001_CFReT_normalize_benchmark.json --force /home/erikserrano/Development/CytoSnake-Benchmarks/all-benchmarks/control/CFReT_benchmarks/CFReT_data/3.process_cfret_features/benchmarks/localhost231120090001_CFReT_normalize_benchmark.bin\n",
      "benchmarks/localhost231120090001_CFReT_normalize_benchmark.bin was successfully converted into benchmarks/localhost231120090001_CFReT_normalize_benchmark.json\n",
      "memray stats --json --output /home/erikserrano/Development/CytoSnake-Benchmarks/all-benchmarks/control/CFReT_benchmarks/CFReT_data/3.process_cfret_features/benchmarks/localhost220512140003_KK22-05-198_CFReT_annotate_benchmark.json --force /home/erikserrano/Development/CytoSnake-Benchmarks/all-benchmarks/control/CFReT_benchmarks/CFReT_data/3.process_cfret_features/benchmarks/localhost220512140003_KK22-05-198_CFReT_annotate_benchmark.bin\n",
      "benchmarks/localhost220512140003_KK22-05-198_CFReT_annotate_benchmark.bin was successfully converted into benchmarks/localhost220512140003_KK22-05-198_CFReT_annotate_benchmark.json\n"
     ]
    }
   ],
   "source": [
    "# converting all single benchmark files into json\n",
    "for bin_path in BENCHMARK_DIR.glob(\"*.bin\"):\n",
    "    json_out = BENCHMARK_DIR / f\"{bin_path.stem}.json\"\n",
    "\n",
    "    # # executing memray to convert bin files into json files\n",
    "    print(\n",
    "        \" \".join(\n",
    "            [\n",
    "                \"memray\",\n",
    "                \"stats\",\n",
    "                \"--json\",\n",
    "                \"--output\",\n",
    "                str(json_out),\n",
    "                \"--force\",\n",
    "                str(bin_path),\n",
    "            ],\n",
    "        )\n",
    "    )\n",
    "    memray_stats = subprocess.run(\n",
    "        [\n",
    "            \"memray\",\n",
    "            \"stats\",\n",
    "            \"--json\",\n",
    "            \"--output\",\n",
    "            str(json_out),\n",
    "            \"--force\",\n",
    "            str(bin_path),\n",
    "        ],\n",
    "        capture_output=True,\n",
    "        check=True,\n",
    "    )\n",
    "\n",
    "    # stdout message\n",
    "    print(\n",
    "        f\"{bin_path.relative_to(CWD_PATH)} was successfully converted into {json_out.relative_to(CWD_PATH)}\"\n",
    "    )"
   ]
  }
 ],
 "metadata": {
  "kernelspec": {
   "display_name": "cytosnake_benchmarks",
   "language": "python",
   "name": "python3"
  },
  "language_info": {
   "codemirror_mode": {
    "name": "ipython",
    "version": 3
   },
   "file_extension": ".py",
   "mimetype": "text/x-python",
   "name": "python",
   "nbconvert_exporter": "python",
   "pygments_lexer": "ipython3",
   "version": "3.11.5"
  }
 },
 "nbformat": 4,
 "nbformat_minor": 2
}
